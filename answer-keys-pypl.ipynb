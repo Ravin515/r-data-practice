{
 "cells": [
  {
   "cell_type": "markdown",
   "metadata": {},
   "source": [
    "# R data practice by polars"
   ]
  },
  {
   "cell_type": "code",
   "execution_count": 9,
   "metadata": {
    "dotnet_interactive": {
     "language": "csharp"
    },
    "polyglot_notebook": {
     "kernelName": "csharp"
    }
   },
   "outputs": [
    {
     "data": {
      "text/html": [
       "<div><style>\n",
       ".dataframe > thead > tr,\n",
       ".dataframe > tbody > tr {\n",
       "  text-align: right;\n",
       "  white-space: pre-wrap;\n",
       "}\n",
       "</style>\n",
       "<small>shape: (5, 15)</small><table border=\"1\" class=\"dataframe\"><thead><tr><th>symbol</th><th>date</th><th>pre_close</th><th>open</th><th>high</th><th>low</th><th>close</th><th>volume</th><th>amount</th><th>adj_factor</th><th>capt</th><th>index_w50</th><th>index_w300</th><th>index_w500</th><th>industry</th></tr><tr><td>str</td><td>i64</td><td>f64</td><td>f64</td><td>f64</td><td>f64</td><td>f64</td><td>i64</td><td>f64</td><td>f64</td><td>f64</td><td>f64</td><td>f64</td><td>f64</td><td>str</td></tr></thead><tbody><tr><td>&quot;600000.SH&quot;</td><td>20120104</td><td>8.49</td><td>8.54</td><td>8.56</td><td>8.39</td><td>8.41</td><td>34201379</td><td>2.90229551e8</td><td>6.655275</td><td>1.2550e11</td><td>0.046409</td><td>0.021259</td><td>0.0</td><td>&quot;BANKS&quot;</td></tr><tr><td>&quot;600000.SH&quot;</td><td>20120105</td><td>8.41</td><td>8.47</td><td>8.82</td><td>8.47</td><td>8.65</td><td>132116203</td><td>1.1448e9</td><td>6.655275</td><td>1.2908e11</td><td>0.046409</td><td>0.021259</td><td>0.0</td><td>&quot;BANKS&quot;</td></tr><tr><td>&quot;600000.SH&quot;</td><td>20120106</td><td>8.65</td><td>8.63</td><td>8.78</td><td>8.62</td><td>8.71</td><td>61778687</td><td>5.37043761e8</td><td>6.655275</td><td>1.2998e11</td><td>0.046409</td><td>0.021259</td><td>0.0</td><td>&quot;BANKS&quot;</td></tr><tr><td>&quot;600000.SH&quot;</td><td>20120109</td><td>8.71</td><td>8.72</td><td>8.99</td><td>8.68</td><td>8.95</td><td>80136249</td><td>7.11429611e8</td><td>6.655275</td><td>1.3356e11</td><td>0.046409</td><td>0.021259</td><td>0.0</td><td>&quot;BANKS&quot;</td></tr><tr><td>&quot;600000.SH&quot;</td><td>20120110</td><td>8.95</td><td>8.95</td><td>9.1</td><td>8.88</td><td>9.07</td><td>72004632</td><td>6.47206633e8</td><td>6.655275</td><td>1.3535e11</td><td>0.046409</td><td>0.021259</td><td>0.0</td><td>&quot;BANKS&quot;</td></tr></tbody></table></div>"
      ],
      "text/plain": [
       "shape: (5, 15)\n",
       "┌───────────┬──────────┬───────────┬──────┬───┬───────────┬────────────┬────────────┬──────────┐\n",
       "│ symbol    ┆ date     ┆ pre_close ┆ open ┆ … ┆ index_w50 ┆ index_w300 ┆ index_w500 ┆ industry │\n",
       "│ ---       ┆ ---      ┆ ---       ┆ ---  ┆   ┆ ---       ┆ ---        ┆ ---        ┆ ---      │\n",
       "│ str       ┆ i64      ┆ f64       ┆ f64  ┆   ┆ f64       ┆ f64        ┆ f64        ┆ str      │\n",
       "╞═══════════╪══════════╪═══════════╪══════╪═══╪═══════════╪════════════╪════════════╪══════════╡\n",
       "│ 600000.SH ┆ 20120104 ┆ 8.49      ┆ 8.54 ┆ … ┆ 0.046409  ┆ 0.021259   ┆ 0.0        ┆ BANKS    │\n",
       "│ 600000.SH ┆ 20120105 ┆ 8.41      ┆ 8.47 ┆ … ┆ 0.046409  ┆ 0.021259   ┆ 0.0        ┆ BANKS    │\n",
       "│ 600000.SH ┆ 20120106 ┆ 8.65      ┆ 8.63 ┆ … ┆ 0.046409  ┆ 0.021259   ┆ 0.0        ┆ BANKS    │\n",
       "│ 600000.SH ┆ 20120109 ┆ 8.71      ┆ 8.72 ┆ … ┆ 0.046409  ┆ 0.021259   ┆ 0.0        ┆ BANKS    │\n",
       "│ 600000.SH ┆ 20120110 ┆ 8.95      ┆ 8.95 ┆ … ┆ 0.046409  ┆ 0.021259   ┆ 0.0        ┆ BANKS    │\n",
       "└───────────┴──────────┴───────────┴──────┴───┴───────────┴────────────┴────────────┴──────────┘"
      ]
     },
     "execution_count": 9,
     "metadata": {},
     "output_type": "execute_result"
    }
   ],
   "source": [
    "import polars as pl\n",
    "import numpy as np\n",
    "data = (\n",
    "    pl.read_csv(\n",
    "        \"data/stock-market-data.csv\", \n",
    "        has_header= True, \n",
    "        infer_schema_length = int(1e12)\n",
    "    )\n",
    ")\n",
    "data[:5]"
   ]
  },
  {
   "cell_type": "markdown",
   "metadata": {},
   "source": [
    "## 1. 哪些股票的代码中包含\"8\"这个数字？"
   ]
  },
  {
   "cell_type": "code",
   "execution_count": null,
   "metadata": {},
   "outputs": [
    {
     "data": {
      "text/plain": [
       "['300128.SZ', '601558.SH', '000810.SZ', '300028.SZ', '000819.SZ']"
      ]
     },
     "execution_count": 29,
     "metadata": {},
     "output_type": "execute_result"
    }
   ],
   "source": [
    "(\n",
    "    data\n",
    "    .filter(\n",
    "        pl.col(\"symbol\").str.contains(\"8\")\n",
    "    )\n",
    "    [\"symbol\"]\n",
    "    .unique()\n",
    "    .to_list()\n",
    "    [:5]\n",
    ")"
   ]
  },
  {
   "cell_type": "markdown",
   "metadata": {},
   "source": [
    "## 2. 每天上涨和下跌的股票各有多少？"
   ]
  },
  {
   "cell_type": "code",
   "execution_count": null,
   "metadata": {},
   "outputs": [
    {
     "data": {
      "text/html": [
       "<div><style>\n",
       ".dataframe > thead > tr,\n",
       ".dataframe > tbody > tr {\n",
       "  text-align: right;\n",
       "  white-space: pre-wrap;\n",
       "}\n",
       "</style>\n",
       "<small>shape: (5, 3)</small><table border=\"1\" class=\"dataframe\"><thead><tr><th>date</th><th>tag</th><th>symbol</th></tr><tr><td>i64</td><td>str</td><td>u32</td></tr></thead><tbody><tr><td>20120104</td><td>&quot;上涨&quot;</td><td>191</td></tr><tr><td>20120104</td><td>&quot;下跌&quot;</td><td>2007</td></tr><tr><td>20120105</td><td>&quot;上涨&quot;</td><td>132</td></tr><tr><td>20120105</td><td>&quot;下跌&quot;</td><td>2071</td></tr><tr><td>20120106</td><td>&quot;上涨&quot;</td><td>1444</td></tr></tbody></table></div>"
      ],
      "text/plain": [
       "shape: (5, 3)\n",
       "┌──────────┬──────┬────────┐\n",
       "│ date     ┆ tag  ┆ symbol │\n",
       "│ ---      ┆ ---  ┆ ---    │\n",
       "│ i64      ┆ str  ┆ u32    │\n",
       "╞══════════╪══════╪════════╡\n",
       "│ 20120104 ┆ 上涨 ┆ 191    │\n",
       "│ 20120104 ┆ 下跌 ┆ 2007   │\n",
       "│ 20120105 ┆ 上涨 ┆ 132    │\n",
       "│ 20120105 ┆ 下跌 ┆ 2071   │\n",
       "│ 20120106 ┆ 上涨 ┆ 1444   │\n",
       "└──────────┴──────┴────────┘"
      ]
     },
     "execution_count": 4,
     "metadata": {},
     "output_type": "execute_result"
    }
   ],
   "source": [
    "\n",
    "data2 = (\n",
    "    data\n",
    "        .with_columns(\n",
    "            pl.when(pl.col(\"close\") - pl.col(\"pre_close\") > 0).then(pl.lit(\"上涨\"))\n",
    "            .when(pl.col(\"close\") - pl.col(\"pre_close\") == 0).then(pl.lit(\"不变\"))\n",
    "            .otherwise(pl.lit(\"下跌\"))\n",
    "            .alias(\"tag\")\n",
    "        )\n",
    "        .filter(\n",
    "            pl.col(\"tag\") != \"不变\"\n",
    "        )\n",
    "    )\n",
    "\n",
    "(\n",
    "    data2\n",
    "    .group_by([\"date\", \"tag\"])\n",
    "    .agg(pl.col(\"symbol\")\n",
    "        .unique()\n",
    "        .len()\n",
    "        )\n",
    "    .sort(\"date\")\n",
    "    [:5]\n",
    ")\n"
   ]
  },
  {
   "cell_type": "markdown",
   "metadata": {},
   "source": [
    "## 3. 每天每个交易所上涨、下跌的股票各有多少？"
   ]
  },
  {
   "cell_type": "code",
   "execution_count": null,
   "metadata": {},
   "outputs": [
    {
     "data": {
      "text/html": [
       "<div><style>\n",
       ".dataframe > thead > tr,\n",
       ".dataframe > tbody > tr {\n",
       "  text-align: right;\n",
       "  white-space: pre-wrap;\n",
       "}\n",
       "</style>\n",
       "<small>shape: (5, 3)</small><table border=\"1\" class=\"dataframe\"><thead><tr><th>date</th><th>exchange</th><th>symbol</th></tr><tr><td>i64</td><td>str</td><td>u32</td></tr></thead><tbody><tr><td>20120104</td><td>&quot;SZ&quot;</td><td>1319</td></tr><tr><td>20120104</td><td>&quot;SH&quot;</td><td>879</td></tr><tr><td>20120105</td><td>&quot;SZ&quot;</td><td>1323</td></tr><tr><td>20120105</td><td>&quot;SH&quot;</td><td>880</td></tr><tr><td>20120106</td><td>&quot;SH&quot;</td><td>842</td></tr></tbody></table></div>"
      ],
      "text/plain": [
       "shape: (5, 3)\n",
       "┌──────────┬──────────┬────────┐\n",
       "│ date     ┆ exchange ┆ symbol │\n",
       "│ ---      ┆ ---      ┆ ---    │\n",
       "│ i64      ┆ str      ┆ u32    │\n",
       "╞══════════╪══════════╪════════╡\n",
       "│ 20120104 ┆ SZ       ┆ 1319   │\n",
       "│ 20120104 ┆ SH       ┆ 879    │\n",
       "│ 20120105 ┆ SZ       ┆ 1323   │\n",
       "│ 20120105 ┆ SH       ┆ 880    │\n",
       "│ 20120106 ┆ SH       ┆ 842    │\n",
       "└──────────┴──────────┴────────┘"
      ]
     },
     "execution_count": 27,
     "metadata": {},
     "output_type": "execute_result"
    }
   ],
   "source": [
    "data3 = (\n",
    "    data\n",
    "    .with_columns(\n",
    "        pl.col(\"symbol\")\n",
    "            .str.slice(-2)\n",
    "            .alias(\"exchange\")\n",
    "            )\n",
    ")\n",
    "\n",
    "data3 = (\n",
    "    data3\n",
    "    .with_columns(\n",
    "        pl.when(pl.col(\"close\") - pl.col(\"pre_close\") > 0).then(pl.lit(\"上涨\"))\n",
    "        .when(pl.col(\"close\") - pl.col(\"pre_close\") == 0).then(pl.lit(\"不变\"))\n",
    "        .otherwise(pl.lit(\"下跌\"))\n",
    "        .alias(\"tag\")\n",
    "    )\n",
    "    .filter(\n",
    "        pl.col(\"tag\") != \"不变\"\n",
    "    )\n",
    ")\n",
    "\n",
    "(\n",
    "    data3\n",
    "    .group_by([\"date\", \"exchange\"])\n",
    "    .agg(pl.n_unique(\"symbol\"))\n",
    "    .sort(\"date\")\n",
    "    [:5]\n",
    ")"
   ]
  },
  {
   "cell_type": "markdown",
   "metadata": {},
   "source": [
    "## 4. 沪深300成分股中，每天上涨、下跌的股票各有多少？"
   ]
  },
  {
   "cell_type": "code",
   "execution_count": null,
   "metadata": {},
   "outputs": [
    {
     "data": {
      "text/html": [
       "<div><style>\n",
       ".dataframe > thead > tr,\n",
       ".dataframe > tbody > tr {\n",
       "  text-align: right;\n",
       "  white-space: pre-wrap;\n",
       "}\n",
       "</style>\n",
       "<small>shape: (5, 3)</small><table border=\"1\" class=\"dataframe\"><thead><tr><th>date</th><th>tag</th><th>symbol</th></tr><tr><td>i64</td><td>str</td><td>u32</td></tr></thead><tbody><tr><td>20120104</td><td>&quot;上涨&quot;</td><td>20</td></tr><tr><td>20120104</td><td>&quot;下跌&quot;</td><td>275</td></tr><tr><td>20120105</td><td>&quot;上涨&quot;</td><td>50</td></tr><tr><td>20120105</td><td>&quot;下跌&quot;</td><td>242</td></tr><tr><td>20120106</td><td>&quot;上涨&quot;</td><td>202</td></tr></tbody></table></div>"
      ],
      "text/plain": [
       "shape: (5, 3)\n",
       "┌──────────┬──────┬────────┐\n",
       "│ date     ┆ tag  ┆ symbol │\n",
       "│ ---      ┆ ---  ┆ ---    │\n",
       "│ i64      ┆ str  ┆ u32    │\n",
       "╞══════════╪══════╪════════╡\n",
       "│ 20120104 ┆ 上涨 ┆ 20     │\n",
       "│ 20120104 ┆ 下跌 ┆ 275    │\n",
       "│ 20120105 ┆ 上涨 ┆ 50     │\n",
       "│ 20120105 ┆ 下跌 ┆ 242    │\n",
       "│ 20120106 ┆ 上涨 ┆ 202    │\n",
       "└──────────┴──────┴────────┘"
      ]
     },
     "execution_count": 24,
     "metadata": {},
     "output_type": "execute_result"
    }
   ],
   "source": [
    "data4 = (\n",
    "    data\n",
    "    .filter(\n",
    "        pl.col(\"index_w300\") > 0 \n",
    "    )\n",
    ")\n",
    "data4 = (\n",
    "    data4\n",
    "    .with_columns(\n",
    "        pl.when(pl.col(\"close\") - pl.col(\"pre_close\") > 0).then(pl.lit(\"上涨\"))\n",
    "        .when(pl.col(\"close\") - pl.col(\"pre_close\") == 0).then(pl.lit(\"不变\"))\n",
    "        .otherwise(pl.lit(\"下跌\"))\n",
    "        .alias(\"tag\")\n",
    "    )\n",
    "    .filter(\n",
    "        pl.col(\"tag\") != \"不变\"\n",
    "    )\n",
    ")\n",
    "(\n",
    "    data4\n",
    "    .group_by([\"date\", \"tag\"])\n",
    "    .agg(pl.col(\"symbol\").n_unique())\n",
    "    .sort(\"date\")\n",
    "    [:5]\n",
    ")"
   ]
  },
  {
   "cell_type": "markdown",
   "metadata": {},
   "source": [
    "## 5. 每天每个行业各有多少只股票？"
   ]
  },
  {
   "cell_type": "code",
   "execution_count": null,
   "metadata": {},
   "outputs": [
    {
     "data": {
      "text/html": [
       "<div><style>\n",
       ".dataframe > thead > tr,\n",
       ".dataframe > tbody > tr {\n",
       "  text-align: right;\n",
       "  white-space: pre-wrap;\n",
       "}\n",
       "</style>\n",
       "<small>shape: (5, 3)</small><table border=\"1\" class=\"dataframe\"><thead><tr><th>date</th><th>industry</th><th>symbol</th></tr><tr><td>i64</td><td>str</td><td>u32</td></tr></thead><tbody><tr><td>20120104</td><td>&quot;CONSSERV&quot;</td><td>34</td></tr><tr><td>20120104</td><td>&quot;MATERIAL&quot;</td><td>48</td></tr><tr><td>20120104</td><td>&quot;INDCONG&quot;</td><td>13</td></tr><tr><td>20120104</td><td>&quot;UTILITIE&quot;</td><td>74</td></tr><tr><td>20120104</td><td>&quot;PERSPRD&quot;</td><td>25</td></tr></tbody></table></div>"
      ],
      "text/plain": [
       "shape: (5, 3)\n",
       "┌──────────┬──────────┬────────┐\n",
       "│ date     ┆ industry ┆ symbol │\n",
       "│ ---      ┆ ---      ┆ ---    │\n",
       "│ i64      ┆ str      ┆ u32    │\n",
       "╞══════════╪══════════╪════════╡\n",
       "│ 20120104 ┆ CONSSERV ┆ 34     │\n",
       "│ 20120104 ┆ MATERIAL ┆ 48     │\n",
       "│ 20120104 ┆ INDCONG  ┆ 13     │\n",
       "│ 20120104 ┆ UTILITIE ┆ 74     │\n",
       "│ 20120104 ┆ PERSPRD  ┆ 25     │\n",
       "└──────────┴──────────┴────────┘"
      ]
     },
     "execution_count": 31,
     "metadata": {},
     "output_type": "execute_result"
    }
   ],
   "source": [
    "(\n",
    "    data\n",
    "    .group_by([\"date\", \"industry\"])\n",
    "    .agg(pl.col(\"symbol\").n_unique())\n",
    "    .sort(\"date\")\n",
    "    [:5]\n",
    ")"
   ]
  },
  {
   "cell_type": "markdown",
   "metadata": {},
   "source": [
    "## 6. 股票数最大的行业和总成交额最大的行业是否总是同一个行业？"
   ]
  },
  {
   "cell_type": "code",
   "execution_count": null,
   "metadata": {},
   "outputs": [
    {
     "data": {
      "text/html": [
       "<div><style>\n",
       ".dataframe > thead > tr,\n",
       ".dataframe > tbody > tr {\n",
       "  text-align: right;\n",
       "  white-space: pre-wrap;\n",
       "}\n",
       "</style>\n",
       "<small>shape: (15, 4)</small><table border=\"1\" class=\"dataframe\"><thead><tr><th>date</th><th>industry</th><th>symbol_num</th><th>amount_sum</th></tr><tr><td>i64</td><td>str</td><td>u32</td><td>f64</td></tr></thead><tbody><tr><td>20120104</td><td>&quot;HDWRSEMI&quot;</td><td>224</td><td>6.8781e9</td></tr><tr><td>20120106</td><td>&quot;HDWRSEMI&quot;</td><td>224</td><td>5.9793e9</td></tr><tr><td>20120213</td><td>&quot;HDWRSEMI&quot;</td><td>227</td><td>1.4603e10</td></tr><tr><td>20120216</td><td>&quot;HDWRSEMI&quot;</td><td>227</td><td>1.5065e10</td></tr><tr><td>20120217</td><td>&quot;HDWRSEMI&quot;</td><td>229</td><td>1.1451e10</td></tr><tr><td>&hellip;</td><td>&hellip;</td><td>&hellip;</td><td>&hellip;</td></tr><tr><td>20120305</td><td>&quot;HDWRSEMI&quot;</td><td>231</td><td>1.9803e10</td></tr><tr><td>20120307</td><td>&quot;HDWRSEMI&quot;</td><td>231</td><td>1.7551e10</td></tr><tr><td>20120308</td><td>&quot;HDWRSEMI&quot;</td><td>231</td><td>1.6576e10</td></tr><tr><td>20120418</td><td>&quot;HDWRSEMI&quot;</td><td>237</td><td>1.4666e10</td></tr><tr><td>20120531</td><td>&quot;HDWRSEMI&quot;</td><td>238</td><td>1.3129e10</td></tr></tbody></table></div>"
      ],
      "text/plain": [
       "shape: (15, 4)\n",
       "┌──────────┬──────────┬────────────┬────────────┐\n",
       "│ date     ┆ industry ┆ symbol_num ┆ amount_sum │\n",
       "│ ---      ┆ ---      ┆ ---        ┆ ---        │\n",
       "│ i64      ┆ str      ┆ u32        ┆ f64        │\n",
       "╞══════════╪══════════╪════════════╪════════════╡\n",
       "│ 20120104 ┆ HDWRSEMI ┆ 224        ┆ 6.8781e9   │\n",
       "│ 20120106 ┆ HDWRSEMI ┆ 224        ┆ 5.9793e9   │\n",
       "│ 20120213 ┆ HDWRSEMI ┆ 227        ┆ 1.4603e10  │\n",
       "│ 20120216 ┆ HDWRSEMI ┆ 227        ┆ 1.5065e10  │\n",
       "│ 20120217 ┆ HDWRSEMI ┆ 229        ┆ 1.1451e10  │\n",
       "│ …        ┆ …        ┆ …          ┆ …          │\n",
       "│ 20120305 ┆ HDWRSEMI ┆ 231        ┆ 1.9803e10  │\n",
       "│ 20120307 ┆ HDWRSEMI ┆ 231        ┆ 1.7551e10  │\n",
       "│ 20120308 ┆ HDWRSEMI ┆ 231        ┆ 1.6576e10  │\n",
       "│ 20120418 ┆ HDWRSEMI ┆ 237        ┆ 1.4666e10  │\n",
       "│ 20120531 ┆ HDWRSEMI ┆ 238        ┆ 1.3129e10  │\n",
       "└──────────┴──────────┴────────────┴────────────┘"
      ]
     },
     "execution_count": 47,
     "metadata": {},
     "output_type": "execute_result"
    }
   ],
   "source": [
    "data6= (\n",
    "    data\n",
    "    .group_by([\"date\", \"industry\"])\n",
    "    .agg(\n",
    "        pl.col(\"symbol\")\n",
    "        .n_unique()\n",
    "        .alias(\"symbol_num\"),\n",
    "        pl.col(\"amount\")\n",
    "        .sum()\n",
    "        .alias(\"amount_sum\")\n",
    "    )\n",
    ")\n",
    "\n",
    "(\n",
    "    data6\n",
    "    .filter(\n",
    "        (pl.col('symbol_num') == pl.max(\"symbol_num\").over(\"date\"))\n",
    "        & (pl.col('amount_sum') == pl.max('amount_sum').over(\"date\"))\n",
    "    )\n",
    "    .sort(\"date\")\n",
    ")"
   ]
  },
  {
   "cell_type": "markdown",
   "metadata": {},
   "source": [
    "## 7. 每天涨幅超过5%、跌幅超过5%的股票各有多少？"
   ]
  },
  {
   "cell_type": "code",
   "execution_count": null,
   "metadata": {},
   "outputs": [
    {
     "data": {
      "text/html": [
       "<div><style>\n",
       ".dataframe > thead > tr,\n",
       ".dataframe > tbody > tr {\n",
       "  text-align: right;\n",
       "  white-space: pre-wrap;\n",
       "}\n",
       "</style>\n",
       "<small>shape: (5, 3)</small><table border=\"1\" class=\"dataframe\"><thead><tr><th>date</th><th>tag</th><th>symbol_num</th></tr><tr><td>i64</td><td>str</td><td>u32</td></tr></thead><tbody><tr><td>20120104</td><td>&quot;down5%+&quot;</td><td>277</td></tr><tr><td>20120104</td><td>&quot;up5%+&quot;</td><td>17</td></tr><tr><td>20120105</td><td>&quot;down5%+&quot;</td><td>885</td></tr><tr><td>20120105</td><td>&quot;up5%+&quot;</td><td>10</td></tr><tr><td>20120106</td><td>&quot;up5%+&quot;</td><td>52</td></tr></tbody></table></div>"
      ],
      "text/plain": [
       "shape: (5, 3)\n",
       "┌──────────┬─────────┬────────────┐\n",
       "│ date     ┆ tag     ┆ symbol_num │\n",
       "│ ---      ┆ ---     ┆ ---        │\n",
       "│ i64      ┆ str     ┆ u32        │\n",
       "╞══════════╪═════════╪════════════╡\n",
       "│ 20120104 ┆ down5%+ ┆ 277        │\n",
       "│ 20120104 ┆ up5%+   ┆ 17         │\n",
       "│ 20120105 ┆ down5%+ ┆ 885        │\n",
       "│ 20120105 ┆ up5%+   ┆ 10         │\n",
       "│ 20120106 ┆ up5%+   ┆ 52         │\n",
       "└──────────┴─────────┴────────────┘"
      ]
     },
     "execution_count": 55,
     "metadata": {},
     "output_type": "execute_result"
    }
   ],
   "source": [
    "(\n",
    "    data\n",
    "    .with_columns(\n",
    "        (pl.col(\"close\")/pl.col(\"pre_close\") - 1)\n",
    "        .alias(\"ret\")\n",
    "    )\n",
    "    .filter(\n",
    "        (pl.col(\"ret\") > 0.05)\n",
    "        | (pl.col(\"ret\") < -0.05)\n",
    "    )\n",
    "    .with_columns(\n",
    "        pl.when(\n",
    "            pl.col(\"ret\") > 0.05\n",
    "        )\n",
    "        .then(pl.lit(\"up5%+\"))\n",
    "        .otherwise(pl.lit(\"down5%+\"))\n",
    "        .alias(\"tag\")\n",
    "    )\n",
    "    .group_by(\n",
    "        ['date', 'tag']\n",
    "    )\n",
    "    .agg(\n",
    "        pl.col(\"symbol\")\n",
    "        .n_unique()\n",
    "        .alias(\"symbol_num\")\n",
    "    )\n",
    "    .sort(\n",
    "        \"date\"\n",
    "    )[:5]\n",
    ")"
   ]
  },
  {
   "cell_type": "markdown",
   "metadata": {},
   "source": [
    "## 8. 每天涨幅前10的股票的总成交额和跌幅前10的股票的总成交额比例是多少？"
   ]
  },
  {
   "cell_type": "code",
   "execution_count": null,
   "metadata": {},
   "outputs": [
    {
     "data": {
      "text/html": [
       "<div><style>\n",
       ".dataframe > thead > tr,\n",
       ".dataframe > tbody > tr {\n",
       "  text-align: right;\n",
       "  white-space: pre-wrap;\n",
       "}\n",
       "</style>\n",
       "<small>shape: (5, 2)</small><table border=\"1\" class=\"dataframe\"><thead><tr><th>date</th><th>amount</th></tr><tr><td>i64</td><td>f64</td></tr></thead><tbody><tr><td>20120104</td><td>1.445576</td></tr><tr><td>20120105</td><td>1.723228</td></tr><tr><td>20120106</td><td>1.346791</td></tr><tr><td>20120109</td><td>2.842344</td></tr><tr><td>20120110</td><td>0.562402</td></tr></tbody></table></div>"
      ],
      "text/plain": [
       "shape: (5, 2)\n",
       "┌──────────┬──────────┐\n",
       "│ date     ┆ amount   │\n",
       "│ ---      ┆ ---      │\n",
       "│ i64      ┆ f64      │\n",
       "╞══════════╪══════════╡\n",
       "│ 20120104 ┆ 1.445576 │\n",
       "│ 20120105 ┆ 1.723228 │\n",
       "│ 20120106 ┆ 1.346791 │\n",
       "│ 20120109 ┆ 2.842344 │\n",
       "│ 20120110 ┆ 0.562402 │\n",
       "└──────────┴──────────┘"
      ]
     },
     "execution_count": 2,
     "metadata": {},
     "output_type": "execute_result"
    }
   ],
   "source": [
    "(\n",
    "    data\n",
    "    .with_columns(\n",
    "        (pl.col(\"close\")/pl.col(\"pre_close\") - 1)\n",
    "        .alias(\"ret\")\n",
    "    )\n",
    "    .sort(\n",
    "        ['date', 'ret'],\n",
    "        descending = [False, True]\n",
    "    )\n",
    "    .group_by(\n",
    "        \"date\"\n",
    "    )\n",
    "    .agg(\n",
    "        pl.col(\"amount\").head(10).sum()/\n",
    "        pl.col(\"amount\").tail(10).sum()\n",
    "    )[:5]\n",
    ")\n",
    "    # .filter(\n",
    "    #     ~pl.col('date')\\\n",
    "    #     .cum_count()\\\n",
    "    #     .over('date')\\\n",
    "    #     .is_between(10, pl.col('date').count().over('date') - 10, closed = 'left')\n",
    "    # )\\"
   ]
  },
  {
   "cell_type": "markdown",
   "metadata": {},
   "source": [
    "## 9. 每天开盘涨停的股票与收盘涨停的股票各有多少？"
   ]
  },
  {
   "cell_type": "code",
   "execution_count": null,
   "metadata": {},
   "outputs": [
    {
     "data": {
      "text/html": [
       "<div><style>\n",
       ".dataframe > thead > tr,\n",
       ".dataframe > tbody > tr {\n",
       "  text-align: right;\n",
       "  white-space: pre-wrap;\n",
       "}\n",
       "</style>\n",
       "<small>shape: (5, 3)</small><table border=\"1\" class=\"dataframe\"><thead><tr><th>date</th><th>openlimit_num</th><th>closelimit_num</th></tr><tr><td>i64</td><td>u32</td><td>u32</td></tr></thead><tbody><tr><td>20120104</td><td>325</td><td>70</td></tr><tr><td>20120105</td><td>27</td><td>60</td></tr><tr><td>20120106</td><td>56</td><td>743</td></tr><tr><td>20120109</td><td>73</td><td>2142</td></tr><tr><td>20120110</td><td>95</td><td>2125</td></tr></tbody></table></div>"
      ],
      "text/plain": [
       "shape: (5, 3)\n",
       "┌──────────┬───────────────┬────────────────┐\n",
       "│ date     ┆ openlimit_num ┆ closelimit_num │\n",
       "│ ---      ┆ ---           ┆ ---            │\n",
       "│ i64      ┆ u32           ┆ u32            │\n",
       "╞══════════╪═══════════════╪════════════════╡\n",
       "│ 20120104 ┆ 325           ┆ 70             │\n",
       "│ 20120105 ┆ 27            ┆ 60             │\n",
       "│ 20120106 ┆ 56            ┆ 743            │\n",
       "│ 20120109 ┆ 73            ┆ 2142           │\n",
       "│ 20120110 ┆ 95            ┆ 2125           │\n",
       "└──────────┴───────────────┴────────────────┘"
      ]
     },
     "execution_count": 13,
     "metadata": {},
     "output_type": "execute_result"
    }
   ],
   "source": [
    "(\n",
    "    data\n",
    "    .group_by(\n",
    "        [\"date\"]\n",
    "    )\n",
    "    .agg(\n",
    "        pl.col(\"symbol\")\n",
    "            .filter((pl.col(\"open\")/pl.col(\"pre_close\") - 1 > 0.015))\n",
    "            .n_unique()\n",
    "            .alias(\"openlimit_num\"),\n",
    "        pl.col(\"symbol\")\n",
    "            .filter((pl.col(\"close\")/pl.col(\"pre_close\") - 1 > 0.015))\n",
    "            .n_unique()\n",
    "            .alias(\"closelimit_num\")\n",
    "    )\n",
    "    .sort(\n",
    "        [\"date\"]\n",
    "    )[:5]\n",
    ")"
   ]
  },
  {
   "cell_type": "markdown",
   "metadata": {},
   "source": [
    "## 10. 每天统计最近3天出现过开盘涨停与收盘涨停的股票各有多少只？"
   ]
  },
  {
   "cell_type": "code",
   "execution_count": null,
   "metadata": {},
   "outputs": [
    {
     "data": {
      "text/html": [
       "<div><style>\n",
       ".dataframe > thead > tr,\n",
       ".dataframe > tbody > tr {\n",
       "  text-align: right;\n",
       "  white-space: pre-wrap;\n",
       "}\n",
       "</style>\n",
       "<small>shape: (5, 4)</small><table border=\"1\" class=\"dataframe\"><thead><tr><th>index</th><th>date</th><th>openlimit_num_3d</th><th>closelimit_num_3d</th></tr><tr><td>u32</td><td>i64</td><td>u32</td><td>u32</td></tr></thead><tbody><tr><td>1</td><td>20120104</td><td>325</td><td>70</td></tr><tr><td>2</td><td>20120105</td><td>348</td><td>122</td></tr><tr><td>3</td><td>20120106</td><td>394</td><td>836</td></tr><tr><td>4</td><td>20120109</td><td>143</td><td>2174</td></tr><tr><td>5</td><td>20120110</td><td>208</td><td>2233</td></tr></tbody></table></div>"
      ],
      "text/plain": [
       "shape: (5, 4)\n",
       "┌───────┬──────────┬──────────────────┬───────────────────┐\n",
       "│ index ┆ date     ┆ openlimit_num_3d ┆ closelimit_num_3d │\n",
       "│ ---   ┆ ---      ┆ ---              ┆ ---               │\n",
       "│ u32   ┆ i64      ┆ u32              ┆ u32               │\n",
       "╞═══════╪══════════╪══════════════════╪═══════════════════╡\n",
       "│ 1     ┆ 20120104 ┆ 325              ┆ 70                │\n",
       "│ 2     ┆ 20120105 ┆ 348              ┆ 122               │\n",
       "│ 3     ┆ 20120106 ┆ 394              ┆ 836               │\n",
       "│ 4     ┆ 20120109 ┆ 143              ┆ 2174              │\n",
       "│ 5     ┆ 20120110 ┆ 208              ┆ 2233              │\n",
       "└───────┴──────────┴──────────────────┴───────────────────┘"
      ]
     },
     "execution_count": 99,
     "metadata": {},
     "output_type": "execute_result"
    }
   ],
   "source": [
    "(\n",
    "    data\n",
    "    .with_columns(\n",
    "        pl.when(pl.col(\"open\")/pl.col(\"pre_close\") - 1 > 0.015)\n",
    "            .then(1)\n",
    "            .otherwise(0)\n",
    "            .alias(\"openlimit\"),\n",
    "        pl.when(pl.col(\"close\")/pl.col(\"pre_close\") - 1 > 0.015)\n",
    "            .then(1)\n",
    "            .otherwise(0)\n",
    "            .alias(\"closelimit\")\n",
    "    )\n",
    "    .filter(\n",
    "        (pl.col(\"openlimit\") == 1) | (pl.col(\"closelimit\") == 1)\n",
    "    )\n",
    "    .sort(\n",
    "        [\"date\"]\n",
    "    )\n",
    "    .group_by(\n",
    "        ['date']\n",
    "    )\n",
    "    .agg(\n",
    "        pl.col(\"symbol\")\n",
    "            .filter(pl.col(\"openlimit\") == 1)\n",
    "            .unique()\n",
    "            .alias(\"openlimit_symbol\"),\n",
    "        pl.col(\"symbol\")\n",
    "            .filter(pl.col(\"closelimit\") == 1)\n",
    "            .unique()\n",
    "            .alias(\"closelimit_symbol\")\n",
    "    )\n",
    "    .with_row_index(\n",
    "            name = \"index\",\n",
    "            offset = 1\n",
    "    )\n",
    "    .rolling(\n",
    "            index_column = \"index\",\n",
    "            period = \"3i\"\n",
    "    )\n",
    "    .agg(\n",
    "        [\n",
    "            pl.col(\"date\").tail(1).alias(\"date\"),\n",
    "            pl.col(\"openlimit_symbol\").list.explode().n_unique().alias(\"openlimit_num_3d\"),\n",
    "            pl.col(\"closelimit_symbol\").list.explode().n_unique().alias(\"closelimit_num_3d\")\n",
    "        ]\n",
    "    )\n",
    "    .explode(\"date\")[:5]\n",
    ")\n",
    "        "
   ]
  },
  {
   "cell_type": "markdown",
   "metadata": {},
   "source": [
    "## 11. 股票每天的成交额变化率和收益率的相关性如何？"
   ]
  },
  {
   "cell_type": "code",
   "execution_count": null,
   "metadata": {},
   "outputs": [
    {
     "data": {
      "text/html": [
       "<div><style>\n",
       ".dataframe > thead > tr,\n",
       ".dataframe > tbody > tr {\n",
       "  text-align: right;\n",
       "  white-space: pre-wrap;\n",
       "}\n",
       "</style>\n",
       "<small>shape: (1, 1)</small><table border=\"1\" class=\"dataframe\"><thead><tr><th>corr</th></tr><tr><td>f64</td></tr></thead><tbody><tr><td>0.220969</td></tr></tbody></table></div>"
      ],
      "text/plain": [
       "shape: (1, 1)\n",
       "┌──────────┐\n",
       "│ corr     │\n",
       "│ ---      │\n",
       "│ f64      │\n",
       "╞══════════╡\n",
       "│ 0.220969 │\n",
       "└──────────┘"
      ]
     },
     "execution_count": 122,
     "metadata": {},
     "output_type": "execute_result"
    }
   ],
   "source": [
    "(\n",
    "    data\n",
    "    .sort(\n",
    "        [\"symbol\", \"date\"]\n",
    "    )\n",
    "    .select(\n",
    "        date = pl.col(\"date\"),\n",
    "        symbol = pl.col(\"symbol\"),\n",
    "        amount = (pl.col(\"amount\")/pl.col(\"amount\").shift(1) - 1).over(\"symbol\"),\n",
    "        ret = pl.col(\"close\")/pl.col(\"pre_close\") - 1\n",
    "    )\n",
    "    .filter(\n",
    "        ~ pl.col('amount').is_infinite()&\n",
    "        ~ pl.col('amount').is_nan()&\n",
    "        ~ pl.col(\"ret\").is_infinite()\n",
    "    )\n",
    "    .select(\n",
    "        corr = pl.corr(\"amount\", \"ret\", propagate_nans=True)\n",
    "    )\n",
    ")"
   ]
  },
  {
   "cell_type": "markdown",
   "metadata": {},
   "source": [
    "## 12. 每天每个行业的总成交额变化率和行业收益率的相关性如何？"
   ]
  },
  {
   "cell_type": "code",
   "execution_count": null,
   "metadata": {},
   "outputs": [
    {
     "data": {
      "text/html": [
       "<div><style>\n",
       ".dataframe > thead > tr,\n",
       ".dataframe > tbody > tr {\n",
       "  text-align: right;\n",
       "  white-space: pre-wrap;\n",
       "}\n",
       "</style>\n",
       "<small>shape: (1, 1)</small><table border=\"1\" class=\"dataframe\"><thead><tr><th>ret_ind</th></tr><tr><td>f64</td></tr></thead><tbody><tr><td>0.377926</td></tr></tbody></table></div>"
      ],
      "text/plain": [
       "shape: (1, 1)\n",
       "┌──────────┐\n",
       "│ ret_ind  │\n",
       "│ ---      │\n",
       "│ f64      │\n",
       "╞══════════╡\n",
       "│ 0.377926 │\n",
       "└──────────┘"
      ]
     },
     "execution_count": 159,
     "metadata": {},
     "output_type": "execute_result"
    }
   ],
   "source": [
    "(\n",
    "    data\n",
    "    .sort(\n",
    "        ['industry', 'symbol', 'date']\n",
    "    )\n",
    "    .select(\n",
    "        date = pl.col(\"date\"),\n",
    "        industry = pl.col(\"industry\"),\n",
    "        amount_ind = pl.col('amount').sum().over(['industry', 'date']),\n",
    "        ret = (pl.col(\"close\")/pl.col(\"pre_close\") - 1),\n",
    "        capt_weight = pl.col(\"capt\")/(pl.col(\"capt\").sum()).over(['industry', 'date'])\n",
    "    )\n",
    "    .select(\n",
    "        pl.col(\"industry\"),\n",
    "        pl.col(\"date\"),\n",
    "        ret_ind = (pl.col(\"ret\")*pl.col(\"capt_weight\")).sum().over([\"industry\", \"date\"]),\n",
    "        amount_ind_change = (pl.col(\"amount_ind\")/(pl.col(\"amount_ind\").shift(1)) - 1).over(\"industry\")\n",
    "    )\n",
    "    .unique()\n",
    "    .select(\n",
    "        pl.corr(\"ret_ind\", \"amount_ind_change\", propagate_nans=True)\n",
    "    )\n",
    ")"
   ]
  },
  {
   "cell_type": "markdown",
   "metadata": {},
   "source": [
    "## 13. 每天市场的总成交额变化率和市场收益率的相关性如何？"
   ]
  },
  {
   "cell_type": "code",
   "execution_count": null,
   "metadata": {},
   "outputs": [
    {
     "data": {
      "text/html": [
       "<div><style>\n",
       ".dataframe > thead > tr,\n",
       ".dataframe > tbody > tr {\n",
       "  text-align: right;\n",
       "  white-space: pre-wrap;\n",
       "}\n",
       "</style>\n",
       "<small>shape: (1, 1)</small><table border=\"1\" class=\"dataframe\"><thead><tr><th>mkt_amount_change</th></tr><tr><td>f64</td></tr></thead><tbody><tr><td>0.442459</td></tr></tbody></table></div>"
      ],
      "text/plain": [
       "shape: (1, 1)\n",
       "┌───────────────────┐\n",
       "│ mkt_amount_change │\n",
       "│ ---               │\n",
       "│ f64               │\n",
       "╞═══════════════════╡\n",
       "│ 0.442459          │\n",
       "└───────────────────┘"
      ]
     },
     "execution_count": 143,
     "metadata": {},
     "output_type": "execute_result"
    }
   ],
   "source": [
    "(\n",
    "    data\n",
    "    .sort(\n",
    "        [\"date\", \"symbol\"]\n",
    "    )\n",
    "    .select(\n",
    "        pl.col(\"date\"),\n",
    "        pl.col(\"symbol\"),\n",
    "        pl.col(\"capt\"),\n",
    "        mkt_amount = pl.col(\"amount\").sum().over(\"date\"),\n",
    "        ret = pl.col(\"close\")/pl.col(\"pre_close\") - 1\n",
    "    )\n",
    "    .select(\n",
    "        pl.col(\"date\"),\n",
    "        pl.col(\"mkt_amount\"),\n",
    "        mkt_ret = (pl.col(\"ret\") * pl.col(\"capt\")/(pl.col(\"capt\").sum())).sum().over(\"date\")\n",
    "    )\n",
    "    .unique()\n",
    "    .sort(\n",
    "        \"date\"\n",
    "    )\n",
    "    .with_columns(\n",
    "        mkt_amount_change = pl.col(\"mkt_amount\")/pl.col(\"mkt_amount\").shift(1) - 1\n",
    "    )\n",
    "    .select(\n",
    "        pl.corr(\"mkt_amount_change\", \"mkt_ret\")\n",
    "    )\n",
    ")"
   ]
  },
  {
   "cell_type": "markdown",
   "metadata": {},
   "source": [
    "## 14. 每天市场的总成交额的变化率和所有股票收益率的标准差相关性如何？ "
   ]
  },
  {
   "cell_type": "code",
   "execution_count": null,
   "metadata": {},
   "outputs": [
    {
     "data": {
      "text/html": [
       "<div><style>\n",
       ".dataframe > thead > tr,\n",
       ".dataframe > tbody > tr {\n",
       "  text-align: right;\n",
       "  white-space: pre-wrap;\n",
       "}\n",
       "</style>\n",
       "<small>shape: (1, 1)</small><table border=\"1\" class=\"dataframe\"><thead><tr><th>amount_sum_change</th></tr><tr><td>f64</td></tr></thead><tbody><tr><td>-0.192982</td></tr></tbody></table></div>"
      ],
      "text/plain": [
       "shape: (1, 1)\n",
       "┌───────────────────┐\n",
       "│ amount_sum_change │\n",
       "│ ---               │\n",
       "│ f64               │\n",
       "╞═══════════════════╡\n",
       "│ -0.192982         │\n",
       "└───────────────────┘"
      ]
     },
     "execution_count": 4,
     "metadata": {},
     "output_type": "execute_result"
    }
   ],
   "source": [
    "(\n",
    "    data\n",
    "    .select(\n",
    "        date = pl.col(\"date\"),\n",
    "        amount_sum = pl.col(\"amount\").sum().over(\"date\"),\n",
    "        ret_std = (pl.col(\"close\")/pl.col(\"pre_close\") - 1).std().over(\"date\")\n",
    "    )\n",
    "    .with_columns(\n",
    "        amount_sum_change = (pl.col(\"amount_sum\")/pl.col(\"amount_sum\").shift(1) - 1)\n",
    "    )\n",
    "    .select(\n",
    "        pl.corr(\"amount_sum_change\", \"ret_std\")\n",
    "    )\n",
    ")"
   ]
  },
  {
   "cell_type": "markdown",
   "metadata": {},
   "source": [
    "## 15. 每天每个行业的总成交额变化率和行业内股票收益率的标准差相关性如何？"
   ]
  },
  {
   "cell_type": "code",
   "execution_count": null,
   "metadata": {},
   "outputs": [
    {
     "data": {
      "text/html": [
       "<div><style>\n",
       ".dataframe > thead > tr,\n",
       ".dataframe > tbody > tr {\n",
       "  text-align: right;\n",
       "  white-space: pre-wrap;\n",
       "}\n",
       "</style>\n",
       "<small>shape: (32, 2)</small><table border=\"1\" class=\"dataframe\"><thead><tr><th>industry</th><th>amount_ind_change</th></tr><tr><td>str</td><td>f64</td></tr></thead><tbody><tr><td>&quot;AIRLINE&quot;</td><td>0.209565</td></tr><tr><td>&quot;TRDDIST&quot;</td><td>0.161375</td></tr><tr><td>&quot;AUTO&quot;</td><td>0.110954</td></tr><tr><td>&quot;MEDIA&quot;</td><td>0.231141</td></tr><tr><td>&quot;AERODEF&quot;</td><td>0.269046</td></tr><tr><td>&hellip;</td><td>&hellip;</td></tr><tr><td>&quot;BLDPROD&quot;</td><td>0.062142</td></tr><tr><td>&quot;BANKS&quot;</td><td>0.526664</td></tr><tr><td>&quot;RETAIL&quot;</td><td>0.060697</td></tr><tr><td>&quot;COMSERV&quot;</td><td>0.269397</td></tr><tr><td>&quot;SOFTWARE&quot;</td><td>-0.014894</td></tr></tbody></table></div>"
      ],
      "text/plain": [
       "shape: (32, 2)\n",
       "┌──────────┬───────────────────┐\n",
       "│ industry ┆ amount_ind_change │\n",
       "│ ---      ┆ ---               │\n",
       "│ str      ┆ f64               │\n",
       "╞══════════╪═══════════════════╡\n",
       "│ AIRLINE  ┆ 0.209565          │\n",
       "│ TRDDIST  ┆ 0.161375          │\n",
       "│ AUTO     ┆ 0.110954          │\n",
       "│ MEDIA    ┆ 0.231141          │\n",
       "│ AERODEF  ┆ 0.269046          │\n",
       "│ …        ┆ …                 │\n",
       "│ BLDPROD  ┆ 0.062142          │\n",
       "│ BANKS    ┆ 0.526664          │\n",
       "│ RETAIL   ┆ 0.060697          │\n",
       "│ COMSERV  ┆ 0.269397          │\n",
       "│ SOFTWARE ┆ -0.014894         │\n",
       "└──────────┴───────────────────┘"
      ]
     },
     "execution_count": 14,
     "metadata": {},
     "output_type": "execute_result"
    }
   ],
   "source": [
    "(\n",
    "    data\n",
    "    .select(\n",
    "        date = pl.col(\"date\"),\n",
    "        industry = pl.col(\"industry\"),\n",
    "        amount_ind = pl.col(\"amount\").sum().over([\"industry\", \"date\"]),\n",
    "        ret_ind = (pl.col(\"close\")/pl.col(\"pre_close\") - 1).std().over([\"industry\", \"date\"])\n",
    "    )\n",
    "    .with_columns(\n",
    "        amount_ind_change = (pl.col(\"amount_ind\")/pl.col(\"amount_ind\").shift(1) - 1).over([\"industry\"])\n",
    "    )\n",
    "    .group_by(\n",
    "        \"industry\"\n",
    "    )\n",
    "    .agg(\n",
    "        pl.corr(\"amount_ind_change\", \"ret_ind\")\n",
    "    )\n",
    ")    \n",
    "    "
   ]
  },
  {
   "cell_type": "markdown",
   "metadata": {},
   "source": [
    "## 16. 上证50、沪深300、中证500指数成分股中，沪股和深股各有多少？"
   ]
  },
  {
   "cell_type": "code",
   "execution_count": null,
   "metadata": {},
   "outputs": [
    {
     "data": {
      "text/html": [
       "<div><style>\n",
       ".dataframe > thead > tr,\n",
       ".dataframe > tbody > tr {\n",
       "  text-align: right;\n",
       "  white-space: pre-wrap;\n",
       "}\n",
       "</style>\n",
       "<small>shape: (234, 5)</small><table border=\"1\" class=\"dataframe\"><thead><tr><th>date</th><th>exchange</th><th>index_w50_num</th><th>index_w300_num</th><th>index_w500_num</th></tr><tr><td>i64</td><td>str</td><td>u32</td><td>u32</td><td>u32</td></tr></thead><tbody><tr><td>20120215</td><td>&quot;深证&quot;</td><td>0</td><td>95</td><td>229</td></tr><tr><td>20120507</td><td>&quot;上证&quot;</td><td>50</td><td>205</td><td>270</td></tr><tr><td>20120504</td><td>&quot;深证&quot;</td><td>0</td><td>95</td><td>230</td></tr><tr><td>20120117</td><td>&quot;上证&quot;</td><td>50</td><td>205</td><td>271</td></tr><tr><td>20120314</td><td>&quot;深证&quot;</td><td>0</td><td>95</td><td>229</td></tr><tr><td>&hellip;</td><td>&hellip;</td><td>&hellip;</td><td>&hellip;</td><td>&hellip;</td></tr><tr><td>20120217</td><td>&quot;上证&quot;</td><td>50</td><td>205</td><td>271</td></tr><tr><td>20120629</td><td>&quot;深证&quot;</td><td>0</td><td>95</td><td>230</td></tr><tr><td>20120306</td><td>&quot;深证&quot;</td><td>0</td><td>95</td><td>229</td></tr><tr><td>20120417</td><td>&quot;上证&quot;</td><td>50</td><td>205</td><td>270</td></tr><tr><td>20120607</td><td>&quot;深证&quot;</td><td>0</td><td>95</td><td>230</td></tr></tbody></table></div>"
      ],
      "text/plain": [
       "shape: (234, 5)\n",
       "┌──────────┬──────────┬───────────────┬────────────────┬────────────────┐\n",
       "│ date     ┆ exchange ┆ index_w50_num ┆ index_w300_num ┆ index_w500_num │\n",
       "│ ---      ┆ ---      ┆ ---           ┆ ---            ┆ ---            │\n",
       "│ i64      ┆ str      ┆ u32           ┆ u32            ┆ u32            │\n",
       "╞══════════╪══════════╪═══════════════╪════════════════╪════════════════╡\n",
       "│ 20120215 ┆ 深证     ┆ 0             ┆ 95             ┆ 229            │\n",
       "│ 20120507 ┆ 上证     ┆ 50            ┆ 205            ┆ 270            │\n",
       "│ 20120504 ┆ 深证     ┆ 0             ┆ 95             ┆ 230            │\n",
       "│ 20120117 ┆ 上证     ┆ 50            ┆ 205            ┆ 271            │\n",
       "│ 20120314 ┆ 深证     ┆ 0             ┆ 95             ┆ 229            │\n",
       "│ …        ┆ …        ┆ …             ┆ …              ┆ …              │\n",
       "│ 20120217 ┆ 上证     ┆ 50            ┆ 205            ┆ 271            │\n",
       "│ 20120629 ┆ 深证     ┆ 0             ┆ 95             ┆ 230            │\n",
       "│ 20120306 ┆ 深证     ┆ 0             ┆ 95             ┆ 229            │\n",
       "│ 20120417 ┆ 上证     ┆ 50            ┆ 205            ┆ 270            │\n",
       "│ 20120607 ┆ 深证     ┆ 0             ┆ 95             ┆ 230            │\n",
       "└──────────┴──────────┴───────────────┴────────────────┴────────────────┘"
      ]
     },
     "execution_count": 36,
     "metadata": {},
     "output_type": "execute_result"
    }
   ],
   "source": [
    "(\n",
    "    data\n",
    "    .filter(\n",
    "        (pl.col(\"index_w50\") > 0)\n",
    "        |(pl.col(\"index_w300\") > 0)\n",
    "        |(pl.col(\"index_w500\") > 0)\n",
    "    )\n",
    "    .select(\n",
    "        date = pl.col(\"date\"),\n",
    "        symbol = pl.col(\"symbol\"),\n",
    "        index_w50 = pl.col(\"index_w50\"),\n",
    "        index_w300 = pl.col(\"index_w300\"),\n",
    "        index_w500 = pl.col(\"index_w500\"),\n",
    "        exchange = pl.when(pl.col(\"symbol\").str.contains(\"SH\")).then(pl.lit(\"上证\")).otherwise(pl.lit(\"深证\"))\n",
    "    )\n",
    "    .unique()\n",
    "    .group_by(\n",
    "        [\"date\", \"exchange\"]\n",
    "    )\n",
    "    .agg(\n",
    "        index_w50_num = pl.col(\"symbol\").filter(pl.col(\"index_w50\") > 0).n_unique(),\n",
    "        index_w300_num = pl.col(\"symbol\").filter(pl.col(\"index_w300\") > 0).n_unique(),\n",
    "        index_w500_num = pl.col(\"symbol\").filter(pl.col(\"index_w500\") > 0).n_unique()\n",
    "    )\n",
    ")"
   ]
  },
  {
   "cell_type": "markdown",
   "metadata": {},
   "source": [
    "## 17. 上证50、沪深300、中证500指数成分股中，行业分布如何？"
   ]
  },
  {
   "cell_type": "code",
   "execution_count": null,
   "metadata": {},
   "outputs": [
    {
     "data": {
      "text/html": [
       "<div><style>\n",
       ".dataframe > thead > tr,\n",
       ".dataframe > tbody > tr {\n",
       "  text-align: right;\n",
       "  white-space: pre-wrap;\n",
       "}\n",
       "</style>\n",
       "<small>shape: (3_744, 5)</small><table border=\"1\" class=\"dataframe\"><thead><tr><th>date</th><th>industry</th><th>index_w50_ind_num</th><th>index_w300_ind_num</th><th>index_w500_ind_num</th></tr><tr><td>i64</td><td>str</td><td>u32</td><td>u32</td><td>u32</td></tr></thead><tbody><tr><td>20120104</td><td>&quot;MATERIAL&quot;</td><td>0</td><td>0</td><td>11</td></tr><tr><td>20120104</td><td>&quot;CONMAT&quot;</td><td>1</td><td>5</td><td>10</td></tr><tr><td>20120104</td><td>&quot;TRDDIST&quot;</td><td>0</td><td>5</td><td>9</td></tr><tr><td>20120104</td><td>&quot;CNSTENG&quot;</td><td>2</td><td>11</td><td>13</td></tr><tr><td>20120104</td><td>&quot;BANKS&quot;</td><td>11</td><td>16</td><td>0</td></tr><tr><td>&hellip;</td><td>&hellip;</td><td>&hellip;</td><td>&hellip;</td><td>&hellip;</td></tr><tr><td>20120629</td><td>&quot;AUTO&quot;</td><td>1</td><td>11</td><td>18</td></tr><tr><td>20120629</td><td>&quot;DVFININS&quot;</td><td>5</td><td>18</td><td>1</td></tr><tr><td>20120629</td><td>&quot;INDCONG&quot;</td><td>0</td><td>1</td><td>4</td></tr><tr><td>20120629</td><td>&quot;FOODPROD&quot;</td><td>0</td><td>10</td><td>24</td></tr><tr><td>20120629</td><td>&quot;MATERIAL&quot;</td><td>0</td><td>0</td><td>12</td></tr></tbody></table></div>"
      ],
      "text/plain": [
       "shape: (3_744, 5)\n",
       "┌──────────┬──────────┬───────────────────┬────────────────────┬────────────────────┐\n",
       "│ date     ┆ industry ┆ index_w50_ind_num ┆ index_w300_ind_num ┆ index_w500_ind_num │\n",
       "│ ---      ┆ ---      ┆ ---               ┆ ---                ┆ ---                │\n",
       "│ i64      ┆ str      ┆ u32               ┆ u32                ┆ u32                │\n",
       "╞══════════╪══════════╪═══════════════════╪════════════════════╪════════════════════╡\n",
       "│ 20120104 ┆ MATERIAL ┆ 0                 ┆ 0                  ┆ 11                 │\n",
       "│ 20120104 ┆ CONMAT   ┆ 1                 ┆ 5                  ┆ 10                 │\n",
       "│ 20120104 ┆ TRDDIST  ┆ 0                 ┆ 5                  ┆ 9                  │\n",
       "│ 20120104 ┆ CNSTENG  ┆ 2                 ┆ 11                 ┆ 13                 │\n",
       "│ 20120104 ┆ BANKS    ┆ 11                ┆ 16                 ┆ 0                  │\n",
       "│ …        ┆ …        ┆ …                 ┆ …                  ┆ …                  │\n",
       "│ 20120629 ┆ AUTO     ┆ 1                 ┆ 11                 ┆ 18                 │\n",
       "│ 20120629 ┆ DVFININS ┆ 5                 ┆ 18                 ┆ 1                  │\n",
       "│ 20120629 ┆ INDCONG  ┆ 0                 ┆ 1                  ┆ 4                  │\n",
       "│ 20120629 ┆ FOODPROD ┆ 0                 ┆ 10                 ┆ 24                 │\n",
       "│ 20120629 ┆ MATERIAL ┆ 0                 ┆ 0                  ┆ 12                 │\n",
       "└──────────┴──────────┴───────────────────┴────────────────────┴────────────────────┘"
      ]
     },
     "execution_count": 39,
     "metadata": {},
     "output_type": "execute_result"
    }
   ],
   "source": [
    "(\n",
    "    data\n",
    "    .filter(\n",
    "        (pl.col(\"index_w50\") > 0) |\n",
    "        (pl.col(\"index_w300\") > 0) |\n",
    "        (pl.col(\"index_w500\") > 0)\n",
    "    )\n",
    "    .select(\n",
    "        date = pl.col(\"date\"),\n",
    "        symbol = pl.col(\"symbol\"),\n",
    "        industry = pl.col(\"industry\"),\n",
    "        index_w50 = pl.col(\"index_w50\"),\n",
    "        index_w300 = pl.col(\"index_w300\"),\n",
    "        index_w500 = pl.col(\"index_w500\")\n",
    "    )\n",
    "    .group_by(\n",
    "        [\"date\", \"industry\"]\n",
    "    )\n",
    "    .agg(\n",
    "        index_w50_ind_num = pl.col(\"symbol\").filter(pl.col(\"index_w50\")> 0).n_unique(),\n",
    "        index_w300_ind_num = pl.col(\"symbol\").filter(pl.col(\"index_w300\")> 0).n_unique(),\n",
    "        index_w500_ind_num = pl.col(\"symbol\").filter(pl.col(\"index_w500\")> 0).n_unique()\n",
    "    )\n",
    "    .sort(\n",
    "        \"date\"\n",
    "    )\n",
    ")"
   ]
  },
  {
   "cell_type": "markdown",
   "metadata": {},
   "source": [
    "## 18. 每天上证50、沪深300、中证500指数成分股的总成交额各是多少"
   ]
  },
  {
   "cell_type": "code",
   "execution_count": null,
   "metadata": {},
   "outputs": [
    {
     "data": {
      "text/html": [
       "<div><style>\n",
       ".dataframe > thead > tr,\n",
       ".dataframe > tbody > tr {\n",
       "  text-align: right;\n",
       "  white-space: pre-wrap;\n",
       "}\n",
       "</style>\n",
       "<small>shape: (117, 4)</small><table border=\"1\" class=\"dataframe\"><thead><tr><th>date</th><th>amount_w50</th><th>amount_w300</th><th>amount_w500</th></tr><tr><td>i64</td><td>f64</td><td>f64</td><td>f64</td></tr></thead><tbody><tr><td>20120104</td><td>1.1372e10</td><td>3.2573e10</td><td>1.4525e10</td></tr><tr><td>20120105</td><td>1.5175e10</td><td>3.7635e10</td><td>1.5625e10</td></tr><tr><td>20120106</td><td>1.1458e10</td><td>3.1079e10</td><td>1.3829e10</td></tr><tr><td>20120109</td><td>1.9783e10</td><td>5.1478e10</td><td>1.9514e10</td></tr><tr><td>20120110</td><td>2.5841e10</td><td>7.5249e10</td><td>3.0515e10</td></tr><tr><td>&hellip;</td><td>&hellip;</td><td>&hellip;</td><td>&hellip;</td></tr><tr><td>20120625</td><td>1.5737e10</td><td>4.2504e10</td><td>2.2532e10</td></tr><tr><td>20120626</td><td>1.2170e10</td><td>3.3897e10</td><td>2.1483e10</td></tr><tr><td>20120627</td><td>9.9458e9</td><td>3.1438e10</td><td>2.1639e10</td></tr><tr><td>20120628</td><td>1.1597e10</td><td>3.4419e10</td><td>2.2602e10</td></tr><tr><td>20120629</td><td>1.5022e10</td><td>4.0977e10</td><td>2.3306e10</td></tr></tbody></table></div>"
      ],
      "text/plain": [
       "shape: (117, 4)\n",
       "┌──────────┬────────────┬─────────────┬─────────────┐\n",
       "│ date     ┆ amount_w50 ┆ amount_w300 ┆ amount_w500 │\n",
       "│ ---      ┆ ---        ┆ ---         ┆ ---         │\n",
       "│ i64      ┆ f64        ┆ f64         ┆ f64         │\n",
       "╞══════════╪════════════╪═════════════╪═════════════╡\n",
       "│ 20120104 ┆ 1.1372e10  ┆ 3.2573e10   ┆ 1.4525e10   │\n",
       "│ 20120105 ┆ 1.5175e10  ┆ 3.7635e10   ┆ 1.5625e10   │\n",
       "│ 20120106 ┆ 1.1458e10  ┆ 3.1079e10   ┆ 1.3829e10   │\n",
       "│ 20120109 ┆ 1.9783e10  ┆ 5.1478e10   ┆ 1.9514e10   │\n",
       "│ 20120110 ┆ 2.5841e10  ┆ 7.5249e10   ┆ 3.0515e10   │\n",
       "│ …        ┆ …          ┆ …           ┆ …           │\n",
       "│ 20120625 ┆ 1.5737e10  ┆ 4.2504e10   ┆ 2.2532e10   │\n",
       "│ 20120626 ┆ 1.2170e10  ┆ 3.3897e10   ┆ 2.1483e10   │\n",
       "│ 20120627 ┆ 9.9458e9   ┆ 3.1438e10   ┆ 2.1639e10   │\n",
       "│ 20120628 ┆ 1.1597e10  ┆ 3.4419e10   ┆ 2.2602e10   │\n",
       "│ 20120629 ┆ 1.5022e10  ┆ 4.0977e10   ┆ 2.3306e10   │\n",
       "└──────────┴────────────┴─────────────┴─────────────┘"
      ]
     },
     "execution_count": 42,
     "metadata": {},
     "output_type": "execute_result"
    }
   ],
   "source": [
    "(\n",
    "    data\n",
    "    .group_by(\n",
    "        \"date\"\n",
    "    )\n",
    "    .agg(\n",
    "        amount_w50 = pl.col(\"amount\").filter(pl.col(\"index_w50\") > 0).sum(),\n",
    "        amount_w300 = pl.col(\"amount\").filter(pl.col(\"index_w300\") > 0).sum(),\n",
    "        amount_w500 = pl.col(\"amount\").filter(pl.col(\"index_w500\") > 0).sum()\n",
    "    )\n",
    "    .sort(\n",
    "        \"date\"\n",
    "    )\n",
    ")"
   ]
  },
  {
   "cell_type": "markdown",
   "metadata": {},
   "source": [
    "## 19. 上证50、沪深300、中证500指数日收益率的历史波动率是多少？"
   ]
  },
  {
   "cell_type": "code",
   "execution_count": null,
   "metadata": {},
   "outputs": [
    {
     "data": {
      "text/html": [
       "<div><style>\n",
       ".dataframe > thead > tr,\n",
       ".dataframe > tbody > tr {\n",
       "  text-align: right;\n",
       "  white-space: pre-wrap;\n",
       "}\n",
       "</style>\n",
       "<small>shape: (1, 3)</small><table border=\"1\" class=\"dataframe\"><thead><tr><th>index_50</th><th>index_300</th><th>index_500</th></tr><tr><td>f64</td><td>f64</td><td>f64</td></tr></thead><tbody><tr><td>0.026437</td><td>0.019721</td><td>0.019045</td></tr></tbody></table></div>"
      ],
      "text/plain": [
       "shape: (1, 3)\n",
       "┌──────────┬───────────┬───────────┐\n",
       "│ index_50 ┆ index_300 ┆ index_500 │\n",
       "│ ---      ┆ ---       ┆ ---       │\n",
       "│ f64      ┆ f64       ┆ f64       │\n",
       "╞══════════╪═══════════╪═══════════╡\n",
       "│ 0.026437 ┆ 0.019721  ┆ 0.019045  │\n",
       "└──────────┴───────────┴───────────┘"
      ]
     },
     "execution_count": 49,
     "metadata": {},
     "output_type": "execute_result"
    }
   ],
   "source": [
    "(\n",
    "    data\n",
    "    .select(\n",
    "        date = pl.col(\"date\"),\n",
    "        index_50 = (pl.col(\"close\") * pl.col(\"index_w50\")).sum().over(\"date\"),\n",
    "        index_300 = (pl.col(\"close\") * pl.col(\"index_w300\")).sum().over(\"date\"),\n",
    "        index_500 = (pl.col(\"close\") * pl.col(\"index_w500\")).sum().over(\"date\")\n",
    "    )\n",
    "    .select(\n",
    "        (pl.col(\"index_50\")/pl.col(\"index_50\").shift(1) - 1).std(),\n",
    "        (pl.col(\"index_300\")/pl.col(\"index_300\").shift(1) - 1).std(),\n",
    "        (pl.col(\"index_500\")/pl.col(\"index_500\").shift(1) - 1).std()\n",
    "    )\n",
    ")"
   ]
  },
  {
   "cell_type": "markdown",
   "metadata": {},
   "source": [
    "## 20. 上证50、沪深300、中证500指数日收益率的相关系数矩阵？"
   ]
  },
  {
   "cell_type": "code",
   "execution_count": null,
   "metadata": {},
   "outputs": [
    {
     "data": {
      "text/html": [
       "<div><style>\n",
       ".dataframe > thead > tr,\n",
       ".dataframe > tbody > tr {\n",
       "  text-align: right;\n",
       "  white-space: pre-wrap;\n",
       "}\n",
       "</style>\n",
       "<small>shape: (3, 3)</small><table border=\"1\" class=\"dataframe\"><thead><tr><th>index_50</th><th>index_300</th><th>index_500</th></tr><tr><td>f64</td><td>f64</td><td>f64</td></tr></thead><tbody><tr><td>1.0</td><td>0.958448</td><td>0.724968</td></tr><tr><td>0.958448</td><td>1.0</td><td>0.85127</td></tr><tr><td>0.724968</td><td>0.85127</td><td>1.0</td></tr></tbody></table></div>"
      ],
      "text/plain": [
       "shape: (3, 3)\n",
       "┌──────────┬───────────┬───────────┐\n",
       "│ index_50 ┆ index_300 ┆ index_500 │\n",
       "│ ---      ┆ ---       ┆ ---       │\n",
       "│ f64      ┆ f64       ┆ f64       │\n",
       "╞══════════╪═══════════╪═══════════╡\n",
       "│ 1.0      ┆ 0.958448  ┆ 0.724968  │\n",
       "│ 0.958448 ┆ 1.0       ┆ 0.85127   │\n",
       "│ 0.724968 ┆ 0.85127   ┆ 1.0       │\n",
       "└──────────┴───────────┴───────────┘"
      ]
     },
     "execution_count": 6,
     "metadata": {},
     "output_type": "execute_result"
    }
   ],
   "source": [
    "(\n",
    "    data\n",
    "    .select(\n",
    "        date = pl.col(\"date\"),\n",
    "        index_50 = (pl.col(\"close\") * pl.col(\"index_w50\")).sum().over(\"date\"),\n",
    "        index_300 = (pl.col(\"close\") * pl.col(\"index_w300\")).sum().over(\"date\"),\n",
    "        index_500 = (pl.col(\"close\") * pl.col(\"index_w500\")).sum().over(\"date\")\n",
    "    )\n",
    "    .select(\n",
    "        index_50 =  (pl.col(\"index_50\")/pl.col(\"index_50\").shift(1) - 1),\n",
    "        index_300 =  (pl.col(\"index_300\")/pl.col(\"index_300\").shift(1) - 1),\n",
    "        index_500 =  (pl.col(\"index_500\")/pl.col(\"index_500\").shift(1) - 1)\n",
    "    )\n",
    "    .drop_nulls()\n",
    "    .corr()\n",
    ")"
   ]
  },
  {
   "cell_type": "markdown",
   "metadata": {},
   "source": [
    "## 21. 上证50、沪深300、去除上证50的沪深300指数日收益率的相关系数矩阵？"
   ]
  },
  {
   "cell_type": "code",
   "execution_count": null,
   "metadata": {},
   "outputs": [
    {
     "data": {
      "text/html": [
       "<div><style>\n",
       ".dataframe > thead > tr,\n",
       ".dataframe > tbody > tr {\n",
       "  text-align: right;\n",
       "  white-space: pre-wrap;\n",
       "}\n",
       "</style>\n",
       "<small>shape: (3, 3)</small><table border=\"1\" class=\"dataframe\"><thead><tr><th>index_50</th><th>index_300</th><th>index_300_without_50</th></tr><tr><td>f64</td><td>f64</td><td>f64</td></tr></thead><tbody><tr><td>1.0</td><td>0.958448</td><td>0.618703</td></tr><tr><td>0.958448</td><td>1.0</td><td>0.800002</td></tr><tr><td>0.618703</td><td>0.800002</td><td>1.0</td></tr></tbody></table></div>"
      ],
      "text/plain": [
       "shape: (3, 3)\n",
       "┌──────────┬───────────┬──────────────────────┐\n",
       "│ index_50 ┆ index_300 ┆ index_300_without_50 │\n",
       "│ ---      ┆ ---       ┆ ---                  │\n",
       "│ f64      ┆ f64       ┆ f64                  │\n",
       "╞══════════╪═══════════╪══════════════════════╡\n",
       "│ 1.0      ┆ 0.958448  ┆ 0.618703             │\n",
       "│ 0.958448 ┆ 1.0       ┆ 0.800002             │\n",
       "│ 0.618703 ┆ 0.800002  ┆ 1.0                  │\n",
       "└──────────┴───────────┴──────────────────────┘"
      ]
     },
     "execution_count": 19,
     "metadata": {},
     "output_type": "execute_result"
    }
   ],
   "source": [
    "(\n",
    "    data\n",
    "    .with_columns(\n",
    "        index_w300_without_w50 =\n",
    "            (pl.col(\"index_w300\") > 0) & (pl.col(\"index_w50\") == 0)\n",
    "    )\n",
    "    .with_columns(\n",
    "        index_w300_without_w50 =\n",
    "            pl.when((pl.col(\"index_w50\") == 0) & (pl.col(\"index_w300\") > 0)).then(pl.col(\"index_w300\")).otherwise(0).over(\"date\")\n",
    "    )\n",
    "    .select(\n",
    "        date = pl.col(\"date\"),\n",
    "        index_50 = (pl.col(\"close\") * pl.col(\"index_w50\")).sum().over(\"date\"),\n",
    "        index_300 = (pl.col(\"close\") * pl.col(\"index_w300\")).sum().over(\"date\"),\n",
    "        index_300_without_50 = (pl.col(\"close\")*pl.col(\"index_w300_without_w50\")).sum().over(\"date\")\n",
    "    )\n",
    "    .select(\n",
    "        index_50 = pl.col(\"index_50\")/pl.col(\"index_50\").shift(1) - 1,\n",
    "        index_300 = pl.col(\"index_300\")/pl.col(\"index_300\").shift(1) - 1,\n",
    "        index_300_without_50 = pl.col(\"index_300_without_50\")/pl.col(\"index_300_without_50\").shift(1) - 1 \n",
    "    )\n",
    "    .drop_nulls()\n",
    "    .corr()\n",
    ")"
   ]
  },
  {
   "cell_type": "markdown",
   "metadata": {},
   "source": [
    "## 22. 每天沪深300指数成分占比最大的10只股票是哪些？"
   ]
  },
  {
   "cell_type": "code",
   "execution_count": null,
   "metadata": {},
   "outputs": [
    {
     "data": {
      "text/html": [
       "<div><style>\n",
       ".dataframe > thead > tr,\n",
       ".dataframe > tbody > tr {\n",
       "  text-align: right;\n",
       "  white-space: pre-wrap;\n",
       "}\n",
       "</style>\n",
       "<small>shape: (1_170, 2)</small><table border=\"1\" class=\"dataframe\"><thead><tr><th>date</th><th>symbol</th></tr><tr><td>i64</td><td>str</td></tr></thead><tbody><tr><td>20120104</td><td>&quot;600036.SH&quot;</td></tr><tr><td>20120104</td><td>&quot;600016.SH&quot;</td></tr><tr><td>20120104</td><td>&quot;601318.SH&quot;</td></tr><tr><td>20120104</td><td>&quot;601328.SH&quot;</td></tr><tr><td>20120104</td><td>&quot;601166.SH&quot;</td></tr><tr><td>&hellip;</td><td>&hellip;</td></tr><tr><td>20120629</td><td>&quot;601166.SH&quot;</td></tr><tr><td>20120629</td><td>&quot;600000.SH&quot;</td></tr><tr><td>20120629</td><td>&quot;600030.SH&quot;</td></tr><tr><td>20120629</td><td>&quot;000002.SZ&quot;</td></tr><tr><td>20120629</td><td>&quot;600837.SH&quot;</td></tr></tbody></table></div>"
      ],
      "text/plain": [
       "shape: (1_170, 2)\n",
       "┌──────────┬───────────┐\n",
       "│ date     ┆ symbol    │\n",
       "│ ---      ┆ ---       │\n",
       "│ i64      ┆ str       │\n",
       "╞══════════╪═══════════╡\n",
       "│ 20120104 ┆ 600036.SH │\n",
       "│ 20120104 ┆ 600016.SH │\n",
       "│ 20120104 ┆ 601318.SH │\n",
       "│ 20120104 ┆ 601328.SH │\n",
       "│ 20120104 ┆ 601166.SH │\n",
       "│ …        ┆ …         │\n",
       "│ 20120629 ┆ 601166.SH │\n",
       "│ 20120629 ┆ 600000.SH │\n",
       "│ 20120629 ┆ 600030.SH │\n",
       "│ 20120629 ┆ 000002.SZ │\n",
       "│ 20120629 ┆ 600837.SH │\n",
       "└──────────┴───────────┘"
      ]
     },
     "execution_count": null,
     "metadata": {},
     "output_type": "execute_result"
    }
   ],
   "source": [
    "(\n",
    "    data\n",
    "    .sort(\n",
    "        [\"date\", \"index_w300\"],\n",
    "        descending = [False, True]\n",
    "    )\n",
    "    .group_by(\n",
    "        \"date\"\n",
    "    )\n",
    "    .agg(\n",
    "        pl.col(\"symbol\").head(10)\n",
    "    )\n",
    "    .explode(\n",
    "        \"symbol\"\n",
    "    )\n",
    ")"
   ]
  },
  {
   "cell_type": "markdown",
   "metadata": {},
   "source": [
    "## 23. 各个行业的平均每日股票数量从大到小排序是什么？"
   ]
  },
  {
   "cell_type": "code",
   "execution_count": null,
   "metadata": {},
   "outputs": [
    {
     "data": {
      "text/html": [
       "<div><style>\n",
       ".dataframe > thead > tr,\n",
       ".dataframe > tbody > tr {\n",
       "  text-align: right;\n",
       "  white-space: pre-wrap;\n",
       "}\n",
       "</style>\n",
       "<small>shape: (32, 2)</small><table border=\"1\" class=\"dataframe\"><thead><tr><th>industry</th><th>symbol_num</th></tr><tr><td>str</td><td>f64</td></tr></thead><tbody><tr><td>&quot;HDWRSEMI&quot;</td><td>233.34188</td></tr><tr><td>&quot;CHEM&quot;</td><td>223.034188</td></tr><tr><td>&quot;MACH&quot;</td><td>204.820513</td></tr><tr><td>&quot;HEALTH&quot;</td><td>176.760684</td></tr><tr><td>&quot;ELECEQP&quot;</td><td>134.239316</td></tr><tr><td>&hellip;</td><td>&hellip;</td></tr><tr><td>&quot;BANKS&quot;</td><td>16.0</td></tr><tr><td>&quot;INDCONG&quot;</td><td>12.65812</td></tr><tr><td>&quot;AIRLINE&quot;</td><td>12.196581</td></tr><tr><td>&quot;MARINE&quot;</td><td>12.0</td></tr><tr><td>&quot;AERODEF&quot;</td><td>10.299145</td></tr></tbody></table></div>"
      ],
      "text/plain": [
       "shape: (32, 2)\n",
       "┌──────────┬────────────┐\n",
       "│ industry ┆ symbol_num │\n",
       "│ ---      ┆ ---        │\n",
       "│ str      ┆ f64        │\n",
       "╞══════════╪════════════╡\n",
       "│ HDWRSEMI ┆ 233.34188  │\n",
       "│ CHEM     ┆ 223.034188 │\n",
       "│ MACH     ┆ 204.820513 │\n",
       "│ HEALTH   ┆ 176.760684 │\n",
       "│ ELECEQP  ┆ 134.239316 │\n",
       "│ …        ┆ …          │\n",
       "│ BANKS    ┆ 16.0       │\n",
       "│ INDCONG  ┆ 12.65812   │\n",
       "│ AIRLINE  ┆ 12.196581  │\n",
       "│ MARINE   ┆ 12.0       │\n",
       "│ AERODEF  ┆ 10.299145  │\n",
       "└──────────┴────────────┘"
      ]
     },
     "execution_count": null,
     "metadata": {},
     "output_type": "execute_result"
    }
   ],
   "source": [
    "(\n",
    "    data\n",
    "    .group_by(\n",
    "        [\"date\", \"industry\"]\n",
    "    )\n",
    "    .agg(\n",
    "        pl.col(\"symbol\").count()\n",
    "    )\n",
    "    .select(\n",
    "        industry = pl.col(\"industry\"),\n",
    "        symbol_num = pl.col(\"symbol\").mean().over(\"industry\")\n",
    "    )\n",
    "    .unique()\n",
    "    .sort(\n",
    "        \"symbol_num\",\n",
    "        descending = True\n",
    "    )\n",
    ")"
   ]
  },
  {
   "cell_type": "markdown",
   "metadata": {},
   "source": [
    "## 24. 每个行业每天成交额最大的一只股票代码是什么？"
   ]
  },
  {
   "cell_type": "code",
   "execution_count": null,
   "metadata": {},
   "outputs": [
    {
     "data": {
      "text/html": [
       "<div><style>\n",
       ".dataframe > thead > tr,\n",
       ".dataframe > tbody > tr {\n",
       "  text-align: right;\n",
       "  white-space: pre-wrap;\n",
       "}\n",
       "</style>\n",
       "<small>shape: (3_744, 3)</small><table border=\"1\" class=\"dataframe\"><thead><tr><th>date</th><th>industry</th><th>symbol</th></tr><tr><td>i64</td><td>str</td><td>list[str]</td></tr></thead><tbody><tr><td>20120104</td><td>&quot;AERODEF&quot;</td><td>[&quot;000768.SZ&quot;]</td></tr><tr><td>20120104</td><td>&quot;AIRLINE&quot;</td><td>[&quot;600029.SH&quot;]</td></tr><tr><td>20120104</td><td>&quot;AUTO&quot;</td><td>[&quot;600104.SH&quot;]</td></tr><tr><td>20120104</td><td>&quot;BANKS&quot;</td><td>[&quot;600036.SH&quot;]</td></tr><tr><td>20120104</td><td>&quot;BEV&quot;</td><td>[&quot;600519.SH&quot;]</td></tr><tr><td>&hellip;</td><td>&hellip;</td><td>&hellip;</td></tr><tr><td>20120629</td><td>&quot;REALEST&quot;</td><td>[&quot;600048.SH&quot;]</td></tr><tr><td>20120629</td><td>&quot;RETAIL&quot;</td><td>[&quot;600739.SH&quot;]</td></tr><tr><td>20120629</td><td>&quot;SOFTWARE&quot;</td><td>[&quot;300104.SZ&quot;]</td></tr><tr><td>20120629</td><td>&quot;TRDDIST&quot;</td><td>[&quot;600366.SH&quot;]</td></tr><tr><td>20120629</td><td>&quot;UTILITIE&quot;</td><td>[&quot;600011.SH&quot;]</td></tr></tbody></table></div>"
      ],
      "text/plain": [
       "shape: (3_744, 3)\n",
       "┌──────────┬──────────┬───────────────┐\n",
       "│ date     ┆ industry ┆ symbol        │\n",
       "│ ---      ┆ ---      ┆ ---           │\n",
       "│ i64      ┆ str      ┆ list[str]     │\n",
       "╞══════════╪══════════╪═══════════════╡\n",
       "│ 20120104 ┆ AERODEF  ┆ [\"000768.SZ\"] │\n",
       "│ 20120104 ┆ AIRLINE  ┆ [\"600029.SH\"] │\n",
       "│ 20120104 ┆ AUTO     ┆ [\"600104.SH\"] │\n",
       "│ 20120104 ┆ BANKS    ┆ [\"600036.SH\"] │\n",
       "│ 20120104 ┆ BEV      ┆ [\"600519.SH\"] │\n",
       "│ …        ┆ …        ┆ …             │\n",
       "│ 20120629 ┆ REALEST  ┆ [\"600048.SH\"] │\n",
       "│ 20120629 ┆ RETAIL   ┆ [\"600739.SH\"] │\n",
       "│ 20120629 ┆ SOFTWARE ┆ [\"300104.SZ\"] │\n",
       "│ 20120629 ┆ TRDDIST  ┆ [\"600366.SH\"] │\n",
       "│ 20120629 ┆ UTILITIE ┆ [\"600011.SH\"] │\n",
       "└──────────┴──────────┴───────────────┘"
      ]
     },
     "execution_count": null,
     "metadata": {},
     "output_type": "execute_result"
    }
   ],
   "source": [
    "(\n",
    "    data\n",
    "    .with_columns(\n",
    "        amount_max = pl.col(\"amount\").max().over(['industry', 'date'])\n",
    "    )\n",
    "    .group_by(\n",
    "        [\"date\", \"industry\"]\n",
    "    )\n",
    "    .agg(\n",
    "        pl.col(\"symbol\").filter(pl.col(\"amount\") == pl.col(\"amount_max\"))\n",
    "    )\n",
    "    .sort([\"date\", \"industry\"])\n",
    ")"
   ]
  },
  {
   "cell_type": "markdown",
   "metadata": {},
   "source": [
    "## 25. 每个行业每天最大成交额是最小成交额的几倍？"
   ]
  },
  {
   "cell_type": "code",
   "execution_count": null,
   "metadata": {},
   "outputs": [
    {
     "data": {
      "text/html": [
       "<div><style>\n",
       ".dataframe > thead > tr,\n",
       ".dataframe > tbody > tr {\n",
       "  text-align: right;\n",
       "  white-space: pre-wrap;\n",
       "}\n",
       "</style>\n",
       "<small>shape: (3_744, 3)</small><table border=\"1\" class=\"dataframe\"><thead><tr><th>date</th><th>industry</th><th>amount</th></tr><tr><td>i64</td><td>str</td><td>f64</td></tr></thead><tbody><tr><td>20120104</td><td>&quot;AERODEF&quot;</td><td>12.819244</td></tr><tr><td>20120104</td><td>&quot;AIRLINE&quot;</td><td>47.384072</td></tr><tr><td>20120104</td><td>&quot;AUTO&quot;</td><td>inf</td></tr><tr><td>20120104</td><td>&quot;BANKS&quot;</td><td>11.622244</td></tr><tr><td>20120104</td><td>&quot;BEV&quot;</td><td>inf</td></tr><tr><td>&hellip;</td><td>&hellip;</td><td>&hellip;</td></tr><tr><td>20120629</td><td>&quot;REALEST&quot;</td><td>inf</td></tr><tr><td>20120629</td><td>&quot;RETAIL&quot;</td><td>inf</td></tr><tr><td>20120629</td><td>&quot;SOFTWARE&quot;</td><td>inf</td></tr><tr><td>20120629</td><td>&quot;TRDDIST&quot;</td><td>inf</td></tr><tr><td>20120629</td><td>&quot;UTILITIE&quot;</td><td>inf</td></tr></tbody></table></div>"
      ],
      "text/plain": [
       "shape: (3_744, 3)\n",
       "┌──────────┬──────────┬───────────┐\n",
       "│ date     ┆ industry ┆ amount    │\n",
       "│ ---      ┆ ---      ┆ ---       │\n",
       "│ i64      ┆ str      ┆ f64       │\n",
       "╞══════════╪══════════╪═══════════╡\n",
       "│ 20120104 ┆ AERODEF  ┆ 12.819244 │\n",
       "│ 20120104 ┆ AIRLINE  ┆ 47.384072 │\n",
       "│ 20120104 ┆ AUTO     ┆ inf       │\n",
       "│ 20120104 ┆ BANKS    ┆ 11.622244 │\n",
       "│ 20120104 ┆ BEV      ┆ inf       │\n",
       "│ …        ┆ …        ┆ …         │\n",
       "│ 20120629 ┆ REALEST  ┆ inf       │\n",
       "│ 20120629 ┆ RETAIL   ┆ inf       │\n",
       "│ 20120629 ┆ SOFTWARE ┆ inf       │\n",
       "│ 20120629 ┆ TRDDIST  ┆ inf       │\n",
       "│ 20120629 ┆ UTILITIE ┆ inf       │\n",
       "└──────────┴──────────┴───────────┘"
      ]
     },
     "execution_count": 3,
     "metadata": {},
     "output_type": "execute_result"
    }
   ],
   "source": [
    "(\n",
    "    data\n",
    "    .group_by(\n",
    "        [\"date\", \"industry\"]\n",
    "    )\n",
    "    .agg(\n",
    "        (pl.col(\"amount\").max())/(pl.col(\"amount\").min())\n",
    "    )\n",
    "    .sort(\n",
    "        [\"date\", \"industry\"]\n",
    "    )\n",
    ")"
   ]
  },
  {
   "cell_type": "markdown",
   "metadata": {},
   "source": [
    "## 26. 每个行业每天成交额最大的5只股票的成交额总和是多少？"
   ]
  },
  {
   "cell_type": "code",
   "execution_count": null,
   "metadata": {},
   "outputs": [
    {
     "data": {
      "text/html": [
       "<div><style>\n",
       ".dataframe > thead > tr,\n",
       ".dataframe > tbody > tr {\n",
       "  text-align: right;\n",
       "  white-space: pre-wrap;\n",
       "}\n",
       "</style>\n",
       "<small>shape: (3_744, 3)</small><table border=\"1\" class=\"dataframe\"><thead><tr><th>date</th><th>industry</th><th>amount</th></tr><tr><td>i64</td><td>str</td><td>f64</td></tr></thead><tbody><tr><td>20120104</td><td>&quot;AERODEF&quot;</td><td>3.8476e8</td></tr><tr><td>20120104</td><td>&quot;AIRLINE&quot;</td><td>3.2177e8</td></tr><tr><td>20120104</td><td>&quot;AUTO&quot;</td><td>8.5999e8</td></tr><tr><td>20120104</td><td>&quot;BANKS&quot;</td><td>2.0891e9</td></tr><tr><td>20120104</td><td>&quot;BEV&quot;</td><td>1.8691e9</td></tr><tr><td>&hellip;</td><td>&hellip;</td><td>&hellip;</td></tr><tr><td>20120629</td><td>&quot;REALEST&quot;</td><td>1.5692e9</td></tr><tr><td>20120629</td><td>&quot;RETAIL&quot;</td><td>7.6047e8</td></tr><tr><td>20120629</td><td>&quot;SOFTWARE&quot;</td><td>8.2100e8</td></tr><tr><td>20120629</td><td>&quot;TRDDIST&quot;</td><td>8.37608599e8</td></tr><tr><td>20120629</td><td>&quot;UTILITIE&quot;</td><td>8.4904e8</td></tr></tbody></table></div>"
      ],
      "text/plain": [
       "shape: (3_744, 3)\n",
       "┌──────────┬──────────┬──────────────┐\n",
       "│ date     ┆ industry ┆ amount       │\n",
       "│ ---      ┆ ---      ┆ ---          │\n",
       "│ i64      ┆ str      ┆ f64          │\n",
       "╞══════════╪══════════╪══════════════╡\n",
       "│ 20120104 ┆ AERODEF  ┆ 3.8476e8     │\n",
       "│ 20120104 ┆ AIRLINE  ┆ 3.2177e8     │\n",
       "│ 20120104 ┆ AUTO     ┆ 8.5999e8     │\n",
       "│ 20120104 ┆ BANKS    ┆ 2.0891e9     │\n",
       "│ 20120104 ┆ BEV      ┆ 1.8691e9     │\n",
       "│ …        ┆ …        ┆ …            │\n",
       "│ 20120629 ┆ REALEST  ┆ 1.5692e9     │\n",
       "│ 20120629 ┆ RETAIL   ┆ 7.6047e8     │\n",
       "│ 20120629 ┆ SOFTWARE ┆ 8.2100e8     │\n",
       "│ 20120629 ┆ TRDDIST  ┆ 8.37608599e8 │\n",
       "│ 20120629 ┆ UTILITIE ┆ 8.4904e8     │\n",
       "└──────────┴──────────┴──────────────┘"
      ]
     },
     "execution_count": 2,
     "metadata": {},
     "output_type": "execute_result"
    }
   ],
   "source": [
    "(\n",
    "    data\n",
    "    .sort(['date', 'industry', 'amount'], descending = [False, False, True])\n",
    "    .group_by([\"date\", 'industry'])\n",
    "    .agg(\n",
    "        pl.col(\"amount\").head(5).sum()\n",
    "    )\n",
    "    .sort(['date', \"industry\"])\n",
    ")"
   ]
  },
  {
   "cell_type": "markdown",
   "metadata": {},
   "source": [
    "## 27. 每个行业每天成交额超过该行业中股票成交额80%分位数的股票的平均收益率是多少？"
   ]
  },
  {
   "cell_type": "code",
   "execution_count": null,
   "metadata": {},
   "outputs": [
    {
     "data": {
      "text/html": [
       "<div><style>\n",
       ".dataframe > thead > tr,\n",
       ".dataframe > tbody > tr {\n",
       "  text-align: right;\n",
       "  white-space: pre-wrap;\n",
       "}\n",
       "</style>\n",
       "<small>shape: (3_744, 3)</small><table border=\"1\" class=\"dataframe\"><thead><tr><th>date</th><th>industry</th><th>aver_ret</th></tr><tr><td>i64</td><td>str</td><td>f64</td></tr></thead><tbody><tr><td>20120104</td><td>&quot;AERODEF&quot;</td><td>-0.003143</td></tr><tr><td>20120104</td><td>&quot;AIRLINE&quot;</td><td>0.035986</td></tr><tr><td>20120104</td><td>&quot;AUTO&quot;</td><td>0.018819</td></tr><tr><td>20120104</td><td>&quot;BANKS&quot;</td><td>0.007952</td></tr><tr><td>20120104</td><td>&quot;BEV&quot;</td><td>0.060174</td></tr><tr><td>&hellip;</td><td>&hellip;</td><td>&hellip;</td></tr><tr><td>20120629</td><td>&quot;REALEST&quot;</td><td>-0.001288</td></tr><tr><td>20120629</td><td>&quot;RETAIL&quot;</td><td>-0.012304</td></tr><tr><td>20120629</td><td>&quot;SOFTWARE&quot;</td><td>-0.020639</td></tr><tr><td>20120629</td><td>&quot;TRDDIST&quot;</td><td>0.005932</td></tr><tr><td>20120629</td><td>&quot;UTILITIE&quot;</td><td>-0.006987</td></tr></tbody></table></div>"
      ],
      "text/plain": [
       "shape: (3_744, 3)\n",
       "┌──────────┬──────────┬───────────┐\n",
       "│ date     ┆ industry ┆ aver_ret  │\n",
       "│ ---      ┆ ---      ┆ ---       │\n",
       "│ i64      ┆ str      ┆ f64       │\n",
       "╞══════════╪══════════╪═══════════╡\n",
       "│ 20120104 ┆ AERODEF  ┆ -0.003143 │\n",
       "│ 20120104 ┆ AIRLINE  ┆ 0.035986  │\n",
       "│ 20120104 ┆ AUTO     ┆ 0.018819  │\n",
       "│ 20120104 ┆ BANKS    ┆ 0.007952  │\n",
       "│ 20120104 ┆ BEV      ┆ 0.060174  │\n",
       "│ …        ┆ …        ┆ …         │\n",
       "│ 20120629 ┆ REALEST  ┆ -0.001288 │\n",
       "│ 20120629 ┆ RETAIL   ┆ -0.012304 │\n",
       "│ 20120629 ┆ SOFTWARE ┆ -0.020639 │\n",
       "│ 20120629 ┆ TRDDIST  ┆ 0.005932  │\n",
       "│ 20120629 ┆ UTILITIE ┆ -0.006987 │\n",
       "└──────────┴──────────┴───────────┘"
      ]
     },
     "execution_count": 5,
     "metadata": {},
     "output_type": "execute_result"
    }
   ],
   "source": [
    "(\n",
    "    data\n",
    "    .select(symbol = pl.col('symbol'),\n",
    "            date = pl.col('date'),\n",
    "            industry = pl.col('industry'),\n",
    "            ret = (pl.col('pre_close')/pl.col('close')) - 1,\n",
    "            amount = pl.col('amount'),\n",
    "            amount_80p = pl.col('amount').quantile(0.8).over(['date','industry'])\n",
    "    )\n",
    "    .filter(pl.col('amount') > pl.col('amount_80p'))\n",
    "    .group_by([\"date\", \"industry\"])\n",
    "    .agg(\n",
    "        aver_ret = pl.col(\"ret\").mean()\n",
    "    )\n",
    "    .sort(['date', \"industry\"])\n",
    ")"
   ]
  },
  {
   "cell_type": "markdown",
   "metadata": {},
   "source": [
    "## 28. 每天成交额最大的10%的股票的平均收益率和成交额最小的10%的股票的平均收益率的相关系数是多少？"
   ]
  },
  {
   "cell_type": "code",
   "execution_count": null,
   "metadata": {},
   "outputs": [
    {
     "data": {
      "text/html": [
       "<div><style>\n",
       ".dataframe > thead > tr,\n",
       ".dataframe > tbody > tr {\n",
       "  text-align: right;\n",
       "  white-space: pre-wrap;\n",
       "}\n",
       "</style>\n",
       "<small>shape: (1, 1)</small><table border=\"1\" class=\"dataframe\"><thead><tr><th>ret_amount_10p_top</th></tr><tr><td>f64</td></tr></thead><tbody><tr><td>0.888088</td></tr></tbody></table></div>"
      ],
      "text/plain": [
       "shape: (1, 1)\n",
       "┌────────────────────┐\n",
       "│ ret_amount_10p_top │\n",
       "│ ---                │\n",
       "│ f64                │\n",
       "╞════════════════════╡\n",
       "│ 0.888088           │\n",
       "└────────────────────┘"
      ]
     },
     "execution_count": 12,
     "metadata": {},
     "output_type": "execute_result"
    }
   ],
   "source": [
    "(\n",
    "    data\n",
    "    .with_columns(\n",
    "        ret = pl.col('close')/pl.col('pre_close') - 1,\n",
    "        amount_10p_top = pl.col('amount').quantile(0.9).over('date'),\n",
    "        amount_10p_bottom = pl.col('amount').quantile(0.1).over('date')\n",
    "    )\n",
    "    .select(\n",
    "        ret_amount_10p_top = pl.col(\"ret\").filter(pl.col(\"amount\") >= pl.col(\"amount_10p_top\")).mean().over(\"date\"),\n",
    "        ret_amount_10p_bottom = pl.col('ret').filter(pl.col(\"amount\") <= pl.col(\"amount_10p_bottom\")).mean().over('date')\n",
    "    )\n",
    "    .select(\n",
    "        pl.corr(a = \"ret_amount_10p_top\", b = \"ret_amount_10p_bottom\")\n",
    "    )\n",
    ")"
   ]
  },
  {
   "cell_type": "markdown",
   "metadata": {},
   "source": [
    "## 29. 每天哪些行业的平均成交额高于全市场平均成交额？"
   ]
  },
  {
   "cell_type": "code",
   "execution_count": null,
   "metadata": {},
   "outputs": [
    {
     "data": {
      "text/html": [
       "<div><style>\n",
       ".dataframe > thead > tr,\n",
       ".dataframe > tbody > tr {\n",
       "  text-align: right;\n",
       "  white-space: pre-wrap;\n",
       "}\n",
       "</style>\n",
       "<small>shape: (1_413, 2)</small><table border=\"1\" class=\"dataframe\"><thead><tr><th>date</th><th>industry</th></tr><tr><td>i64</td><td>str</td></tr></thead><tbody><tr><td>20120104</td><td>&quot;AERODEF&quot;</td></tr><tr><td>20120104</td><td>&quot;BANKS&quot;</td></tr><tr><td>20120104</td><td>&quot;BEV&quot;</td></tr><tr><td>20120104</td><td>&quot;CONMAT&quot;</td></tr><tr><td>20120104</td><td>&quot;DVFININS&quot;</td></tr><tr><td>&hellip;</td><td>&hellip;</td></tr><tr><td>20120629</td><td>&quot;INDCONG&quot;</td></tr><tr><td>20120629</td><td>&quot;MARINE&quot;</td></tr><tr><td>20120629</td><td>&quot;MEDIA&quot;</td></tr><tr><td>20120629</td><td>&quot;MTLMIN&quot;</td></tr><tr><td>20120629</td><td>&quot;REALEST&quot;</td></tr></tbody></table></div>"
      ],
      "text/plain": [
       "shape: (1_413, 2)\n",
       "┌──────────┬──────────┐\n",
       "│ date     ┆ industry │\n",
       "│ ---      ┆ ---      │\n",
       "│ i64      ┆ str      │\n",
       "╞══════════╪══════════╡\n",
       "│ 20120104 ┆ AERODEF  │\n",
       "│ 20120104 ┆ BANKS    │\n",
       "│ 20120104 ┆ BEV      │\n",
       "│ 20120104 ┆ CONMAT   │\n",
       "│ 20120104 ┆ DVFININS │\n",
       "│ …        ┆ …        │\n",
       "│ 20120629 ┆ INDCONG  │\n",
       "│ 20120629 ┆ MARINE   │\n",
       "│ 20120629 ┆ MEDIA    │\n",
       "│ 20120629 ┆ MTLMIN   │\n",
       "│ 20120629 ┆ REALEST  │\n",
       "└──────────┴──────────┘"
      ]
     },
     "execution_count": 14,
     "metadata": {},
     "output_type": "execute_result"
    }
   ],
   "source": [
    "(\n",
    "    data\n",
    "    .with_columns(\n",
    "        amount_mkt_aver = pl.col('amount').mean().over('date'),\n",
    "        amount_ind_aver = pl.col('amount').mean().over(['date', 'industry'])\n",
    "    )\n",
    "    .filter(\n",
    "        pl.col('amount_mkt_aver') < pl.col('amount_ind_aver')\n",
    "    )\n",
    "    .select(\n",
    "        pl.col('date'),\n",
    "        pl.col('industry')\n",
    "    )\n",
    "    .unique()\n",
    "    .sort([\"date\", \"industry\"])\n",
    ")"
   ]
  },
  {
   "cell_type": "markdown",
   "metadata": {},
   "source": [
    "## 30. 每天每个股票对市场的超额收益率是多少？"
   ]
  },
  {
   "cell_type": "code",
   "execution_count": null,
   "metadata": {},
   "outputs": [
    {
     "data": {
      "text/html": [
       "<div><style>\n",
       ".dataframe > thead > tr,\n",
       ".dataframe > tbody > tr {\n",
       "  text-align: right;\n",
       "  white-space: pre-wrap;\n",
       "}\n",
       "</style>\n",
       "<small>shape: (276_900, 3)</small><table border=\"1\" class=\"dataframe\"><thead><tr><th>symbol</th><th>date</th><th>stkcd_ret_excess</th></tr><tr><td>str</td><td>i64</td><td>f64</td></tr></thead><tbody><tr><td>&quot;600000.SH&quot;</td><td>20120104</td><td>0.00258</td></tr><tr><td>&quot;600000.SH&quot;</td><td>20120105</td><td>0.039481</td></tr><tr><td>&quot;600000.SH&quot;</td><td>20120106</td><td>0.002335</td></tr><tr><td>&quot;600000.SH&quot;</td><td>20120109</td><td>0.005234</td></tr><tr><td>&quot;600000.SH&quot;</td><td>20120110</td><td>-0.008163</td></tr><tr><td>&hellip;</td><td>&hellip;</td><td>&hellip;</td></tr><tr><td>&quot;300331.SZ&quot;</td><td>20120629</td><td>0.0</td></tr><tr><td>&quot;300332.SZ&quot;</td><td>20120628</td><td>1.1102e-16</td></tr><tr><td>&quot;300332.SZ&quot;</td><td>20120629</td><td>2.7756e-17</td></tr><tr><td>&quot;300333.SZ&quot;</td><td>20120628</td><td>-1.3878e-17</td></tr><tr><td>&quot;300333.SZ&quot;</td><td>20120629</td><td>0.0</td></tr></tbody></table></div>"
      ],
      "text/plain": [
       "shape: (276_900, 3)\n",
       "┌───────────┬──────────┬──────────────────┐\n",
       "│ symbol    ┆ date     ┆ stkcd_ret_excess │\n",
       "│ ---       ┆ ---      ┆ ---              │\n",
       "│ str       ┆ i64      ┆ f64              │\n",
       "╞═══════════╪══════════╪══════════════════╡\n",
       "│ 600000.SH ┆ 20120104 ┆ 0.00258          │\n",
       "│ 600000.SH ┆ 20120105 ┆ 0.039481         │\n",
       "│ 600000.SH ┆ 20120106 ┆ 0.002335         │\n",
       "│ 600000.SH ┆ 20120109 ┆ 0.005234         │\n",
       "│ 600000.SH ┆ 20120110 ┆ -0.008163        │\n",
       "│ …         ┆ …        ┆ …                │\n",
       "│ 300331.SZ ┆ 20120629 ┆ 0.0              │\n",
       "│ 300332.SZ ┆ 20120628 ┆ 1.1102e-16       │\n",
       "│ 300332.SZ ┆ 20120629 ┆ 2.7756e-17       │\n",
       "│ 300333.SZ ┆ 20120628 ┆ -1.3878e-17      │\n",
       "│ 300333.SZ ┆ 20120629 ┆ 0.0              │\n",
       "└───────────┴──────────┴──────────────────┘"
      ]
     },
     "execution_count": 21,
     "metadata": {},
     "output_type": "execute_result"
    }
   ],
   "source": [
    "import polars_ds as pds\n",
    "(\n",
    "    data\n",
    "    .with_columns(\n",
    "        stkcd_ret = (pl.col(\"close\")/pl.col(\"pre_close\") - 1).over(\"date\"),\n",
    "        stkcd_weight = (pl.col(\"capt\")/(pl.col(\"capt\").sum())).over('date')\n",
    "    )\n",
    "    .with_columns(\n",
    "        mkt_ret = (pl.col(\"stkcd_ret\")*pl.col(\"stkcd_weight\")).sum().over(\"date\")\n",
    "    )\n",
    "    .select(\n",
    "        \"stkcd_ret\",\n",
    "        \"mkt_ret\",\n",
    "        \"symbol\",\n",
    "        \"date\",\n",
    "        pds.lin_reg(\n",
    "            pl.col(\"mkt_ret\"),\n",
    "            target = pl.col(\"stkcd_ret\"),\n",
    "            add_bias = True,\n",
    "            return_pred = True\n",
    "        )\n",
    "        .over(pl.col(\"symbol\"))\n",
    "        .alias(\"prediction\")\n",
    "    )\n",
    "    .unnest(\"prediction\")\n",
    "    .select(\n",
    "        \"symbol\",\n",
    "        \"date\",\n",
    "        pl.col(\"resid\").alias(\"stkcd_ret_excess\")\n",
    "    )\n",
    ")\n"
   ]
  },
  {
   "cell_type": "markdown",
   "metadata": {},
   "source": [
    "## 31. 每天每个股票对市场去除自身的超额收益率是多少？"
   ]
  },
  {
   "cell_type": "code",
   "execution_count": null,
   "metadata": {},
   "outputs": [
    {
     "data": {
      "text/html": [
       "<div><style>\n",
       ".dataframe > thead > tr,\n",
       ".dataframe > tbody > tr {\n",
       "  text-align: right;\n",
       "  white-space: pre-wrap;\n",
       "}\n",
       "</style>\n",
       "<small>shape: (5, 3)</small><table border=\"1\" class=\"dataframe\"><thead><tr><th>symbol</th><th>date</th><th>stkcd_ret_ex_stock</th></tr><tr><td>str</td><td>i64</td><td>f64</td></tr></thead><tbody><tr><td>&quot;600000.SH&quot;</td><td>20120104</td><td>0.002536</td></tr><tr><td>&quot;600000.SH&quot;</td><td>20120105</td><td>0.039663</td></tr><tr><td>&quot;600000.SH&quot;</td><td>20120106</td><td>0.002371</td></tr><tr><td>&quot;600000.SH&quot;</td><td>20120109</td><td>0.005372</td></tr><tr><td>&quot;600000.SH&quot;</td><td>20120110</td><td>-0.008107</td></tr></tbody></table></div>"
      ],
      "text/plain": [
       "shape: (5, 3)\n",
       "┌───────────┬──────────┬────────────────────┐\n",
       "│ symbol    ┆ date     ┆ stkcd_ret_ex_stock │\n",
       "│ ---       ┆ ---      ┆ ---                │\n",
       "│ str       ┆ i64      ┆ f64                │\n",
       "╞═══════════╪══════════╪════════════════════╡\n",
       "│ 600000.SH ┆ 20120104 ┆ 0.002536           │\n",
       "│ 600000.SH ┆ 20120105 ┆ 0.039663           │\n",
       "│ 600000.SH ┆ 20120106 ┆ 0.002371           │\n",
       "│ 600000.SH ┆ 20120109 ┆ 0.005372           │\n",
       "│ 600000.SH ┆ 20120110 ┆ -0.008107          │\n",
       "└───────────┴──────────┴────────────────────┘"
      ]
     },
     "execution_count": 13,
     "metadata": {},
     "output_type": "execute_result"
    }
   ],
   "source": [
    "import polars_ds as pds\n",
    "(\n",
    "    data\n",
    "    .with_columns(\n",
    "        stkcd_ret = (pl.col(\"close\")/pl.col(\"pre_close\") - 1).over(\"date\"),\n",
    "        stkcd_weight = (pl.col(\"capt\")/(pl.col(\"capt\").sum())).over('date'),\n",
    "        stkcd_weighted_ret = (pl.col(\"close\")/pl.col(\"pre_close\") - 1)*(pl.col(\"capt\")/pl.col(\"capt\").sum().over('date'))\n",
    "    )\n",
    "    .with_columns(\n",
    "        total_mkt_ret = pl.col(\"stkcd_weighted_ret\").sum().over('date')\n",
    "    )\n",
    "    .with_columns(\n",
    "        mkt_ret_ex_stock = (pl.col(\"total_mkt_ret\") - pl.col(\"stkcd_weighted_ret\"))/(1 - pl.col(\"stkcd_weight\"))\n",
    "    )\n",
    "    .select(\n",
    "        \"symbol\",\n",
    "        \"date\",\n",
    "        pds.lin_reg(\n",
    "            pl.col(\"mkt_ret_ex_stock\"),\n",
    "            target = pl.col(\"stkcd_ret\"),\n",
    "            add_bias = True,\n",
    "            return_pred = True\n",
    "        )\n",
    "        .over(pl.col(\"symbol\"))\n",
    "        .alias(\"prediction\")\n",
    "    )\n",
    "    .unnest(\"prediction\")\n",
    "    .select(\n",
    "        \"symbol\",\n",
    "        \"date\",\n",
    "        pl.col(\"resid\").alias(\"stkcd_ret_ex_stock\")\n",
    "    )[:5]\n",
    ")\n"
   ]
  },
  {
   "cell_type": "markdown",
   "metadata": {},
   "source": [
    "## 32. 每天每个股票对行业的超额收益率是多少？"
   ]
  },
  {
   "cell_type": "code",
   "execution_count": null,
   "metadata": {},
   "outputs": [
    {
     "data": {
      "text/html": [
       "<div><style>\n",
       ".dataframe > thead > tr,\n",
       ".dataframe > tbody > tr {\n",
       "  text-align: right;\n",
       "  white-space: pre-wrap;\n",
       "}\n",
       "</style>\n",
       "<small>shape: (5, 4)</small><table border=\"1\" class=\"dataframe\"><thead><tr><th>symbol</th><th>date</th><th>industry</th><th>stkcd_ret_ex_ind</th></tr><tr><td>str</td><td>i64</td><td>str</td><td>f64</td></tr></thead><tbody><tr><td>&quot;600000.SH&quot;</td><td>20120104</td><td>&quot;BANKS&quot;</td><td>-0.000246</td></tr><tr><td>&quot;600000.SH&quot;</td><td>20120105</td><td>&quot;BANKS&quot;</td><td>0.008228</td></tr><tr><td>&quot;600000.SH&quot;</td><td>20120106</td><td>&quot;BANKS&quot;</td><td>-0.000771</td></tr><tr><td>&quot;600000.SH&quot;</td><td>20120109</td><td>&quot;BANKS&quot;</td><td>0.009151</td></tr><tr><td>&quot;600000.SH&quot;</td><td>20120110</td><td>&quot;BANKS&quot;</td><td>0.0016</td></tr></tbody></table></div>"
      ],
      "text/plain": [
       "shape: (5, 4)\n",
       "┌───────────┬──────────┬──────────┬──────────────────┐\n",
       "│ symbol    ┆ date     ┆ industry ┆ stkcd_ret_ex_ind │\n",
       "│ ---       ┆ ---      ┆ ---      ┆ ---              │\n",
       "│ str       ┆ i64      ┆ str      ┆ f64              │\n",
       "╞═══════════╪══════════╪══════════╪══════════════════╡\n",
       "│ 600000.SH ┆ 20120104 ┆ BANKS    ┆ -0.000246        │\n",
       "│ 600000.SH ┆ 20120105 ┆ BANKS    ┆ 0.008228         │\n",
       "│ 600000.SH ┆ 20120106 ┆ BANKS    ┆ -0.000771        │\n",
       "│ 600000.SH ┆ 20120109 ┆ BANKS    ┆ 0.009151         │\n",
       "│ 600000.SH ┆ 20120110 ┆ BANKS    ┆ 0.0016           │\n",
       "└───────────┴──────────┴──────────┴──────────────────┘"
      ]
     },
     "execution_count": 15,
     "metadata": {},
     "output_type": "execute_result"
    }
   ],
   "source": [
    "import polars_ds as pds\n",
    "(\n",
    "    data\n",
    "    .with_columns(\n",
    "        stkcd_ret = (pl.col(\"close\")/pl.col(\"pre_close\") - 1).over(\"date\"),\n",
    "        stkcd_ind_weight = (pl.col(\"capt\")/(pl.col(\"capt\").sum())).over([\"date\", \"industry\"]),\n",
    "    )\n",
    "    .with_columns(\n",
    "        ind_ret = (pl.col(\"stkcd_ret\")*pl.col(\"stkcd_ind_weight\")).sum().over([\"date\", \"industry\"])\n",
    "    )\n",
    "    .select(\n",
    "        \"symbol\",\n",
    "        \"date\",\n",
    "        \"industry\",\n",
    "        pds.lin_reg(\n",
    "            pl.col(\"ind_ret\"),\n",
    "            target = pl.col(\"stkcd_ret\"),\n",
    "            add_bias = True,\n",
    "            return_pred = True\n",
    "        )\n",
    "        .over(pl.col(\"symbol\"))\n",
    "        .alias(\"prediction\")\n",
    "    )\n",
    "    .unnest(\"prediction\")\n",
    "    .select(\n",
    "        \"symbol\",\n",
    "        \"date\",\n",
    "        \"industry\",\n",
    "        pl.col(\"resid\").alias(\"stkcd_ret_ex_ind\")\n",
    "    )[:5]\n",
    ")   "
   ]
  },
  {
   "cell_type": "markdown",
   "metadata": {},
   "source": [
    "## 33. 每天每个股票对市场的去除自身的超额收益率是多少？\n"
   ]
  },
  {
   "cell_type": "code",
   "execution_count": null,
   "metadata": {},
   "outputs": [
    {
     "data": {
      "text/html": [
       "<div><style>\n",
       ".dataframe > thead > tr,\n",
       ".dataframe > tbody > tr {\n",
       "  text-align: right;\n",
       "  white-space: pre-wrap;\n",
       "}\n",
       "</style>\n",
       "<small>shape: (5, 4)</small><table border=\"1\" class=\"dataframe\"><thead><tr><th>symbol</th><th>date</th><th>industry</th><th>stkcd_ret_ex_ind</th></tr><tr><td>str</td><td>i64</td><td>str</td><td>f64</td></tr></thead><tbody><tr><td>&quot;600000.SH&quot;</td><td>20120104</td><td>&quot;BANKS&quot;</td><td>-0.000392</td></tr><tr><td>&quot;600000.SH&quot;</td><td>20120105</td><td>&quot;BANKS&quot;</td><td>0.009031</td></tr><tr><td>&quot;600000.SH&quot;</td><td>20120106</td><td>&quot;BANKS&quot;</td><td>-0.00071</td></tr><tr><td>&quot;600000.SH&quot;</td><td>20120109</td><td>&quot;BANKS&quot;</td><td>0.009998</td></tr><tr><td>&quot;600000.SH&quot;</td><td>20120110</td><td>&quot;BANKS&quot;</td><td>0.001874</td></tr></tbody></table></div>"
      ],
      "text/plain": [
       "shape: (5, 4)\n",
       "┌───────────┬──────────┬──────────┬──────────────────┐\n",
       "│ symbol    ┆ date     ┆ industry ┆ stkcd_ret_ex_ind │\n",
       "│ ---       ┆ ---      ┆ ---      ┆ ---              │\n",
       "│ str       ┆ i64      ┆ str      ┆ f64              │\n",
       "╞═══════════╪══════════╪══════════╪══════════════════╡\n",
       "│ 600000.SH ┆ 20120104 ┆ BANKS    ┆ -0.000392        │\n",
       "│ 600000.SH ┆ 20120105 ┆ BANKS    ┆ 0.009031         │\n",
       "│ 600000.SH ┆ 20120106 ┆ BANKS    ┆ -0.00071         │\n",
       "│ 600000.SH ┆ 20120109 ┆ BANKS    ┆ 0.009998         │\n",
       "│ 600000.SH ┆ 20120110 ┆ BANKS    ┆ 0.001874         │\n",
       "└───────────┴──────────┴──────────┴──────────────────┘"
      ]
     },
     "execution_count": 16,
     "metadata": {},
     "output_type": "execute_result"
    }
   ],
   "source": [
    "import polars_ds as pds\n",
    "(\n",
    "    data\n",
    "    .with_columns(\n",
    "        stkcd_ret = (pl.col(\"close\")/pl.col(\"pre_close\") - 1).over(\"date\"),\n",
    "        stkcd_ind_weight = (pl.col(\"capt\")/(pl.col(\"capt\").sum())).over([\"date\", \"industry\"]),\n",
    "        stkcd_ind_weighted_ret = (pl.col(\"close\")/pl.col(\"pre_close\") - 1)*(pl.col(\"capt\")/pl.col(\"capt\").sum().over([\"date\", \"industry\"]))\n",
    "    )\n",
    "    .with_columns(\n",
    "        total_ind_ret = pl.col(\"stkcd_ind_weighted_ret\").sum().over([\"date\", \"industry\"])\n",
    "    )\n",
    "    .with_columns(\n",
    "        ind_ret_ex_stock = (pl.col(\"total_ind_ret\") - pl.col(\"stkcd_ind_weighted_ret\"))/(1 - pl.col(\"stkcd_ind_weight\"))\n",
    "    )\n",
    "    .select(\n",
    "        \"symbol\",\n",
    "        \"date\",\n",
    "        \"industry\",\n",
    "        pds.lin_reg(\n",
    "            pl.col(\"ind_ret_ex_stock\"),\n",
    "            target = pl.col(\"stkcd_ret\"),\n",
    "            add_bias = True,\n",
    "            return_pred = True\n",
    "        )\n",
    "        .over(pl.col('symbol'))\n",
    "        .alias(\"prediction\")\n",
    "    ).unnest(\"prediction\")\n",
    "    .select(\n",
    "         \"symbol\",\n",
    "        \"date\",\n",
    "        \"industry\",\n",
    "        pl.col(\"resid\").alias(\"stkcd_ret_ex_ind\")\n",
    "    )[:5]\n",
    ")"
   ]
  },
  {
   "cell_type": "markdown",
   "metadata": {},
   "source": [
    "## 34. 每个股票每天对市场的超额收益率与对行业的超额收益率的相关系数如何？"
   ]
  },
  {
   "cell_type": "code",
   "execution_count": null,
   "metadata": {},
   "outputs": [
    {
     "data": {
      "text/html": [
       "<div><style>\n",
       ".dataframe > thead > tr,\n",
       ".dataframe > tbody > tr {\n",
       "  text-align: right;\n",
       "  white-space: pre-wrap;\n",
       "}\n",
       "</style>\n",
       "<small>shape: (5, 2)</small><table border=\"1\" class=\"dataframe\"><thead><tr><th>symbol</th><th>corr</th></tr><tr><td>str</td><td>f64</td></tr></thead><tbody><tr><td>&quot;000001.SZ&quot;</td><td>0.761699</td></tr><tr><td>&quot;000002.SZ&quot;</td><td>0.767403</td></tr><tr><td>&quot;000004.SZ&quot;</td><td>0.834381</td></tr><tr><td>&quot;000005.SZ&quot;</td><td>0.99309</td></tr><tr><td>&quot;000006.SZ&quot;</td><td>0.923893</td></tr></tbody></table></div>"
      ],
      "text/plain": [
       "shape: (5, 2)\n",
       "┌───────────┬──────────┐\n",
       "│ symbol    ┆ corr     │\n",
       "│ ---       ┆ ---      │\n",
       "│ str       ┆ f64      │\n",
       "╞═══════════╪══════════╡\n",
       "│ 000001.SZ ┆ 0.761699 │\n",
       "│ 000002.SZ ┆ 0.767403 │\n",
       "│ 000004.SZ ┆ 0.834381 │\n",
       "│ 000005.SZ ┆ 0.99309  │\n",
       "│ 000006.SZ ┆ 0.923893 │\n",
       "└───────────┴──────────┘"
      ]
     },
     "execution_count": 3,
     "metadata": {},
     "output_type": "execute_result"
    }
   ],
   "source": [
    "import polars_ds as pds\n",
    "\n",
    "data_mkt = (\n",
    "    data\n",
    "    .with_columns(\n",
    "        stkcd_ret = (pl.col(\"close\")/pl.col(\"pre_close\") - 1).over(\"date\"),\n",
    "        stkcd_weight = (pl.col(\"capt\")/(pl.col(\"capt\").sum())).over('date')\n",
    "    )\n",
    "    .with_columns(\n",
    "        mkt_ret = (pl.col(\"stkcd_ret\")*pl.col(\"stkcd_weight\")).sum().over(\"date\")\n",
    "    )\n",
    "    .select(\n",
    "        \"stkcd_ret\",\n",
    "        \"mkt_ret\",\n",
    "        \"symbol\",\n",
    "        \"date\",\n",
    "        pds.lin_reg(\n",
    "            pl.col(\"mkt_ret\"),\n",
    "            target = pl.col(\"stkcd_ret\"),\n",
    "            add_bias = True,\n",
    "            return_pred = True\n",
    "        )\n",
    "        .over(pl.col(\"symbol\"))\n",
    "        .alias(\"prediction\")\n",
    "    )\n",
    "    .unnest(\"prediction\")\n",
    "    .select(\n",
    "        \"symbol\",\n",
    "        \"date\",\n",
    "        pl.col(\"resid\").alias(\"stkcd_ret_excess\")\n",
    "    )\n",
    ")\n",
    "data_ind = (\n",
    "    data\n",
    "    .with_columns(\n",
    "        stkcd_ret = (pl.col(\"close\")/pl.col(\"pre_close\") - 1).over(\"date\"),\n",
    "        stkcd_ind_weight = (pl.col(\"capt\")/(pl.col(\"capt\").sum())).over([\"date\", \"industry\"]),\n",
    "    )\n",
    "    .with_columns(\n",
    "        ind_ret = (pl.col(\"stkcd_ret\")*pl.col(\"stkcd_ind_weight\")).sum().over([\"date\", \"industry\"])\n",
    "    )\n",
    "    .select(\n",
    "        \"symbol\",\n",
    "        \"date\",\n",
    "        \"industry\",\n",
    "        pds.lin_reg(\n",
    "            pl.col(\"ind_ret\"),\n",
    "            target = pl.col(\"stkcd_ret\"),\n",
    "            add_bias = True,\n",
    "            return_pred = True\n",
    "        )\n",
    "        .over(pl.col(\"symbol\"))\n",
    "        .alias(\"prediction\")\n",
    "    )\n",
    "    .unnest(\"prediction\")\n",
    "    .select(\n",
    "        \"symbol\",\n",
    "        \"date\",\n",
    "        \"industry\",\n",
    "        pl.col(\"resid\").alias(\"stkcd_ind_ret_excess\")\n",
    "    )\n",
    ")\n",
    "\n",
    "data_mkt.join(\n",
    "    data_ind,\n",
    "    on = [\"date\", \"symbol\"],\n",
    "    how = \"inner\"\n",
    ").select(\n",
    "    \"symbol\",\n",
    "    pl.corr(a = \"stkcd_ret_excess\", b = \"stkcd_ind_ret_excess\").over('symbol').alias(\"corr\")\n",
    ").unique(\n",
    ").sort(\"symbol\")[:5]"
   ]
  },
  {
   "cell_type": "markdown",
   "metadata": {},
   "source": [
    "## 35. 每天有哪些行业的平均收益率超过市场平均收益率？"
   ]
  },
  {
   "cell_type": "code",
   "execution_count": null,
   "metadata": {},
   "outputs": [
    {
     "data": {
      "text/html": [
       "<div><style>\n",
       ".dataframe > thead > tr,\n",
       ".dataframe > tbody > tr {\n",
       "  text-align: right;\n",
       "  white-space: pre-wrap;\n",
       "}\n",
       "</style>\n",
       "<small>shape: (1_806, 2)</small><table border=\"1\" class=\"dataframe\"><thead><tr><th>date</th><th>industry</th></tr><tr><td>i64</td><td>str</td></tr></thead><tbody><tr><td>20120104</td><td>&quot;AERODEF&quot;</td></tr><tr><td>20120104</td><td>&quot;AIRLINE&quot;</td></tr><tr><td>20120104</td><td>&quot;AUTO&quot;</td></tr><tr><td>20120104</td><td>&quot;BANKS&quot;</td></tr><tr><td>20120104</td><td>&quot;BEV&quot;</td></tr><tr><td>&hellip;</td><td>&hellip;</td></tr><tr><td>20120628</td><td>&quot;REALEST&quot;</td></tr><tr><td>20120628</td><td>&quot;RETAIL&quot;</td></tr><tr><td>20120628</td><td>&quot;SOFTWARE&quot;</td></tr><tr><td>20120628</td><td>&quot;TRDDIST&quot;</td></tr><tr><td>20120628</td><td>&quot;UTILITIE&quot;</td></tr></tbody></table></div>"
      ],
      "text/plain": [
       "shape: (1_806, 2)\n",
       "┌──────────┬──────────┐\n",
       "│ date     ┆ industry │\n",
       "│ ---      ┆ ---      │\n",
       "│ i64      ┆ str      │\n",
       "╞══════════╪══════════╡\n",
       "│ 20120104 ┆ AERODEF  │\n",
       "│ 20120104 ┆ AIRLINE  │\n",
       "│ 20120104 ┆ AUTO     │\n",
       "│ 20120104 ┆ BANKS    │\n",
       "│ 20120104 ┆ BEV      │\n",
       "│ …        ┆ …        │\n",
       "│ 20120628 ┆ REALEST  │\n",
       "│ 20120628 ┆ RETAIL   │\n",
       "│ 20120628 ┆ SOFTWARE │\n",
       "│ 20120628 ┆ TRDDIST  │\n",
       "│ 20120628 ┆ UTILITIE │\n",
       "└──────────┴──────────┘"
      ]
     },
     "execution_count": 7,
     "metadata": {},
     "output_type": "execute_result"
    }
   ],
   "source": [
    "(\n",
    "    data\n",
    "    .with_columns(\n",
    "        stkcd_ret = (pl.col(\"close\")/pl.col(\"pre_close\") - 1).over(\"date\"),\n",
    "        stkcd_weight = (pl.col(\"capt\")/(pl.col(\"capt\").sum())).over([\"date\", \"industry\"]),\n",
    "    )\n",
    "    .with_columns(\n",
    "        ind_ret = (pl.col(\"stkcd_ret\")*pl.col(\"stkcd_weight\")).sum().over([\"date\", \"industry\"]),\n",
    "        mkt_ret = (pl.col(\"stkcd_ret\")*pl.col(\"stkcd_weight\")).sum().over(\"date\")\n",
    "    )\n",
    "    .filter(\n",
    "        pl.col(\"ind_ret\") > pl.col(\"mkt_ret\")\n",
    "    )\n",
    "    .select(\n",
    "        \"date\",\n",
    "        \"industry\"\n",
    "    )\n",
    "    .unique()\n",
    "    .sort([\"date\", \"industry\"])\n",
    ")"
   ]
  },
  {
   "cell_type": "markdown",
   "metadata": {},
   "source": [
    "## 36. 每天每个行业对市场的超额收益率是多少？"
   ]
  },
  {
   "cell_type": "code",
   "execution_count": null,
   "metadata": {},
   "outputs": [
    {
     "data": {
      "text/html": [
       "<div><style>\n",
       ".dataframe > thead > tr,\n",
       ".dataframe > tbody > tr {\n",
       "  text-align: right;\n",
       "  white-space: pre-wrap;\n",
       "}\n",
       "</style>\n",
       "<small>shape: (5, 3)</small><table border=\"1\" class=\"dataframe\"><thead><tr><th>date</th><th>industry</th><th>ind_ret_excess</th></tr><tr><td>i64</td><td>str</td><td>f64</td></tr></thead><tbody><tr><td>20120104</td><td>&quot;AERODEF&quot;</td><td>0.013798</td></tr><tr><td>20120105</td><td>&quot;AERODEF&quot;</td><td>0.003314</td></tr><tr><td>20120106</td><td>&quot;AERODEF&quot;</td><td>-0.023299</td></tr><tr><td>20120109</td><td>&quot;AERODEF&quot;</td><td>-0.005169</td></tr><tr><td>20120110</td><td>&quot;AERODEF&quot;</td><td>0.002565</td></tr></tbody></table></div>"
      ],
      "text/plain": [
       "shape: (5, 3)\n",
       "┌──────────┬──────────┬────────────────┐\n",
       "│ date     ┆ industry ┆ ind_ret_excess │\n",
       "│ ---      ┆ ---      ┆ ---            │\n",
       "│ i64      ┆ str      ┆ f64            │\n",
       "╞══════════╪══════════╪════════════════╡\n",
       "│ 20120104 ┆ AERODEF  ┆ 0.013798       │\n",
       "│ 20120105 ┆ AERODEF  ┆ 0.003314       │\n",
       "│ 20120106 ┆ AERODEF  ┆ -0.023299      │\n",
       "│ 20120109 ┆ AERODEF  ┆ -0.005169      │\n",
       "│ 20120110 ┆ AERODEF  ┆ 0.002565       │\n",
       "└──────────┴──────────┴────────────────┘"
      ]
     },
     "execution_count": 13,
     "metadata": {},
     "output_type": "execute_result"
    }
   ],
   "source": [
    "import polars_ds as pds\n",
    "(\n",
    "    data\n",
    "    .with_columns(\n",
    "        stkcd_ret = (pl.col(\"close\")/pl.col(\"pre_close\") - 1).over(\"date\"),\n",
    "        stkcd_weight = (pl.col(\"capt\")/(pl.col(\"capt\").sum())).over([\"date\", \"industry\"]),\n",
    "    )\n",
    "    .with_columns(\n",
    "        ind_ret = (pl.col(\"stkcd_ret\")*pl.col(\"stkcd_weight\")).sum().over([\"date\", \"industry\"]),\n",
    "        mkt_ret = (pl.col(\"stkcd_ret\")*pl.col(\"stkcd_weight\")).sum().over(\"date\")\n",
    "    )\n",
    "    .select(\n",
    "        \"date\",\n",
    "        \"industry\",\n",
    "        \"ind_ret\",\n",
    "        \"mkt_ret\"\n",
    "    )\n",
    "    .unique()\n",
    "    .sort([\"industry\", \"date\"])\n",
    "    .with_columns(\n",
    "        pds.lin_reg(\n",
    "            pl.col(\"mkt_ret\"),\n",
    "            target = pl.col(\"ind_ret\"),\n",
    "            add_bias = True,\n",
    "            return_pred = True\n",
    "        )\n",
    "        .over(pl.col(\"industry\"))\n",
    "        .alias(\"prediction\")\n",
    "    )\n",
    "    .unnest(\"prediction\")\n",
    "    .select(\n",
    "        \"date\",\n",
    "        \"industry\",\n",
    "        pl.col(\"resid\").alias(\"ind_ret_excess\")\n",
    "    )[:5]\n",
    ")\n"
   ]
  },
  {
   "cell_type": "markdown",
   "metadata": {},
   "source": [
    "## 37. 每天每个行业去除本行业后的市场超额收益率是多少？"
   ]
  },
  {
   "cell_type": "code",
   "execution_count": 6,
   "metadata": {},
   "outputs": [
    {
     "data": {
      "text/html": [
       "<div><style>\n",
       ".dataframe > thead > tr,\n",
       ".dataframe > tbody > tr {\n",
       "  text-align: right;\n",
       "  white-space: pre-wrap;\n",
       "}\n",
       "</style>\n",
       "<small>shape: (5, 3)</small><table border=\"1\" class=\"dataframe\"><thead><tr><th>date</th><th>industry</th><th>ind_ret_excess</th></tr><tr><td>i64</td><td>str</td><td>f64</td></tr></thead><tbody><tr><td>20120104</td><td>&quot;AERODEF&quot;</td><td>-0.018141</td></tr><tr><td>20120104</td><td>&quot;AERODEF&quot;</td><td>-0.017508</td></tr><tr><td>20120104</td><td>&quot;AERODEF&quot;</td><td>-0.017</td></tr><tr><td>20120104</td><td>&quot;AERODEF&quot;</td><td>-0.019237</td></tr><tr><td>20120104</td><td>&quot;AERODEF&quot;</td><td>-0.017052</td></tr></tbody></table></div>"
      ],
      "text/plain": [
       "shape: (5, 3)\n",
       "┌──────────┬──────────┬────────────────┐\n",
       "│ date     ┆ industry ┆ ind_ret_excess │\n",
       "│ ---      ┆ ---      ┆ ---            │\n",
       "│ i64      ┆ str      ┆ f64            │\n",
       "╞══════════╪══════════╪════════════════╡\n",
       "│ 20120104 ┆ AERODEF  ┆ -0.018141      │\n",
       "│ 20120104 ┆ AERODEF  ┆ -0.017508      │\n",
       "│ 20120104 ┆ AERODEF  ┆ -0.017         │\n",
       "│ 20120104 ┆ AERODEF  ┆ -0.019237      │\n",
       "│ 20120104 ┆ AERODEF  ┆ -0.017052      │\n",
       "└──────────┴──────────┴────────────────┘"
      ]
     },
     "execution_count": null,
     "metadata": {},
     "output_type": "execute_result"
    }
   ],
   "source": [
    "import polars_ds as pds\n",
    "(\n",
    "    data\n",
    "    .with_columns(\n",
    "        stkcd_ret = (pl.col(\"close\")/pl.col(\"pre_close\") - 1),\n",
    "        stkcd_ind_weight = (pl.col(\"capt\")/(pl.col(\"capt\").sum())).over([\"date\", \"industry\"]),\n",
    "        stkcd_mkt_weight = (pl.col(\"capt\")/(pl.col(\"capt\").sum())).over([\"date\"])\n",
    "    )\n",
    "    .with_columns(\n",
    "        ind_ret = (pl.col(\"stkcd_ret\")*pl.col(\"stkcd_ind_weight\")).sum().over([\"date\", \"industry\"]),\n",
    "        market_ret = (pl.col(\"stkcd_ret\")*pl.col(\"stkcd_mkt_weight\")).sum().over([\"date\"]),\n",
    "        ind_mkt_weight = (pl.col(\"stkcd_ind_weight\")/(pl.col(\"stkcd_mkt_weight\").sum())).over([\"date\"])\n",
    "    )\n",
    "    .with_columns(\n",
    "        mkt_ret_ex_ind = (pl.col(\"market_ret\") - pl.col(\"ind_ret\"))/(1 - pl.col(\"ind_mkt_weight\"))\n",
    "    )\n",
    "    .select(\n",
    "        \"date\",\n",
    "        \"industry\",\n",
    "        \"ind_ret\",\n",
    "        \"mkt_ret_ex_ind\"\n",
    "    )\n",
    "    .unique()\n",
    "    .sort([\"industry\", \"date\"])\n",
    "    .with_columns(\n",
    "        pds.lin_reg(\n",
    "            pl.col(\"mkt_ret_ex_ind\"),\n",
    "            target = pl.col(\"ind_ret\"),\n",
    "            add_bias = True,\n",
    "            return_pred = True\n",
    "        )\n",
    "        .over(pl.col(\"industry\"))\n",
    "        .alias(\"prediction\")\n",
    "    )\n",
    "    .unnest(\"prediction\")\n",
    "    .select(\n",
    "        \"date\",\n",
    "        \"industry\",\n",
    "        pl.col(\"resid\").alias(\"ind_ret_excess\")\n",
    "    )[:5]\n",
    ")"
   ]
  },
  {
   "cell_type": "markdown",
   "metadata": {},
   "source": [
    "## 38. 每天分别有多少股票是最近连续3个交易日上涨、下跌的？"
   ]
  },
  {
   "cell_type": "code",
   "execution_count": 12,
   "metadata": {},
   "outputs": [
    {
     "data": {
      "text/html": [
       "<div><style>\n",
       ".dataframe > thead > tr,\n",
       ".dataframe > tbody > tr {\n",
       "  text-align: right;\n",
       "  white-space: pre-wrap;\n",
       "}\n",
       "</style>\n",
       "<small>shape: (117, 3)</small><table border=\"1\" class=\"dataframe\"><thead><tr><th>date</th><th>up_num_3</th><th>down_num_3</th></tr><tr><td>i64</td><td>u32</td><td>u32</td></tr></thead><tbody><tr><td>20120104</td><td>0</td><td>0</td></tr><tr><td>20120105</td><td>0</td><td>0</td></tr><tr><td>20120106</td><td>16</td><td>535</td></tr><tr><td>20120109</td><td>71</td><td>11</td></tr><tr><td>20120110</td><td>1401</td><td>2</td></tr><tr><td>&hellip;</td><td>&hellip;</td><td>&hellip;</td></tr><tr><td>20120625</td><td>26</td><td>866</td></tr><tr><td>20120626</td><td>30</td><td>663</td></tr><tr><td>20120627</td><td>48</td><td>511</td></tr><tr><td>20120628</td><td>90</td><td>470</td></tr><tr><td>20120629</td><td>156</td><td>138</td></tr></tbody></table></div>"
      ],
      "text/plain": [
       "shape: (117, 3)\n",
       "┌──────────┬──────────┬────────────┐\n",
       "│ date     ┆ up_num_3 ┆ down_num_3 │\n",
       "│ ---      ┆ ---      ┆ ---        │\n",
       "│ i64      ┆ u32      ┆ u32        │\n",
       "╞══════════╪══════════╪════════════╡\n",
       "│ 20120104 ┆ 0        ┆ 0          │\n",
       "│ 20120105 ┆ 0        ┆ 0          │\n",
       "│ 20120106 ┆ 16       ┆ 535        │\n",
       "│ 20120109 ┆ 71       ┆ 11         │\n",
       "│ 20120110 ┆ 1401     ┆ 2          │\n",
       "│ …        ┆ …        ┆ …          │\n",
       "│ 20120625 ┆ 26       ┆ 866        │\n",
       "│ 20120626 ┆ 30       ┆ 663        │\n",
       "│ 20120627 ┆ 48       ┆ 511        │\n",
       "│ 20120628 ┆ 90       ┆ 470        │\n",
       "│ 20120629 ┆ 156      ┆ 138        │\n",
       "└──────────┴──────────┴────────────┘"
      ]
     },
     "execution_count": 12,
     "metadata": {},
     "output_type": "execute_result"
    }
   ],
   "source": [
    "(\n",
    "    data\n",
    "    .with_columns(\n",
    "        up = pl.when(pl.col(\"close\") > pl.col(\"pre_close\")).then(1).otherwise(0),\n",
    "        down = pl.when(pl.col(\"close\") < pl.col(\"pre_close\")).then(1).otherwise(0)\n",
    "    )\n",
    "    .with_columns(\n",
    "        up_num_3 = pl.col(\"up\").rolling_sum(3).over(\"symbol\"),\n",
    "        down_num_3 = pl.col(\"down\").rolling_sum(3).over(\"symbol\")\n",
    "    )\n",
    "    .select(\n",
    "        date = pl.col(\"date\"),\n",
    "        up_num_3 = pl.col(\"symbol\").filter(pl.col(\"up_num_3\") == 3).n_unique().over(\"date\"),\n",
    "        down_num_3 = pl.col(\"symbol\").filter(pl.col(\"down_num_3\") == 3).n_unique().over(\"date\")\n",
    "    )\n",
    "    .unique()\n",
    "    .sort([\"date\", \"up_num_3\", \"down_num_3\"])\n",
    ")\n",
    "\n"
   ]
  },
  {
   "cell_type": "markdown",
   "metadata": {},
   "source": [
    "## 39. 每天分别有多少股票是最近连续3个交易日收益率超过当天市场平均收益率？"
   ]
  },
  {
   "cell_type": "code",
   "execution_count": 13,
   "metadata": {},
   "outputs": [
    {
     "data": {
      "text/html": [
       "<div><style>\n",
       ".dataframe > thead > tr,\n",
       ".dataframe > tbody > tr {\n",
       "  text-align: right;\n",
       "  white-space: pre-wrap;\n",
       "}\n",
       "</style>\n",
       "<small>shape: (117, 2)</small><table border=\"1\" class=\"dataframe\"><thead><tr><th>date</th><th>stkcd_ex_mkt_num_3</th></tr><tr><td>i64</td><td>u32</td></tr></thead><tbody><tr><td>20120104</td><td>0</td></tr><tr><td>20120105</td><td>0</td></tr><tr><td>20120106</td><td>81</td></tr><tr><td>20120109</td><td>95</td></tr><tr><td>20120110</td><td>785</td></tr><tr><td>&hellip;</td><td>&hellip;</td></tr><tr><td>20120625</td><td>251</td></tr><tr><td>20120626</td><td>258</td></tr><tr><td>20120627</td><td>242</td></tr><tr><td>20120628</td><td>275</td></tr><tr><td>20120629</td><td>239</td></tr></tbody></table></div>"
      ],
      "text/plain": [
       "shape: (117, 2)\n",
       "┌──────────┬────────────────────┐\n",
       "│ date     ┆ stkcd_ex_mkt_num_3 │\n",
       "│ ---      ┆ ---                │\n",
       "│ i64      ┆ u32                │\n",
       "╞══════════╪════════════════════╡\n",
       "│ 20120104 ┆ 0                  │\n",
       "│ 20120105 ┆ 0                  │\n",
       "│ 20120106 ┆ 81                 │\n",
       "│ 20120109 ┆ 95                 │\n",
       "│ 20120110 ┆ 785                │\n",
       "│ …        ┆ …                  │\n",
       "│ 20120625 ┆ 251                │\n",
       "│ 20120626 ┆ 258                │\n",
       "│ 20120627 ┆ 242                │\n",
       "│ 20120628 ┆ 275                │\n",
       "│ 20120629 ┆ 239                │\n",
       "└──────────┴────────────────────┘"
      ]
     },
     "execution_count": 13,
     "metadata": {},
     "output_type": "execute_result"
    }
   ],
   "source": [
    "(\n",
    "    data\n",
    "    .with_columns(\n",
    "        stkcd_ret = pl.col(\"close\")/pl.col(\"pre_close\") - 1,\n",
    "        stkcd_weight = (pl.col(\"capt\")/(pl.col(\"capt\").sum())).over(\"date\")\n",
    "    )\n",
    "    .with_columns(\n",
    "        mkt_ret = (pl.col(\"stkcd_ret\")*pl.col(\"stkcd_weight\")).sum().over(\"date\")\n",
    "    )\n",
    "    .with_columns(\n",
    "        stkcd_ex_mkt = pl.when(pl.col(\"stkcd_ret\") > pl.col(\"mkt_ret\")).then(1).otherwise(0)\n",
    "    )\n",
    "    .with_columns(\n",
    "        stkcd_ex_mkt_num_3 = pl.col(\"stkcd_ex_mkt\").rolling_sum(3).over(\"symbol\")\n",
    "    )\n",
    "    .select(\n",
    "        date = pl.col(\"date\"),\n",
    "        stkcd_ex_mkt_num_3 = pl.col(\"symbol\").filter(pl.col(\"stkcd_ex_mkt_num_3\") == 3).n_unique().over(\"date\")\n",
    "    )\n",
    "    .unique()\n",
    "    .sort([\"date\", \"stkcd_ex_mkt_num_3\"])\n",
    ")"
   ]
  },
  {
   "cell_type": "markdown",
   "metadata": {},
   "source": [
    "## 40. 每天分别有多少股票是最新5个交易日中至少有4个交易日的收益率超过当天市场平均收益率？"
   ]
  },
  {
   "cell_type": "code",
   "execution_count": 15,
   "metadata": {},
   "outputs": [
    {
     "data": {
      "text/html": [
       "<div><style>\n",
       ".dataframe > thead > tr,\n",
       ".dataframe > tbody > tr {\n",
       "  text-align: right;\n",
       "  white-space: pre-wrap;\n",
       "}\n",
       "</style>\n",
       "<small>shape: (117, 2)</small><table border=\"1\" class=\"dataframe\"><thead><tr><th>date</th><th>stkcd_ex_mkt_num_5</th></tr><tr><td>i64</td><td>u32</td></tr></thead><tbody><tr><td>20120104</td><td>0</td></tr><tr><td>20120105</td><td>0</td></tr><tr><td>20120106</td><td>0</td></tr><tr><td>20120109</td><td>0</td></tr><tr><td>20120110</td><td>235</td></tr><tr><td>&hellip;</td><td>&hellip;</td></tr><tr><td>20120625</td><td>405</td></tr><tr><td>20120626</td><td>338</td></tr><tr><td>20120627</td><td>365</td></tr><tr><td>20120628</td><td>375</td></tr><tr><td>20120629</td><td>360</td></tr></tbody></table></div>"
      ],
      "text/plain": [
       "shape: (117, 2)\n",
       "┌──────────┬────────────────────┐\n",
       "│ date     ┆ stkcd_ex_mkt_num_5 │\n",
       "│ ---      ┆ ---                │\n",
       "│ i64      ┆ u32                │\n",
       "╞══════════╪════════════════════╡\n",
       "│ 20120104 ┆ 0                  │\n",
       "│ 20120105 ┆ 0                  │\n",
       "│ 20120106 ┆ 0                  │\n",
       "│ 20120109 ┆ 0                  │\n",
       "│ 20120110 ┆ 235                │\n",
       "│ …        ┆ …                  │\n",
       "│ 20120625 ┆ 405                │\n",
       "│ 20120626 ┆ 338                │\n",
       "│ 20120627 ┆ 365                │\n",
       "│ 20120628 ┆ 375                │\n",
       "│ 20120629 ┆ 360                │\n",
       "└──────────┴────────────────────┘"
      ]
     },
     "execution_count": 15,
     "metadata": {},
     "output_type": "execute_result"
    }
   ],
   "source": [
    "(\n",
    "    data\n",
    "    .with_columns(\n",
    "        stkcd_ret = pl.col(\"close\")/pl.col(\"pre_close\") - 1,\n",
    "        stkcd_weight = (pl.col(\"capt\")/(pl.col(\"capt\").sum())).over(\"date\")\n",
    "    )\n",
    "    .with_columns(\n",
    "        mkt_ret = (pl.col(\"stkcd_ret\")*pl.col(\"stkcd_weight\")).sum().over(\"date\")\n",
    "    )\n",
    "    .with_columns(\n",
    "        stkcd_ex_mkt = pl.when(pl.col(\"stkcd_ret\") > pl.col(\"mkt_ret\")).then(1).otherwise(0)\n",
    "    )\n",
    "    .with_columns(\n",
    "        stkcd_ex_mkt_num_5 = pl.col(\"stkcd_ex_mkt\").rolling_sum(5).over(\"symbol\")\n",
    "    )\n",
    "    .select(\n",
    "        date = pl.col(\"date\"),\n",
    "        stkcd_ex_mkt_num_5 = pl.col(\"symbol\").filter(pl.col(\"stkcd_ex_mkt_num_5\") >= 4).n_unique().over(\"date\")\n",
    "    )\n",
    "    .unique()\n",
    "    .sort([\"date\", \"stkcd_ex_mkt_num_5\"])\n",
    ")"
   ]
  },
  {
   "cell_type": "markdown",
   "metadata": {},
   "source": [
    "## 41. 每个月中，个股月收益超过市场月收益1倍以上的股票有哪些？"
   ]
  },
  {
   "cell_type": "code",
   "execution_count": 39,
   "metadata": {},
   "outputs": [
    {
     "data": {
      "text/html": [
       "<div><style>\n",
       ".dataframe > thead > tr,\n",
       ".dataframe > tbody > tr {\n",
       "  text-align: right;\n",
       "  white-space: pre-wrap;\n",
       "}\n",
       "</style>\n",
       "<small>shape: (5_086, 4)</small><table border=\"1\" class=\"dataframe\"><thead><tr><th>symbol</th><th>date_ym</th><th>stkcd_m_ret</th><th>mkt_m_ret</th></tr><tr><td>str</td><td>str</td><td>f64</td><td>f64</td></tr></thead><tbody><tr><td>&quot;000001.SZ&quot;</td><td>&quot;201201&quot;</td><td>0.097625</td><td>0.023567</td></tr><tr><td>&quot;000006.SZ&quot;</td><td>&quot;201201&quot;</td><td>0.081281</td><td>0.023567</td></tr><tr><td>&quot;000008.SZ&quot;</td><td>&quot;201201&quot;</td><td>0.060423</td><td>0.023567</td></tr><tr><td>&quot;000009.SZ&quot;</td><td>&quot;201201&quot;</td><td>0.277228</td><td>0.023567</td></tr><tr><td>&quot;000012.SZ&quot;</td><td>&quot;201201&quot;</td><td>0.146172</td><td>0.023567</td></tr><tr><td>&hellip;</td><td>&hellip;</td><td>&hellip;</td><td>&hellip;</td></tr><tr><td>&quot;601991.SH&quot;</td><td>&quot;201206&quot;</td><td>0.110454</td><td>-0.034187</td></tr><tr><td>&quot;601996.SH&quot;</td><td>&quot;201206&quot;</td><td>0.135563</td><td>-0.034187</td></tr><tr><td>&quot;601998.SH&quot;</td><td>&quot;201206&quot;</td><td>-0.056604</td><td>-0.034187</td></tr><tr><td>&quot;603000.SH&quot;</td><td>&quot;201206&quot;</td><td>-0.007499</td><td>-0.034187</td></tr><tr><td>&quot;603001.SH&quot;</td><td>&quot;201206&quot;</td><td>0.055708</td><td>-0.034187</td></tr></tbody></table></div>"
      ],
      "text/plain": [
       "shape: (5_086, 4)\n",
       "┌───────────┬─────────┬─────────────┬───────────┐\n",
       "│ symbol    ┆ date_ym ┆ stkcd_m_ret ┆ mkt_m_ret │\n",
       "│ ---       ┆ ---     ┆ ---         ┆ ---       │\n",
       "│ str       ┆ str     ┆ f64         ┆ f64       │\n",
       "╞═══════════╪═════════╪═════════════╪═══════════╡\n",
       "│ 000001.SZ ┆ 201201  ┆ 0.097625    ┆ 0.023567  │\n",
       "│ 000006.SZ ┆ 201201  ┆ 0.081281    ┆ 0.023567  │\n",
       "│ 000008.SZ ┆ 201201  ┆ 0.060423    ┆ 0.023567  │\n",
       "│ 000009.SZ ┆ 201201  ┆ 0.277228    ┆ 0.023567  │\n",
       "│ 000012.SZ ┆ 201201  ┆ 0.146172    ┆ 0.023567  │\n",
       "│ …         ┆ …       ┆ …           ┆ …         │\n",
       "│ 601991.SH ┆ 201206  ┆ 0.110454    ┆ -0.034187 │\n",
       "│ 601996.SH ┆ 201206  ┆ 0.135563    ┆ -0.034187 │\n",
       "│ 601998.SH ┆ 201206  ┆ -0.056604   ┆ -0.034187 │\n",
       "│ 603000.SH ┆ 201206  ┆ -0.007499   ┆ -0.034187 │\n",
       "│ 603001.SH ┆ 201206  ┆ 0.055708    ┆ -0.034187 │\n",
       "└───────────┴─────────┴─────────────┴───────────┘"
      ]
     },
     "execution_count": 39,
     "metadata": {},
     "output_type": "execute_result"
    }
   ],
   "source": [
    "(\n",
    "    data\n",
    "    .with_columns(\n",
    "        date_ym = pl.col(\"date\").cast(str).str.slice(0, 6),\n",
    "        stkcd_weight = (pl.col(\"capt\")/(pl.col(\"capt\").sum().over(\"date\")))\n",
    "    )\n",
    "    .with_columns(\n",
    "        mkt_close = (pl.col(\"close\")*pl.col(\"stkcd_weight\")).sum().over(\"date\"),\n",
    "        stkcd_m_ret = (pl.col(\"close\").last()/pl.col(\"close\").first() - 1).over([\"symbol\", \"date_ym\"]),\n",
    "    )\n",
    "    .with_columns(\n",
    "        mkt_m_ret = (pl.col(\"mkt_close\").last().over([\"symbol\", \"date_ym\"])/pl.col(\"mkt_close\").first().over([\"symbol\", \"date_ym\"]) - 1)\n",
    "    )\n",
    "    .select(\n",
    "        symbol = pl.col(\"symbol\"),\n",
    "        date_ym = pl.col(\"date_ym\"),\n",
    "        stkcd_m_ret = pl.col(\"stkcd_m_ret\"),\n",
    "        mkt_m_ret = pl.col(\"mkt_m_ret\")\n",
    "    )\n",
    "    .unique()\n",
    "    .filter(\n",
    "        pl.col(\"stkcd_m_ret\") > 2*pl.col(\"mkt_m_ret\")\n",
    "    )\n",
    "    .sort([\"date_ym\", \"symbol\"])\n",
    ")\n"
   ]
  },
  {
   "cell_type": "markdown",
   "metadata": {},
   "source": [
    "## 42. 每个月中，个股月收益超过行业月收益1倍以上的股票有哪些？"
   ]
  },
  {
   "cell_type": "code",
   "execution_count": 7,
   "metadata": {},
   "outputs": [
    {
     "data": {
      "text/html": [
       "<div><style>\n",
       ".dataframe > thead > tr,\n",
       ".dataframe > tbody > tr {\n",
       "  text-align: right;\n",
       "  white-space: pre-wrap;\n",
       "}\n",
       "</style>\n",
       "<small>shape: (7_551, 4)</small><table border=\"1\" class=\"dataframe\"><thead><tr><th>symbol</th><th>date_ym</th><th>stkcd_m_ret</th><th>ind_m_ret</th></tr><tr><td>str</td><td>str</td><td>f64</td><td>f64</td></tr></thead><tbody><tr><td>&quot;000004.SZ&quot;</td><td>&quot;201201&quot;</td><td>0.045512</td><td>-0.05855</td></tr><tr><td>&quot;000006.SZ&quot;</td><td>&quot;201201&quot;</td><td>0.081281</td><td>0.037408</td></tr><tr><td>&quot;000007.SZ&quot;</td><td>&quot;201201&quot;</td><td>0.014472</td><td>-0.020458</td></tr><tr><td>&quot;000016.SZ&quot;</td><td>&quot;201201&quot;</td><td>-0.012698</td><td>-0.010977</td></tr><tr><td>&quot;000017.SZ&quot;</td><td>&quot;201201&quot;</td><td>0.132841</td><td>-0.062537</td></tr><tr><td>&hellip;</td><td>&hellip;</td><td>&hellip;</td><td>&hellip;</td></tr><tr><td>&quot;603000.SH&quot;</td><td>&quot;201206&quot;</td><td>-0.007499</td><td>-0.069421</td></tr><tr><td>&quot;603001.SH&quot;</td><td>&quot;201206&quot;</td><td>0.055708</td><td>0.007003</td></tr><tr><td>&quot;603002.SH&quot;</td><td>&quot;201206&quot;</td><td>-0.09396</td><td>-0.106101</td></tr><tr><td>&quot;603333.SH&quot;</td><td>&quot;201206&quot;</td><td>-0.11546</td><td>-0.102132</td></tr><tr><td>&quot;603366.SH&quot;</td><td>&quot;201206&quot;</td><td>-0.104872</td><td>-0.094927</td></tr></tbody></table></div>"
      ],
      "text/plain": [
       "shape: (7_551, 4)\n",
       "┌───────────┬─────────┬─────────────┬───────────┐\n",
       "│ symbol    ┆ date_ym ┆ stkcd_m_ret ┆ ind_m_ret │\n",
       "│ ---       ┆ ---     ┆ ---         ┆ ---       │\n",
       "│ str       ┆ str     ┆ f64         ┆ f64       │\n",
       "╞═══════════╪═════════╪═════════════╪═══════════╡\n",
       "│ 000004.SZ ┆ 201201  ┆ 0.045512    ┆ -0.05855  │\n",
       "│ 000006.SZ ┆ 201201  ┆ 0.081281    ┆ 0.037408  │\n",
       "│ 000007.SZ ┆ 201201  ┆ 0.014472    ┆ -0.020458 │\n",
       "│ 000016.SZ ┆ 201201  ┆ -0.012698   ┆ -0.010977 │\n",
       "│ 000017.SZ ┆ 201201  ┆ 0.132841    ┆ -0.062537 │\n",
       "│ …         ┆ …       ┆ …           ┆ …         │\n",
       "│ 603000.SH ┆ 201206  ┆ -0.007499   ┆ -0.069421 │\n",
       "│ 603001.SH ┆ 201206  ┆ 0.055708    ┆ 0.007003  │\n",
       "│ 603002.SH ┆ 201206  ┆ -0.09396    ┆ -0.106101 │\n",
       "│ 603333.SH ┆ 201206  ┆ -0.11546    ┆ -0.102132 │\n",
       "│ 603366.SH ┆ 201206  ┆ -0.104872   ┆ -0.094927 │\n",
       "└───────────┴─────────┴─────────────┴───────────┘"
      ]
     },
     "execution_count": 7,
     "metadata": {},
     "output_type": "execute_result"
    }
   ],
   "source": [
    "(\n",
    "    data\n",
    "    .with_columns(\n",
    "        date_ym = pl.col(\"date\").cast(str).str.slice(0, 6),\n",
    "        stkcd_ind_weight = (pl.col(\"capt\")/(pl.col(\"capt\").sum().over([\"date\", \"industry\"])))\n",
    "    )\n",
    "    .with_columns(\n",
    "        stkcd_m_ret = (pl.col(\"close\").last().over([\"symbol\", \"date_ym\"]))/(pl.col(\"close\").first().over([\"symbol\", \"date_ym\"])) - 1,\n",
    "        ind_close = (pl.col(\"close\")*pl.col(\"stkcd_ind_weight\")).sum().over([\"date\", \"industry\"]),\n",
    "    )\n",
    "    .with_columns(\n",
    "        ind_m_ret = (pl.col(\"ind_close\").last().over([\"symbol\", \"date_ym\"])/pl.col(\"ind_close\").first().over([\"symbol\", \"date_ym\"]) - 1)\n",
    "    )\n",
    "    .filter(\n",
    "        pl.col(\"stkcd_m_ret\") > 2 * pl.col(\"ind_m_ret\")\n",
    "    )\n",
    "    .select(\n",
    "        symbol = pl.col(\"symbol\"),\n",
    "        date_ym = pl.col(\"date_ym\"),\n",
    "        stkcd_m_ret = pl.col(\"stkcd_m_ret\"),\n",
    "        ind_m_ret = pl.col(\"ind_m_ret\")\n",
    "    )\n",
    "    .unique()\n",
    "    .sort([\"date_ym\", \"symbol\"])\n",
    ")"
   ]
  },
  {
   "cell_type": "markdown",
   "metadata": {},
   "source": [
    "## 43. 每个股票的收益率对市场收益率的相关系数最高的10个股票是哪些？"
   ]
  },
  {
   "cell_type": "code",
   "execution_count": 11,
   "metadata": {},
   "outputs": [
    {
     "data": {
      "text/html": [
       "<div><style>\n",
       ".dataframe > thead > tr,\n",
       ".dataframe > tbody > tr {\n",
       "  text-align: right;\n",
       "  white-space: pre-wrap;\n",
       "}\n",
       "</style>\n",
       "<small>shape: (10, 3)</small><table border=\"1\" class=\"dataframe\"><thead><tr><th>symbol</th><th>date</th><th>corr</th></tr><tr><td>str</td><td>i64</td><td>f64</td></tr></thead><tbody><tr><td>&quot;300331.SZ&quot;</td><td>20120629</td><td>1.0</td></tr><tr><td>&quot;600508.SH&quot;</td><td>20120629</td><td>0.927955</td></tr><tr><td>&quot;601101.SH&quot;</td><td>20120629</td><td>0.909776</td></tr><tr><td>&quot;000685.SZ&quot;</td><td>20120629</td><td>0.897915</td></tr><tr><td>&quot;601666.SH&quot;</td><td>20120629</td><td>0.893953</td></tr><tr><td>&quot;002082.SZ&quot;</td><td>20120629</td><td>0.89325</td></tr><tr><td>&quot;002212.SZ&quot;</td><td>20120629</td><td>0.89192</td></tr><tr><td>&quot;601001.SH&quot;</td><td>20120629</td><td>0.891893</td></tr><tr><td>&quot;000089.SZ&quot;</td><td>20120629</td><td>0.891447</td></tr><tr><td>&quot;601168.SH&quot;</td><td>20120629</td><td>0.888806</td></tr></tbody></table></div>"
      ],
      "text/plain": [
       "shape: (10, 3)\n",
       "┌───────────┬──────────┬──────────┐\n",
       "│ symbol    ┆ date     ┆ corr     │\n",
       "│ ---       ┆ ---      ┆ ---      │\n",
       "│ str       ┆ i64      ┆ f64      │\n",
       "╞═══════════╪══════════╪══════════╡\n",
       "│ 300331.SZ ┆ 20120629 ┆ 1.0      │\n",
       "│ 600508.SH ┆ 20120629 ┆ 0.927955 │\n",
       "│ 601101.SH ┆ 20120629 ┆ 0.909776 │\n",
       "│ 000685.SZ ┆ 20120629 ┆ 0.897915 │\n",
       "│ 601666.SH ┆ 20120629 ┆ 0.893953 │\n",
       "│ 002082.SZ ┆ 20120629 ┆ 0.89325  │\n",
       "│ 002212.SZ ┆ 20120629 ┆ 0.89192  │\n",
       "│ 601001.SH ┆ 20120629 ┆ 0.891893 │\n",
       "│ 000089.SZ ┆ 20120629 ┆ 0.891447 │\n",
       "│ 601168.SH ┆ 20120629 ┆ 0.888806 │\n",
       "└───────────┴──────────┴──────────┘"
      ]
     },
     "execution_count": 11,
     "metadata": {},
     "output_type": "execute_result"
    }
   ],
   "source": [
    "(\n",
    "    data\n",
    "    .with_columns(\n",
    "        stkcd_ret = pl.col(\"close\")/pl.col(\"pre_close\") - 1,\n",
    "        stkcd_weight = (pl.col(\"capt\")/(pl.col(\"capt\").sum())).over(\"date\")\n",
    "    )\n",
    "    .with_columns(\n",
    "        mkt_ret = (pl.col(\"stkcd_ret\")*pl.col(\"stkcd_weight\")).sum().over(\"date\")\n",
    "    )\n",
    "    .select(\n",
    "        \"symbol\",\n",
    "        \"date\",\n",
    "        pl.corr(\"stkcd_ret\", \"mkt_ret\").over(\"symbol\").alias(\"corr\")\n",
    "    )\n",
    "    .unique()\n",
    "    .filter(\n",
    "        ~pl.col(\"corr\").is_nan()\n",
    "    )\n",
    "    .sort([\"date\", \"corr\"], descending = True)\n",
    "    [:10]\n",
    ")\n"
   ]
  },
  {
   "cell_type": "markdown",
   "metadata": {},
   "source": [
    "## 44. 每个行业日收益率的历史波动率是多少？（用日收益率计算标准差）"
   ]
  },
  {
   "cell_type": "code",
   "execution_count": 12,
   "metadata": {},
   "outputs": [
    {
     "data": {
      "text/html": [
       "<div><style>\n",
       ".dataframe > thead > tr,\n",
       ".dataframe > tbody > tr {\n",
       "  text-align: right;\n",
       "  white-space: pre-wrap;\n",
       "}\n",
       "</style>\n",
       "<small>shape: (32, 2)</small><table border=\"1\" class=\"dataframe\"><thead><tr><th>industry</th><th>ind_vol</th></tr><tr><td>str</td><td>f64</td></tr></thead><tbody><tr><td>&quot;AERODEF&quot;</td><td>0.017359</td></tr><tr><td>&quot;AIRLINE&quot;</td><td>0.017032</td></tr><tr><td>&quot;AUTO&quot;</td><td>0.01499</td></tr><tr><td>&quot;BANKS&quot;</td><td>0.008073</td></tr><tr><td>&quot;BEV&quot;</td><td>0.016319</td></tr><tr><td>&hellip;</td><td>&hellip;</td></tr><tr><td>&quot;REALEST&quot;</td><td>0.017284</td></tr><tr><td>&quot;RETAIL&quot;</td><td>0.015696</td></tr><tr><td>&quot;SOFTWARE&quot;</td><td>0.0178</td></tr><tr><td>&quot;TRDDIST&quot;</td><td>0.017118</td></tr><tr><td>&quot;UTILITIE&quot;</td><td>0.011722</td></tr></tbody></table></div>"
      ],
      "text/plain": [
       "shape: (32, 2)\n",
       "┌──────────┬──────────┐\n",
       "│ industry ┆ ind_vol  │\n",
       "│ ---      ┆ ---      │\n",
       "│ str      ┆ f64      │\n",
       "╞══════════╪══════════╡\n",
       "│ AERODEF  ┆ 0.017359 │\n",
       "│ AIRLINE  ┆ 0.017032 │\n",
       "│ AUTO     ┆ 0.01499  │\n",
       "│ BANKS    ┆ 0.008073 │\n",
       "│ BEV      ┆ 0.016319 │\n",
       "│ …        ┆ …        │\n",
       "│ REALEST  ┆ 0.017284 │\n",
       "│ RETAIL   ┆ 0.015696 │\n",
       "│ SOFTWARE ┆ 0.0178   │\n",
       "│ TRDDIST  ┆ 0.017118 │\n",
       "│ UTILITIE ┆ 0.011722 │\n",
       "└──────────┴──────────┘"
      ]
     },
     "execution_count": 12,
     "metadata": {},
     "output_type": "execute_result"
    }
   ],
   "source": [
    "(\n",
    "    data\n",
    "    .with_columns(\n",
    "        stkcd_ret = pl.col(\"close\")/pl.col(\"pre_close\") - 1,\n",
    "        stkcd_ind_weight = (pl.col(\"capt\")/(pl.col(\"capt\").sum())).over([\"date\", \"industry\"])\n",
    "    )\n",
    "    .with_columns(\n",
    "        ind_ret = (pl.col(\"stkcd_ret\")*pl.col(\"stkcd_ind_weight\")).sum().over([\"date\", \"industry\"])\n",
    "    )\n",
    "    .select(\n",
    "        industry = pl.col(\"industry\"),\n",
    "        ind_vol = pl.col(\"ind_ret\").std().over(\"industry\")\n",
    "    )\n",
    "    .unique()\n",
    "    .sort([\"industry\", \"ind_vol\"])\n",
    ")"
   ]
  },
  {
   "cell_type": "markdown",
   "metadata": {},
   "source": [
    "## 45. 各个行业的日收益率的相关系数矩阵如何？哪两个行业相关性最高、最低？"
   ]
  },
  {
   "cell_type": "code",
   "execution_count": 24,
   "metadata": {},
   "outputs": [
    {
     "data": {
      "text/html": [
       "<div><style>\n",
       ".dataframe > thead > tr,\n",
       ".dataframe > tbody > tr {\n",
       "  text-align: right;\n",
       "  white-space: pre-wrap;\n",
       "}\n",
       "</style>\n",
       "<small>shape: (32, 32)</small><table border=\"1\" class=\"dataframe\"><thead><tr><th>BANKS</th><th>RDRLTRAN</th><th>MTLMIN</th><th>AUTO</th><th>REALEST</th><th>UTILITIE</th><th>MARINE</th><th>ENERGY</th><th>AIRLINE</th><th>DVFININS</th><th>MACH</th><th>MEDIA</th><th>AERODEF</th><th>CNSTENG</th><th>HDWRSEMI</th><th>TRDDIST</th><th>CONSSERV</th><th>HEALTH</th><th>BEV</th><th>HOUSEDUR</th><th>LEISLUX</th><th>CHEM</th><th>ELECEQP</th><th>MATERIAL</th><th>FOODPROD</th><th>INDCONG</th><th>RETAIL</th><th>BLDPROD</th><th>CONMAT</th><th>PERSPRD</th><th>SOFTWARE</th><th>COMSERV</th></tr><tr><td>f64</td><td>f64</td><td>f64</td><td>f64</td><td>f64</td><td>f64</td><td>f64</td><td>f64</td><td>f64</td><td>f64</td><td>f64</td><td>f64</td><td>f64</td><td>f64</td><td>f64</td><td>f64</td><td>f64</td><td>f64</td><td>f64</td><td>f64</td><td>f64</td><td>f64</td><td>f64</td><td>f64</td><td>f64</td><td>f64</td><td>f64</td><td>f64</td><td>f64</td><td>f64</td><td>f64</td><td>f64</td></tr></thead><tbody><tr><td>1.0</td><td>0.718676</td><td>0.626276</td><td>0.606801</td><td>0.585352</td><td>0.608247</td><td>0.581819</td><td>0.760872</td><td>0.654099</td><td>0.701848</td><td>0.60012</td><td>0.519133</td><td>0.465783</td><td>0.627839</td><td>0.558363</td><td>0.630844</td><td>0.522336</td><td>0.473658</td><td>0.383583</td><td>0.572934</td><td>0.544504</td><td>0.560457</td><td>0.59309</td><td>0.481197</td><td>0.506564</td><td>0.5047</td><td>0.559214</td><td>0.492436</td><td>0.572595</td><td>0.529474</td><td>0.478655</td><td>0.49313</td></tr><tr><td>0.718676</td><td>1.0</td><td>0.831253</td><td>0.874041</td><td>0.794202</td><td>0.81905</td><td>0.846844</td><td>0.856754</td><td>0.850983</td><td>0.829757</td><td>0.855312</td><td>0.776697</td><td>0.696612</td><td>0.862651</td><td>0.821953</td><td>0.882893</td><td>0.7894</td><td>0.6761</td><td>0.49379</td><td>0.78476</td><td>0.837324</td><td>0.842615</td><td>0.838604</td><td>0.770055</td><td>0.752622</td><td>0.775722</td><td>0.825533</td><td>0.77538</td><td>0.81591</td><td>0.766715</td><td>0.73035</td><td>0.771725</td></tr><tr><td>0.626276</td><td>0.831253</td><td>1.0</td><td>0.823657</td><td>0.709485</td><td>0.786093</td><td>0.822583</td><td>0.848265</td><td>0.796893</td><td>0.771522</td><td>0.87193</td><td>0.790843</td><td>0.720849</td><td>0.864339</td><td>0.848576</td><td>0.915207</td><td>0.808085</td><td>0.707666</td><td>0.54891</td><td>0.774076</td><td>0.851209</td><td>0.907845</td><td>0.877598</td><td>0.790778</td><td>0.801223</td><td>0.817896</td><td>0.795802</td><td>0.803298</td><td>0.824352</td><td>0.790274</td><td>0.778547</td><td>0.762735</td></tr><tr><td>0.606801</td><td>0.874041</td><td>0.823657</td><td>1.0</td><td>0.828531</td><td>0.825702</td><td>0.809432</td><td>0.804894</td><td>0.818696</td><td>0.799564</td><td>0.903551</td><td>0.811508</td><td>0.800998</td><td>0.897974</td><td>0.877243</td><td>0.878464</td><td>0.853259</td><td>0.74409</td><td>0.533968</td><td>0.855163</td><td>0.871725</td><td>0.879147</td><td>0.879306</td><td>0.802517</td><td>0.811961</td><td>0.820294</td><td>0.86246</td><td>0.853847</td><td>0.838886</td><td>0.837697</td><td>0.822306</td><td>0.849278</td></tr><tr><td>0.585352</td><td>0.794202</td><td>0.709485</td><td>0.828531</td><td>1.0</td><td>0.744441</td><td>0.726297</td><td>0.742121</td><td>0.73425</td><td>0.750546</td><td>0.831989</td><td>0.724874</td><td>0.691247</td><td>0.85542</td><td>0.766616</td><td>0.823417</td><td>0.837292</td><td>0.653898</td><td>0.490988</td><td>0.796468</td><td>0.811534</td><td>0.785785</td><td>0.796434</td><td>0.775337</td><td>0.725734</td><td>0.80031</td><td>0.771229</td><td>0.794407</td><td>0.839655</td><td>0.723175</td><td>0.701977</td><td>0.784265</td></tr><tr><td>&hellip;</td><td>&hellip;</td><td>&hellip;</td><td>&hellip;</td><td>&hellip;</td><td>&hellip;</td><td>&hellip;</td><td>&hellip;</td><td>&hellip;</td><td>&hellip;</td><td>&hellip;</td><td>&hellip;</td><td>&hellip;</td><td>&hellip;</td><td>&hellip;</td><td>&hellip;</td><td>&hellip;</td><td>&hellip;</td><td>&hellip;</td><td>&hellip;</td><td>&hellip;</td><td>&hellip;</td><td>&hellip;</td><td>&hellip;</td><td>&hellip;</td><td>&hellip;</td><td>&hellip;</td><td>&hellip;</td><td>&hellip;</td><td>&hellip;</td><td>&hellip;</td><td>&hellip;</td></tr><tr><td>0.492436</td><td>0.77538</td><td>0.803298</td><td>0.853847</td><td>0.794407</td><td>0.797645</td><td>0.780425</td><td>0.730419</td><td>0.721121</td><td>0.71691</td><td>0.885429</td><td>0.853001</td><td>0.764393</td><td>0.87636</td><td>0.925031</td><td>0.881484</td><td>0.897564</td><td>0.825389</td><td>0.584932</td><td>0.846976</td><td>0.925965</td><td>0.924797</td><td>0.930992</td><td>0.865592</td><td>0.880963</td><td>0.859329</td><td>0.876892</td><td>1.0</td><td>0.819237</td><td>0.892116</td><td>0.88467</td><td>0.908562</td></tr><tr><td>0.572595</td><td>0.81591</td><td>0.824352</td><td>0.838886</td><td>0.839655</td><td>0.746566</td><td>0.797809</td><td>0.774167</td><td>0.767873</td><td>0.776073</td><td>0.921058</td><td>0.732443</td><td>0.739309</td><td>0.916646</td><td>0.809606</td><td>0.851671</td><td>0.837624</td><td>0.682142</td><td>0.5254</td><td>0.775264</td><td>0.829256</td><td>0.851568</td><td>0.845613</td><td>0.794888</td><td>0.766511</td><td>0.823928</td><td>0.786332</td><td>0.819237</td><td>1.0</td><td>0.750224</td><td>0.754734</td><td>0.788934</td></tr><tr><td>0.529474</td><td>0.766715</td><td>0.790274</td><td>0.837697</td><td>0.723175</td><td>0.811728</td><td>0.740172</td><td>0.740646</td><td>0.732164</td><td>0.73053</td><td>0.872875</td><td>0.853583</td><td>0.770809</td><td>0.849566</td><td>0.921828</td><td>0.874387</td><td>0.899692</td><td>0.895213</td><td>0.647726</td><td>0.835697</td><td>0.922456</td><td>0.89953</td><td>0.91234</td><td>0.834067</td><td>0.930906</td><td>0.814293</td><td>0.920144</td><td>0.892116</td><td>0.750224</td><td>1.0</td><td>0.895815</td><td>0.893613</td></tr><tr><td>0.478655</td><td>0.73035</td><td>0.778547</td><td>0.822306</td><td>0.701977</td><td>0.783975</td><td>0.74961</td><td>0.680883</td><td>0.733805</td><td>0.722164</td><td>0.871498</td><td>0.880056</td><td>0.783704</td><td>0.829065</td><td>0.955865</td><td>0.845122</td><td>0.900991</td><td>0.847162</td><td>0.613208</td><td>0.80672</td><td>0.925557</td><td>0.907963</td><td>0.929265</td><td>0.837999</td><td>0.900352</td><td>0.834709</td><td>0.867108</td><td>0.88467</td><td>0.754734</td><td>0.895815</td><td>1.0</td><td>0.91585</td></tr><tr><td>0.49313</td><td>0.771725</td><td>0.762735</td><td>0.849278</td><td>0.784265</td><td>0.82687</td><td>0.741415</td><td>0.692627</td><td>0.7236</td><td>0.715979</td><td>0.884493</td><td>0.861177</td><td>0.801909</td><td>0.868062</td><td>0.932473</td><td>0.867255</td><td>0.921697</td><td>0.857275</td><td>0.60506</td><td>0.814721</td><td>0.944455</td><td>0.900213</td><td>0.923465</td><td>0.867183</td><td>0.89314</td><td>0.849497</td><td>0.889649</td><td>0.908562</td><td>0.788934</td><td>0.893613</td><td>0.91585</td><td>1.0</td></tr></tbody></table></div>"
      ],
      "text/plain": [
       "shape: (32, 32)\n",
       "┌──────────┬──────────┬──────────┬──────────┬───┬──────────┬──────────┬──────────┬──────────┐\n",
       "│ BANKS    ┆ RDRLTRAN ┆ MTLMIN   ┆ AUTO     ┆ … ┆ CONMAT   ┆ PERSPRD  ┆ SOFTWARE ┆ COMSERV  │\n",
       "│ ---      ┆ ---      ┆ ---      ┆ ---      ┆   ┆ ---      ┆ ---      ┆ ---      ┆ ---      │\n",
       "│ f64      ┆ f64      ┆ f64      ┆ f64      ┆   ┆ f64      ┆ f64      ┆ f64      ┆ f64      │\n",
       "╞══════════╪══════════╪══════════╪══════════╪═══╪══════════╪══════════╪══════════╪══════════╡\n",
       "│ 1.0      ┆ 0.718676 ┆ 0.626276 ┆ 0.606801 ┆ … ┆ 0.572595 ┆ 0.529474 ┆ 0.478655 ┆ 0.49313  │\n",
       "│ 0.718676 ┆ 1.0      ┆ 0.831253 ┆ 0.874041 ┆ … ┆ 0.81591  ┆ 0.766715 ┆ 0.73035  ┆ 0.771725 │\n",
       "│ 0.626276 ┆ 0.831253 ┆ 1.0      ┆ 0.823657 ┆ … ┆ 0.824352 ┆ 0.790274 ┆ 0.778547 ┆ 0.762735 │\n",
       "│ 0.606801 ┆ 0.874041 ┆ 0.823657 ┆ 1.0      ┆ … ┆ 0.838886 ┆ 0.837697 ┆ 0.822306 ┆ 0.849278 │\n",
       "│ 0.585352 ┆ 0.794202 ┆ 0.709485 ┆ 0.828531 ┆ … ┆ 0.839655 ┆ 0.723175 ┆ 0.701977 ┆ 0.784265 │\n",
       "│ …        ┆ …        ┆ …        ┆ …        ┆ … ┆ …        ┆ …        ┆ …        ┆ …        │\n",
       "│ 0.492436 ┆ 0.77538  ┆ 0.803298 ┆ 0.853847 ┆ … ┆ 0.819237 ┆ 0.892116 ┆ 0.88467  ┆ 0.908562 │\n",
       "│ 0.572595 ┆ 0.81591  ┆ 0.824352 ┆ 0.838886 ┆ … ┆ 1.0      ┆ 0.750224 ┆ 0.754734 ┆ 0.788934 │\n",
       "│ 0.529474 ┆ 0.766715 ┆ 0.790274 ┆ 0.837697 ┆ … ┆ 0.750224 ┆ 1.0      ┆ 0.895815 ┆ 0.893613 │\n",
       "│ 0.478655 ┆ 0.73035  ┆ 0.778547 ┆ 0.822306 ┆ … ┆ 0.754734 ┆ 0.895815 ┆ 1.0      ┆ 0.91585  │\n",
       "│ 0.49313  ┆ 0.771725 ┆ 0.762735 ┆ 0.849278 ┆ … ┆ 0.788934 ┆ 0.893613 ┆ 0.91585  ┆ 1.0      │\n",
       "└──────────┴──────────┴──────────┴──────────┴───┴──────────┴──────────┴──────────┴──────────┘"
      ]
     },
     "execution_count": 24,
     "metadata": {},
     "output_type": "execute_result"
    }
   ],
   "source": [
    "(\n",
    "    data\n",
    "    .with_columns(\n",
    "        stkcd_ret = pl.col(\"close\")/pl.col(\"pre_close\") - 1,\n",
    "        stkcd_ind_weight = (pl.col(\"capt\")/(pl.col(\"capt\").sum())).over([\"date\", \"industry\"])\n",
    "    )\n",
    "    .with_columns(\n",
    "        ind_ret = (pl.col(\"stkcd_ret\")*pl.col(\"stkcd_ind_weight\")).sum().over([\"date\", \"industry\"])\n",
    "    )\n",
    "    .select(\n",
    "        industry = pl.col(\"industry\"),\n",
    "        date = pl.col(\"date\"),\n",
    "        ind_ret = pl.col(\"ind_ret\")\n",
    "    )\n",
    "    .pivot(\n",
    "        \"industry\",\n",
    "        index = \"date\",\n",
    "        values = \"ind_ret\",\n",
    "        aggregate_function = \"first\"\n",
    "    )\n",
    "    .select(\n",
    "        pl.exclude(\"date\")\n",
    "    )\n",
    "    .corr()\n",
    ")"
   ]
  },
  {
   "cell_type": "markdown",
   "metadata": {},
   "source": [
    "## 46. 各个行业的收益率对市场收益率的相关系数由高到低排列如何？"
   ]
  },
  {
   "cell_type": "code",
   "execution_count": 26,
   "metadata": {},
   "outputs": [
    {
     "data": {
      "text/html": [
       "<div><style>\n",
       ".dataframe > thead > tr,\n",
       ".dataframe > tbody > tr {\n",
       "  text-align: right;\n",
       "  white-space: pre-wrap;\n",
       "}\n",
       "</style>\n",
       "<small>shape: (32, 2)</small><table border=\"1\" class=\"dataframe\"><thead><tr><th>industry</th><th>corr</th></tr><tr><td>str</td><td>f64</td></tr></thead><tbody><tr><td>&quot;TRDDIST&quot;</td><td>0.951901</td></tr><tr><td>&quot;MACH&quot;</td><td>0.950965</td></tr><tr><td>&quot;CHEM&quot;</td><td>0.945402</td></tr><tr><td>&quot;ELECEQP&quot;</td><td>0.944826</td></tr><tr><td>&quot;CNSTENG&quot;</td><td>0.944062</td></tr><tr><td>&hellip;</td><td>&hellip;</td></tr><tr><td>&quot;REALEST&quot;</td><td>0.847987</td></tr><tr><td>&quot;HEALTH&quot;</td><td>0.825455</td></tr><tr><td>&quot;AERODEF&quot;</td><td>0.795422</td></tr><tr><td>&quot;BANKS&quot;</td><td>0.738928</td></tr><tr><td>&quot;BEV&quot;</td><td>0.656966</td></tr></tbody></table></div>"
      ],
      "text/plain": [
       "shape: (32, 2)\n",
       "┌──────────┬──────────┐\n",
       "│ industry ┆ corr     │\n",
       "│ ---      ┆ ---      │\n",
       "│ str      ┆ f64      │\n",
       "╞══════════╪══════════╡\n",
       "│ TRDDIST  ┆ 0.951901 │\n",
       "│ MACH     ┆ 0.950965 │\n",
       "│ CHEM     ┆ 0.945402 │\n",
       "│ ELECEQP  ┆ 0.944826 │\n",
       "│ CNSTENG  ┆ 0.944062 │\n",
       "│ …        ┆ …        │\n",
       "│ REALEST  ┆ 0.847987 │\n",
       "│ HEALTH   ┆ 0.825455 │\n",
       "│ AERODEF  ┆ 0.795422 │\n",
       "│ BANKS    ┆ 0.738928 │\n",
       "│ BEV      ┆ 0.656966 │\n",
       "└──────────┴──────────┘"
      ]
     },
     "execution_count": 26,
     "metadata": {},
     "output_type": "execute_result"
    }
   ],
   "source": [
    "(\n",
    "    data\n",
    "    .with_columns(\n",
    "        stkcd_ret = pl.col(\"close\")/pl.col(\"pre_close\") - 1,\n",
    "        stkcd_ind_weight = (pl.col(\"capt\")/(pl.col(\"capt\").sum())).over([\"date\", \"industry\"]),\n",
    "        stkcd_mkt_weight = (pl.col(\"capt\")/(pl.col(\"capt\").sum())).over(\"date\")\n",
    "    )\n",
    "    .with_columns(\n",
    "        ind_ret = (pl.col(\"stkcd_ret\")*pl.col(\"stkcd_ind_weight\")).sum().over([\"date\", \"industry\"]),\n",
    "        mkt_ret = (pl.col(\"stkcd_ret\")*pl.col(\"stkcd_mkt_weight\")).sum().over(\"date\")\n",
    "    )\n",
    "    .select(\n",
    "        industry = pl.col(\"industry\"),\n",
    "        corr = pl.corr(\"ind_ret\", \"mkt_ret\").over(\"industry\")\n",
    "    )\n",
    "    .unique()\n",
    "    .sort([\"corr\", \"industry\"], descending = [True, False])\n",
    ")\n"
   ]
  },
  {
   "cell_type": "markdown",
   "metadata": {},
   "source": [
    "## 47. 每个月总成交额比上个月下降幅度最大的行业是哪个？"
   ]
  },
  {
   "cell_type": "code",
   "execution_count": 34,
   "metadata": {},
   "outputs": [
    {
     "data": {
      "text/html": [
       "<div><style>\n",
       ".dataframe > thead > tr,\n",
       ".dataframe > tbody > tr {\n",
       "  text-align: right;\n",
       "  white-space: pre-wrap;\n",
       "}\n",
       "</style>\n",
       "<small>shape: (5, 2)</small><table border=\"1\" class=\"dataframe\"><thead><tr><th>industry</th><th>date_ym</th></tr><tr><td>str</td><td>str</td></tr></thead><tbody><tr><td>&quot;CONMAT&quot;</td><td>&quot;201203&quot;</td></tr><tr><td>&quot;MARINE&quot;</td><td>&quot;201202&quot;</td></tr><tr><td>&quot;MTLMIN&quot;</td><td>&quot;201204&quot;</td></tr><tr><td>&quot;MTLMIN&quot;</td><td>&quot;201206&quot;</td></tr><tr><td>&quot;REALEST&quot;</td><td>&quot;201205&quot;</td></tr></tbody></table></div>"
      ],
      "text/plain": [
       "shape: (5, 2)\n",
       "┌──────────┬─────────┐\n",
       "│ industry ┆ date_ym │\n",
       "│ ---      ┆ ---     │\n",
       "│ str      ┆ str     │\n",
       "╞══════════╪═════════╡\n",
       "│ CONMAT   ┆ 201203  │\n",
       "│ MARINE   ┆ 201202  │\n",
       "│ MTLMIN   ┆ 201204  │\n",
       "│ MTLMIN   ┆ 201206  │\n",
       "│ REALEST  ┆ 201205  │\n",
       "└──────────┴─────────┘"
      ]
     },
     "execution_count": 34,
     "metadata": {},
     "output_type": "execute_result"
    }
   ],
   "source": [
    "(\n",
    "    data\n",
    "    .with_columns(\n",
    "        date_ym = pl.col(\"date\").cast(str).str.slice(0, 6)\n",
    "    )\n",
    "    .select(\n",
    "        industry = pl.col(\"industry\"),\n",
    "        date_ym = pl.col(\"date_ym\"),\n",
    "        ind_amount = pl.col(\"amount\").sum().over([\"date_ym\", \"industry\"])\n",
    "    )\n",
    "    .unique()\n",
    "    .sort([\"industry\", \"date_ym\"])\n",
    "    .with_columns(\n",
    "        ind_amount_diff = pl.col(\"ind_amount\")-pl.col(\"ind_amount\").shift(1).over(\"industry\")\n",
    "    )\n",
    "    .filter(\n",
    "        pl.col(\"ind_amount_diff\") == pl.col(\"ind_amount_diff\").min().over(\"date_ym\")\n",
    "    )\n",
    "    .select(\n",
    "        industry = pl.col(\"industry\"),\n",
    "        date_ym = pl.col(\"date_ym\")\n",
    "    )\n",
    "    .unique()\n",
    "    .sort([\"industry\", \"date_ym\"])\n",
    ")"
   ]
  },
  {
   "cell_type": "markdown",
   "metadata": {},
   "source": [
    "## 48. 数据当中各个股票的最大回撤幅度是多少？（最大回撤是从一个高点到低点的降幅的最大值）"
   ]
  },
  {
   "cell_type": "code",
   "execution_count": 47,
   "metadata": {},
   "outputs": [
    {
     "data": {
      "text/html": [
       "<div><style>\n",
       ".dataframe > thead > tr,\n",
       ".dataframe > tbody > tr {\n",
       "  text-align: right;\n",
       "  white-space: pre-wrap;\n",
       "}\n",
       "</style>\n",
       "<small>shape: (2_425, 2)</small><table border=\"1\" class=\"dataframe\"><thead><tr><th>symbol</th><th>max_drawdown</th></tr><tr><td>str</td><td>f64</td></tr></thead><tbody><tr><td>&quot;000001.SZ&quot;</td><td>0.045177</td></tr><tr><td>&quot;000002.SZ&quot;</td><td>0.063712</td></tr><tr><td>&quot;000004.SZ&quot;</td><td>0.105495</td></tr><tr><td>&quot;000005.SZ&quot;</td><td>0.124088</td></tr><tr><td>&quot;000006.SZ&quot;</td><td>0.135246</td></tr><tr><td>&hellip;</td><td>&hellip;</td></tr><tr><td>&quot;603002.SH&quot;</td><td>0.12855</td></tr><tr><td>&quot;603123.SH&quot;</td><td>0.230435</td></tr><tr><td>&quot;603128.SH&quot;</td><td>0.094364</td></tr><tr><td>&quot;603333.SH&quot;</td><td>0.103484</td></tr><tr><td>&quot;603366.SH&quot;</td><td>0.065496</td></tr></tbody></table></div>"
      ],
      "text/plain": [
       "shape: (2_425, 2)\n",
       "┌───────────┬──────────────┐\n",
       "│ symbol    ┆ max_drawdown │\n",
       "│ ---       ┆ ---          │\n",
       "│ str       ┆ f64          │\n",
       "╞═══════════╪══════════════╡\n",
       "│ 000001.SZ ┆ 0.045177     │\n",
       "│ 000002.SZ ┆ 0.063712     │\n",
       "│ 000004.SZ ┆ 0.105495     │\n",
       "│ 000005.SZ ┆ 0.124088     │\n",
       "│ 000006.SZ ┆ 0.135246     │\n",
       "│ …         ┆ …            │\n",
       "│ 603002.SH ┆ 0.12855      │\n",
       "│ 603123.SH ┆ 0.230435     │\n",
       "│ 603128.SH ┆ 0.094364     │\n",
       "│ 603333.SH ┆ 0.103484     │\n",
       "│ 603366.SH ┆ 0.065496     │\n",
       "└───────────┴──────────────┘"
      ]
     },
     "execution_count": 47,
     "metadata": {},
     "output_type": "execute_result"
    }
   ],
   "source": [
    "(\n",
    "    data\n",
    "    .with_columns(\n",
    "        future_min = pl.col(\"low\")\n",
    "            .rolling_min(\n",
    "                window_size = 117,\n",
    "                min_periods = 1\n",
    "            ).over(\"symbol\")\n",
    "    )\n",
    "    .with_columns(\n",
    "        drawdown = (pl.col(\"high\")/pl.col(\"low\") - 1)\n",
    "    )\n",
    "    .group_by(\"symbol\")\n",
    "    .agg(\n",
    "        max_drawdown = pl.col(\"drawdown\").max()\n",
    "    )\n",
    "    .sort([\"symbol\"])\n",
    ")\n"
   ]
  },
  {
   "cell_type": "markdown",
   "metadata": {},
   "source": [
    "## 49. 每只股票的胜率是多少？（胜率是每天收益率为正数的概率）"
   ]
  },
  {
   "cell_type": "code",
   "execution_count": 50,
   "metadata": {},
   "outputs": [
    {
     "data": {
      "text/html": [
       "<div><style>\n",
       ".dataframe > thead > tr,\n",
       ".dataframe > tbody > tr {\n",
       "  text-align: right;\n",
       "  white-space: pre-wrap;\n",
       "}\n",
       "</style>\n",
       "<small>shape: (2_425, 2)</small><table border=\"1\" class=\"dataframe\"><thead><tr><th>symbol</th><th>win_rate</th></tr><tr><td>str</td><td>f64</td></tr></thead><tbody><tr><td>&quot;000001.SZ&quot;</td><td>0.418803</td></tr><tr><td>&quot;000002.SZ&quot;</td><td>0.470085</td></tr><tr><td>&quot;000004.SZ&quot;</td><td>0.512821</td></tr><tr><td>&quot;000005.SZ&quot;</td><td>0.153846</td></tr><tr><td>&quot;000006.SZ&quot;</td><td>0.512821</td></tr><tr><td>&hellip;</td><td>&hellip;</td></tr><tr><td>&quot;603002.SH&quot;</td><td>0.433333</td></tr><tr><td>&quot;603123.SH&quot;</td><td>0.317073</td></tr><tr><td>&quot;603128.SH&quot;</td><td>0.478261</td></tr><tr><td>&quot;603333.SH&quot;</td><td>0.358974</td></tr><tr><td>&quot;603366.SH&quot;</td><td>0.37931</td></tr></tbody></table></div>"
      ],
      "text/plain": [
       "shape: (2_425, 2)\n",
       "┌───────────┬──────────┐\n",
       "│ symbol    ┆ win_rate │\n",
       "│ ---       ┆ ---      │\n",
       "│ str       ┆ f64      │\n",
       "╞═══════════╪══════════╡\n",
       "│ 000001.SZ ┆ 0.418803 │\n",
       "│ 000002.SZ ┆ 0.470085 │\n",
       "│ 000004.SZ ┆ 0.512821 │\n",
       "│ 000005.SZ ┆ 0.153846 │\n",
       "│ 000006.SZ ┆ 0.512821 │\n",
       "│ …         ┆ …        │\n",
       "│ 603002.SH ┆ 0.433333 │\n",
       "│ 603123.SH ┆ 0.317073 │\n",
       "│ 603128.SH ┆ 0.478261 │\n",
       "│ 603333.SH ┆ 0.358974 │\n",
       "│ 603366.SH ┆ 0.37931  │\n",
       "└───────────┴──────────┘"
      ]
     },
     "execution_count": 50,
     "metadata": {},
     "output_type": "execute_result"
    }
   ],
   "source": [
    "(\n",
    "    data\n",
    "    .with_columns(\n",
    "        stkcd_ret = pl.col(\"close\")/pl.col(\"pre_close\") - 1,\n",
    "    )\n",
    "    .group_by(\"symbol\")\n",
    "    .agg(\n",
    "        win_rate = pl.col(\"stkcd_ret\").filter(pl.col(\"stkcd_ret\") > 0).count()/pl.col(\"stkcd_ret\").count()\n",
    "    )\n",
    "    .sort([\"symbol\"])\n",
    ")\n"
   ]
  },
  {
   "cell_type": "markdown",
   "metadata": {},
   "source": [
    "## 50. 每只股票的盈亏比是多少？（盈亏比是正收益之和与负收益之和的比值的绝对值）"
   ]
  },
  {
   "cell_type": "code",
   "execution_count": 51,
   "metadata": {},
   "outputs": [
    {
     "data": {
      "text/html": [
       "<div><style>\n",
       ".dataframe > thead > tr,\n",
       ".dataframe > tbody > tr {\n",
       "  text-align: right;\n",
       "  white-space: pre-wrap;\n",
       "}\n",
       "</style>\n",
       "<small>shape: (2_425, 2)</small><table border=\"1\" class=\"dataframe\"><thead><tr><th>symbol</th><th>win_lose_ratio</th></tr><tr><td>str</td><td>f64</td></tr></thead><tbody><tr><td>&quot;000001.SZ&quot;</td><td>0.971861</td></tr><tr><td>&quot;000002.SZ&quot;</td><td>1.279686</td></tr><tr><td>&quot;000004.SZ&quot;</td><td>1.082869</td></tr><tr><td>&quot;000005.SZ&quot;</td><td>0.553243</td></tr><tr><td>&quot;000006.SZ&quot;</td><td>1.371993</td></tr><tr><td>&hellip;</td><td>&hellip;</td></tr><tr><td>&quot;603002.SH&quot;</td><td>3.327521</td></tr><tr><td>&quot;603123.SH&quot;</td><td>1.415443</td></tr><tr><td>&quot;603128.SH&quot;</td><td>1.266408</td></tr><tr><td>&quot;603333.SH&quot;</td><td>1.020868</td></tr><tr><td>&quot;603366.SH&quot;</td><td>0.716711</td></tr></tbody></table></div>"
      ],
      "text/plain": [
       "shape: (2_425, 2)\n",
       "┌───────────┬────────────────┐\n",
       "│ symbol    ┆ win_lose_ratio │\n",
       "│ ---       ┆ ---            │\n",
       "│ str       ┆ f64            │\n",
       "╞═══════════╪════════════════╡\n",
       "│ 000001.SZ ┆ 0.971861       │\n",
       "│ 000002.SZ ┆ 1.279686       │\n",
       "│ 000004.SZ ┆ 1.082869       │\n",
       "│ 000005.SZ ┆ 0.553243       │\n",
       "│ 000006.SZ ┆ 1.371993       │\n",
       "│ …         ┆ …              │\n",
       "│ 603002.SH ┆ 3.327521       │\n",
       "│ 603123.SH ┆ 1.415443       │\n",
       "│ 603128.SH ┆ 1.266408       │\n",
       "│ 603333.SH ┆ 1.020868       │\n",
       "│ 603366.SH ┆ 0.716711       │\n",
       "└───────────┴────────────────┘"
      ]
     },
     "execution_count": 51,
     "metadata": {},
     "output_type": "execute_result"
    }
   ],
   "source": [
    "(\n",
    "    data\n",
    "    .with_columns(\n",
    "        stkcd_ret = pl.col(\"close\")/pl.col(\"pre_close\") - 1,\n",
    "    )\n",
    "    .group_by(\"symbol\")\n",
    "    .agg(\n",
    "        win_lose_ratio = pl.col(\"stkcd_ret\").filter(pl.col(\"stkcd_ret\") > 0).sum()/pl.col(\"stkcd_ret\").filter(pl.col(\"stkcd_ret\") < 0).abs().sum()\n",
    "    )\n",
    "    .sort([\"symbol\"])\n",
    ")"
   ]
  },
  {
   "cell_type": "markdown",
   "metadata": {},
   "source": [
    "## 51. 市场的胜率是多少？（市场收益率为正的概率）"
   ]
  },
  {
   "cell_type": "code",
   "execution_count": 53,
   "metadata": {},
   "outputs": [
    {
     "data": {
      "text/html": [
       "<div><style>\n",
       ".dataframe > thead > tr,\n",
       ".dataframe > tbody > tr {\n",
       "  text-align: right;\n",
       "  white-space: pre-wrap;\n",
       "}\n",
       "</style>\n",
       "<small>shape: (1, 1)</small><table border=\"1\" class=\"dataframe\"><thead><tr><th>mkt_win_rate</th></tr><tr><td>f64</td></tr></thead><tbody><tr><td>0.486139</td></tr></tbody></table></div>"
      ],
      "text/plain": [
       "shape: (1, 1)\n",
       "┌──────────────┐\n",
       "│ mkt_win_rate │\n",
       "│ ---          │\n",
       "│ f64          │\n",
       "╞══════════════╡\n",
       "│ 0.486139     │\n",
       "└──────────────┘"
      ]
     },
     "execution_count": 53,
     "metadata": {},
     "output_type": "execute_result"
    }
   ],
   "source": [
    "(\n",
    "    data\n",
    "    .with_columns(\n",
    "        stkcd_ret = pl.col(\"close\")/pl.col(\"pre_close\") - 1,\n",
    "        stkcd_weight = (pl.col(\"capt\")/(pl.col(\"capt\").sum())).over(\"date\")\n",
    "    )\n",
    "    .with_columns(\n",
    "        mkt_ret = (pl.col(\"stkcd_ret\")*pl.col(\"stkcd_weight\")).sum().over(\"date\"),\n",
    "        date = pl.col(\"date\")\n",
    "    )\n",
    "    .unique()\n",
    "    .select(\n",
    "        mkt_win_rate = pl.col(\"mkt_ret\").filter(pl.col(\"mkt_ret\") > 0).count()/pl.col(\"mkt_ret\").count()\n",
    "    )\n",
    ")"
   ]
  },
  {
   "cell_type": "markdown",
   "metadata": {},
   "source": [
    "## 52. 市场的盈亏比是多少？（市场中每个股票的市值加权正收益和市值加权负收益之比）"
   ]
  },
  {
   "cell_type": "code",
   "execution_count": 55,
   "metadata": {},
   "outputs": [
    {
     "data": {
      "text/html": [
       "<div><style>\n",
       ".dataframe > thead > tr,\n",
       ".dataframe > tbody > tr {\n",
       "  text-align: right;\n",
       "  white-space: pre-wrap;\n",
       "}\n",
       "</style>\n",
       "<small>shape: (1, 1)</small><table border=\"1\" class=\"dataframe\"><thead><tr><th>mkt_win_lose_ratio</th></tr><tr><td>f64</td></tr></thead><tbody><tr><td>1.147373</td></tr></tbody></table></div>"
      ],
      "text/plain": [
       "shape: (1, 1)\n",
       "┌────────────────────┐\n",
       "│ mkt_win_lose_ratio │\n",
       "│ ---                │\n",
       "│ f64                │\n",
       "╞════════════════════╡\n",
       "│ 1.147373           │\n",
       "└────────────────────┘"
      ]
     },
     "execution_count": 55,
     "metadata": {},
     "output_type": "execute_result"
    }
   ],
   "source": [
    "(\n",
    "    data\n",
    "    .with_columns(\n",
    "        stkcd_ret = pl.col(\"close\")/pl.col(\"pre_close\") - 1,\n",
    "        stkcd_weight = (pl.col(\"capt\")/(pl.col(\"capt\").sum())).over(\"date\")\n",
    "    )\n",
    "    .select(\n",
    "        date = pl.col(\"date\"),\n",
    "        mkt_ret = (pl.col(\"stkcd_ret\")*pl.col(\"stkcd_weight\")).sum().over(\"date\")\n",
    "    )\n",
    "    .unique()\n",
    "    .select(\n",
    "        mkt_win_lose_ratio = pl.col(\"mkt_ret\").filter(pl.col(\"mkt_ret\") > 0).sum()/pl.col(\"mkt_ret\").filter(pl.col(\"mkt_ret\") < 0).abs().sum()\n",
    "    )\n",
    ")"
   ]
  },
  {
   "cell_type": "markdown",
   "metadata": {},
   "source": [
    "## 53. 每个行业的胜率是多少？"
   ]
  },
  {
   "cell_type": "code",
   "execution_count": 56,
   "metadata": {},
   "outputs": [
    {
     "data": {
      "text/html": [
       "<div><style>\n",
       ".dataframe > thead > tr,\n",
       ".dataframe > tbody > tr {\n",
       "  text-align: right;\n",
       "  white-space: pre-wrap;\n",
       "}\n",
       "</style>\n",
       "<small>shape: (32, 2)</small><table border=\"1\" class=\"dataframe\"><thead><tr><th>industry</th><th>ind_win_rate</th></tr><tr><td>str</td><td>f64</td></tr></thead><tbody><tr><td>&quot;AERODEF&quot;</td><td>0.517012</td></tr><tr><td>&quot;AIRLINE&quot;</td><td>0.477225</td></tr><tr><td>&quot;AUTO&quot;</td><td>0.468606</td></tr><tr><td>&quot;BANKS&quot;</td><td>0.461538</td></tr><tr><td>&quot;BEV&quot;</td><td>0.546176</td></tr><tr><td>&hellip;</td><td>&hellip;</td></tr><tr><td>&quot;REALEST&quot;</td><td>0.529745</td></tr><tr><td>&quot;RETAIL&quot;</td><td>0.52108</td></tr><tr><td>&quot;SOFTWARE&quot;</td><td>0.553402</td></tr><tr><td>&quot;TRDDIST&quot;</td><td>0.547009</td></tr><tr><td>&quot;UTILITIE&quot;</td><td>0.547131</td></tr></tbody></table></div>"
      ],
      "text/plain": [
       "shape: (32, 2)\n",
       "┌──────────┬──────────────┐\n",
       "│ industry ┆ ind_win_rate │\n",
       "│ ---      ┆ ---          │\n",
       "│ str      ┆ f64          │\n",
       "╞══════════╪══════════════╡\n",
       "│ AERODEF  ┆ 0.517012     │\n",
       "│ AIRLINE  ┆ 0.477225     │\n",
       "│ AUTO     ┆ 0.468606     │\n",
       "│ BANKS    ┆ 0.461538     │\n",
       "│ BEV      ┆ 0.546176     │\n",
       "│ …        ┆ …            │\n",
       "│ REALEST  ┆ 0.529745     │\n",
       "│ RETAIL   ┆ 0.52108      │\n",
       "│ SOFTWARE ┆ 0.553402     │\n",
       "│ TRDDIST  ┆ 0.547009     │\n",
       "│ UTILITIE ┆ 0.547131     │\n",
       "└──────────┴──────────────┘"
      ]
     },
     "execution_count": 56,
     "metadata": {},
     "output_type": "execute_result"
    }
   ],
   "source": [
    "(\n",
    "    data\n",
    "    .with_columns(\n",
    "        stkcd_ret = pl.col(\"close\")/pl.col(\"pre_close\") - 1,\n",
    "        stkcd_ind_weight = (pl.col(\"capt\")/(pl.col(\"capt\").sum())).over([\"date\", \"industry\"])\n",
    "    )\n",
    "    .with_columns(\n",
    "        ind_ret = (pl.col(\"stkcd_ret\")*pl.col(\"stkcd_ind_weight\")).sum().over([\"date\", \"industry\"])\n",
    "    )\n",
    "    .group_by(\"industry\")\n",
    "    .agg(\n",
    "        ind_win_rate = pl.col(\"ind_ret\").filter(pl.col(\"ind_ret\") > 0).count()/pl.col(\"ind_ret\").count()\n",
    "    )\n",
    "    .sort([\"industry\"])\n",
    ")"
   ]
  },
  {
   "cell_type": "markdown",
   "metadata": {},
   "source": [
    "## 54. 每个行业的盈亏比是多少？（行业盈亏比是行业内每个股票的市值加权的正收益率和市值加权的负收益率之比）"
   ]
  },
  {
   "cell_type": "code",
   "execution_count": 57,
   "metadata": {},
   "outputs": [
    {
     "data": {
      "text/html": [
       "<div><style>\n",
       ".dataframe > thead > tr,\n",
       ".dataframe > tbody > tr {\n",
       "  text-align: right;\n",
       "  white-space: pre-wrap;\n",
       "}\n",
       "</style>\n",
       "<small>shape: (32, 2)</small><table border=\"1\" class=\"dataframe\"><thead><tr><th>industry</th><th>ind_win_lose_ratio</th></tr><tr><td>str</td><td>f64</td></tr></thead><tbody><tr><td>&quot;AERODEF&quot;</td><td>0.982985</td></tr><tr><td>&quot;AIRLINE&quot;</td><td>1.070115</td></tr><tr><td>&quot;AUTO&quot;</td><td>1.113772</td></tr><tr><td>&quot;BANKS&quot;</td><td>1.015873</td></tr><tr><td>&quot;BEV&quot;</td><td>1.279969</td></tr><tr><td>&hellip;</td><td>&hellip;</td></tr><tr><td>&quot;REALEST&quot;</td><td>1.365078</td></tr><tr><td>&quot;RETAIL&quot;</td><td>1.101875</td></tr><tr><td>&quot;SOFTWARE&quot;</td><td>1.062945</td></tr><tr><td>&quot;TRDDIST&quot;</td><td>1.201983</td></tr><tr><td>&quot;UTILITIE&quot;</td><td>1.267119</td></tr></tbody></table></div>"
      ],
      "text/plain": [
       "shape: (32, 2)\n",
       "┌──────────┬────────────────────┐\n",
       "│ industry ┆ ind_win_lose_ratio │\n",
       "│ ---      ┆ ---                │\n",
       "│ str      ┆ f64                │\n",
       "╞══════════╪════════════════════╡\n",
       "│ AERODEF  ┆ 0.982985           │\n",
       "│ AIRLINE  ┆ 1.070115           │\n",
       "│ AUTO     ┆ 1.113772           │\n",
       "│ BANKS    ┆ 1.015873           │\n",
       "│ BEV      ┆ 1.279969           │\n",
       "│ …        ┆ …                  │\n",
       "│ REALEST  ┆ 1.365078           │\n",
       "│ RETAIL   ┆ 1.101875           │\n",
       "│ SOFTWARE ┆ 1.062945           │\n",
       "│ TRDDIST  ┆ 1.201983           │\n",
       "│ UTILITIE ┆ 1.267119           │\n",
       "└──────────┴────────────────────┘"
      ]
     },
     "execution_count": 57,
     "metadata": {},
     "output_type": "execute_result"
    }
   ],
   "source": [
    "(\n",
    "    data\n",
    "    .with_columns(\n",
    "        stkcd_ret = pl.col(\"close\")/pl.col(\"pre_close\") - 1,\n",
    "        stkcd_ind_weight = (pl.col(\"capt\")/(pl.col(\"capt\").sum())).over([\"date\", \"industry\"])\n",
    "    )\n",
    "    .with_columns(\n",
    "        ind_ret = (pl.col(\"stkcd_ret\")*pl.col(\"stkcd_ind_weight\")).sum().over([\"date\", \"industry\"])\n",
    "    )\n",
    "    .group_by(\"industry\")\n",
    "    .agg(\n",
    "        ind_win_lose_ratio = pl.col(\"ind_ret\").filter(pl.col(\"ind_ret\") > 0).sum()/pl.col(\"ind_ret\").filter(pl.col(\"ind_ret\") < 0).abs().sum()\n",
    "    )\n",
    "    .sort([\"industry\"])\n",
    "\n",
    ")"
   ]
  },
  {
   "cell_type": "markdown",
   "metadata": {},
   "source": [
    "## 55. 是否存在股票的月成交额超过所在行业当月中某天一天总成交额的情况？"
   ]
  },
  {
   "cell_type": "code",
   "execution_count": 61,
   "metadata": {},
   "outputs": [
    {
     "data": {
      "text/html": [
       "<div><style>\n",
       ".dataframe > thead > tr,\n",
       ".dataframe > tbody > tr {\n",
       "  text-align: right;\n",
       "  white-space: pre-wrap;\n",
       "}\n",
       "</style>\n",
       "<small>shape: (15_736, 5)</small><table border=\"1\" class=\"dataframe\"><thead><tr><th>symbol</th><th>date_ym</th><th>stkcd_m_amount</th><th>date</th><th>ind_d_amount</th></tr><tr><td>str</td><td>str</td><td>f64</td><td>i64</td><td>f64</td></tr></thead><tbody><tr><td>&quot;000001.SZ&quot;</td><td>&quot;201201&quot;</td><td>2.9727e9</td><td>20120116</td><td>2.8639e9</td></tr><tr><td>&quot;000001.SZ&quot;</td><td>&quot;201202&quot;</td><td>7.8830e9</td><td>20120213</td><td>5.2303e9</td></tr><tr><td>&quot;000001.SZ&quot;</td><td>&quot;201202&quot;</td><td>7.8830e9</td><td>20120210</td><td>5.1547e9</td></tr><tr><td>&quot;000001.SZ&quot;</td><td>&quot;201202&quot;</td><td>7.8830e9</td><td>20120223</td><td>5.7850e9</td></tr><tr><td>&quot;000001.SZ&quot;</td><td>&quot;201202&quot;</td><td>7.8830e9</td><td>20120203</td><td>7.1481e9</td></tr><tr><td>&hellip;</td><td>&hellip;</td><td>&hellip;</td><td>&hellip;</td><td>&hellip;</td></tr><tr><td>&quot;603128.SH&quot;</td><td>&quot;201206&quot;</td><td>2.0597e9</td><td>20120613</td><td>5.7742e8</td></tr><tr><td>&quot;603128.SH&quot;</td><td>&quot;201206&quot;</td><td>2.0597e9</td><td>20120625</td><td>5.7251e8</td></tr><tr><td>&quot;603128.SH&quot;</td><td>&quot;201206&quot;</td><td>2.0597e9</td><td>20120627</td><td>9.1629e8</td></tr><tr><td>&quot;603128.SH&quot;</td><td>&quot;201206&quot;</td><td>2.0597e9</td><td>20120604</td><td>7.7235e8</td></tr><tr><td>&quot;603128.SH&quot;</td><td>&quot;201206&quot;</td><td>2.0597e9</td><td>20120628</td><td>6.8679e8</td></tr></tbody></table></div>"
      ],
      "text/plain": [
       "shape: (15_736, 5)\n",
       "┌───────────┬─────────┬────────────────┬──────────┬──────────────┐\n",
       "│ symbol    ┆ date_ym ┆ stkcd_m_amount ┆ date     ┆ ind_d_amount │\n",
       "│ ---       ┆ ---     ┆ ---            ┆ ---      ┆ ---          │\n",
       "│ str       ┆ str     ┆ f64            ┆ i64      ┆ f64          │\n",
       "╞═══════════╪═════════╪════════════════╪══════════╪══════════════╡\n",
       "│ 000001.SZ ┆ 201201  ┆ 2.9727e9       ┆ 20120116 ┆ 2.8639e9     │\n",
       "│ 000001.SZ ┆ 201202  ┆ 7.8830e9       ┆ 20120213 ┆ 5.2303e9     │\n",
       "│ 000001.SZ ┆ 201202  ┆ 7.8830e9       ┆ 20120210 ┆ 5.1547e9     │\n",
       "│ 000001.SZ ┆ 201202  ┆ 7.8830e9       ┆ 20120223 ┆ 5.7850e9     │\n",
       "│ 000001.SZ ┆ 201202  ┆ 7.8830e9       ┆ 20120203 ┆ 7.1481e9     │\n",
       "│ …         ┆ …       ┆ …              ┆ …        ┆ …            │\n",
       "│ 603128.SH ┆ 201206  ┆ 2.0597e9       ┆ 20120613 ┆ 5.7742e8     │\n",
       "│ 603128.SH ┆ 201206  ┆ 2.0597e9       ┆ 20120625 ┆ 5.7251e8     │\n",
       "│ 603128.SH ┆ 201206  ┆ 2.0597e9       ┆ 20120627 ┆ 9.1629e8     │\n",
       "│ 603128.SH ┆ 201206  ┆ 2.0597e9       ┆ 20120604 ┆ 7.7235e8     │\n",
       "│ 603128.SH ┆ 201206  ┆ 2.0597e9       ┆ 20120628 ┆ 6.8679e8     │\n",
       "└───────────┴─────────┴────────────────┴──────────┴──────────────┘"
      ]
     },
     "execution_count": 61,
     "metadata": {},
     "output_type": "execute_result"
    }
   ],
   "source": [
    "(\n",
    "    data\n",
    "    .with_columns(\n",
    "        date_ym = pl.col(\"date\").cast(str).str.slice(0, 6),\n",
    "        ind_d_amount = pl.col(\"amount\").sum().over([\"date\", \"industry\"])\n",
    "    )\n",
    "    .with_columns(\n",
    "        stkcd_m_amount = pl.col(\"amount\").sum().over([\"date_ym\", \"symbol\"])\n",
    "    )\n",
    "    .filter(\n",
    "        pl.col(\"stkcd_m_amount\") > pl.col(\"ind_d_amount\")\n",
    "    )\n",
    "    .select(\n",
    "        \"symbol\",\n",
    "        \"date_ym\",\n",
    "        \"stkcd_m_amount\",\n",
    "        \"date\",\n",
    "        \"ind_d_amount\"\n",
    "    )\n",
    "    .unique()\n",
    "    .sort([\"symbol\", \"date_ym\"])\n",
    ")\n"
   ]
  },
  {
   "cell_type": "markdown",
   "metadata": {},
   "source": [
    "## 56. 每天每个行业编入、编出的股票各有多少？"
   ]
  },
  {
   "cell_type": "code",
   "execution_count": 41,
   "metadata": {},
   "outputs": [
    {
     "data": {
      "text/html": [
       "<div><style>\n",
       ".dataframe > thead > tr,\n",
       ".dataframe > tbody > tr {\n",
       "  text-align: right;\n",
       "  white-space: pre-wrap;\n",
       "}\n",
       "</style>\n",
       "<small>shape: (3_712, 4)</small><table border=\"1\" class=\"dataframe\"><thead><tr><th>date</th><th>industry</th><th>industry_in</th><th>industry_out</th></tr><tr><td>i64</td><td>str</td><td>u32</td><td>u32</td></tr></thead><tbody><tr><td>20120105</td><td>&quot;AERODEF&quot;</td><td>0</td><td>0</td></tr><tr><td>20120106</td><td>&quot;AERODEF&quot;</td><td>0</td><td>0</td></tr><tr><td>20120109</td><td>&quot;AERODEF&quot;</td><td>0</td><td>0</td></tr><tr><td>20120110</td><td>&quot;AERODEF&quot;</td><td>0</td><td>0</td></tr><tr><td>20120111</td><td>&quot;AERODEF&quot;</td><td>0</td><td>0</td></tr><tr><td>&hellip;</td><td>&hellip;</td><td>&hellip;</td><td>&hellip;</td></tr><tr><td>20120625</td><td>&quot;UTILITIE&quot;</td><td>0</td><td>0</td></tr><tr><td>20120626</td><td>&quot;UTILITIE&quot;</td><td>0</td><td>0</td></tr><tr><td>20120627</td><td>&quot;UTILITIE&quot;</td><td>0</td><td>0</td></tr><tr><td>20120628</td><td>&quot;UTILITIE&quot;</td><td>0</td><td>0</td></tr><tr><td>20120629</td><td>&quot;UTILITIE&quot;</td><td>0</td><td>0</td></tr></tbody></table></div>"
      ],
      "text/plain": [
       "shape: (3_712, 4)\n",
       "┌──────────┬──────────┬─────────────┬──────────────┐\n",
       "│ date     ┆ industry ┆ industry_in ┆ industry_out │\n",
       "│ ---      ┆ ---      ┆ ---         ┆ ---          │\n",
       "│ i64      ┆ str      ┆ u32         ┆ u32          │\n",
       "╞══════════╪══════════╪═════════════╪══════════════╡\n",
       "│ 20120105 ┆ AERODEF  ┆ 0           ┆ 0            │\n",
       "│ 20120106 ┆ AERODEF  ┆ 0           ┆ 0            │\n",
       "│ 20120109 ┆ AERODEF  ┆ 0           ┆ 0            │\n",
       "│ 20120110 ┆ AERODEF  ┆ 0           ┆ 0            │\n",
       "│ 20120111 ┆ AERODEF  ┆ 0           ┆ 0            │\n",
       "│ …        ┆ …        ┆ …           ┆ …            │\n",
       "│ 20120625 ┆ UTILITIE ┆ 0           ┆ 0            │\n",
       "│ 20120626 ┆ UTILITIE ┆ 0           ┆ 0            │\n",
       "│ 20120627 ┆ UTILITIE ┆ 0           ┆ 0            │\n",
       "│ 20120628 ┆ UTILITIE ┆ 0           ┆ 0            │\n",
       "│ 20120629 ┆ UTILITIE ┆ 0           ┆ 0            │\n",
       "└──────────┴──────────┴─────────────┴──────────────┘"
      ]
     },
     "execution_count": 41,
     "metadata": {},
     "output_type": "execute_result"
    }
   ],
   "source": [
    "(\n",
    "    data\n",
    "    .sort([\"symbol\", \"date\"])\n",
    "    .group_by([\"date\", \"industry\"])\n",
    "    .agg(\n",
    "        symbol = pl.col(\"symbol\")\n",
    "    )\n",
    "    .sort([\"industry\", \"date\"])\n",
    "    .with_columns(\n",
    "        symbol_prev = pl.col(\"symbol\").shift(1).over(\"industry\")\n",
    "    )\n",
    "    .filter(\n",
    "        pl.col(\"symbol_prev\").is_not_null()\n",
    "    )\n",
    "    .select(\n",
    "        \"date\",\n",
    "        \"industry\",\n",
    "        industry_in = pl.col(\"symbol\").list.set_intersection(pl.col(\"symbol_prev\")).list.set_symmetric_difference(pl.col(\"symbol\")).len().over([\"date\", \"industry\"]) - 1,\n",
    "        industry_out = pl.col(\"symbol_prev\").list.set_intersection(pl.col(\"symbol\")).list.set_symmetric_difference(pl.col(\"symbol_prev\")).len().over([\"date\", \"industry\"]) - 1\n",
    "    )\n",
    "    .sort([\"industry\", \"date\"])\n",
    ")"
   ]
  },
  {
   "cell_type": "markdown",
   "metadata": {},
   "source": [
    "## 57. 每天每个行业内股票收益率的标准差是多少？"
   ]
  },
  {
   "cell_type": "code",
   "execution_count": 66,
   "metadata": {},
   "outputs": [
    {
     "data": {
      "text/html": [
       "<div><style>\n",
       ".dataframe > thead > tr,\n",
       ".dataframe > tbody > tr {\n",
       "  text-align: right;\n",
       "  white-space: pre-wrap;\n",
       "}\n",
       "</style>\n",
       "<small>shape: (3_744, 3)</small><table border=\"1\" class=\"dataframe\"><thead><tr><th>date</th><th>industry</th><th>ind_ret_std</th></tr><tr><td>i64</td><td>str</td><td>f64</td></tr></thead><tbody><tr><td>20120104</td><td>&quot;AERODEF&quot;</td><td>0.028369</td></tr><tr><td>20120104</td><td>&quot;AIRLINE&quot;</td><td>0.011949</td></tr><tr><td>20120104</td><td>&quot;AUTO&quot;</td><td>0.024044</td></tr><tr><td>20120104</td><td>&quot;BANKS&quot;</td><td>0.008446</td></tr><tr><td>20120104</td><td>&quot;BEV&quot;</td><td>0.02569</td></tr><tr><td>&hellip;</td><td>&hellip;</td><td>&hellip;</td></tr><tr><td>20120629</td><td>&quot;REALEST&quot;</td><td>0.018059</td></tr><tr><td>20120629</td><td>&quot;RETAIL&quot;</td><td>0.015018</td></tr><tr><td>20120629</td><td>&quot;SOFTWARE&quot;</td><td>0.023618</td></tr><tr><td>20120629</td><td>&quot;TRDDIST&quot;</td><td>0.024542</td></tr><tr><td>20120629</td><td>&quot;UTILITIE&quot;</td><td>0.012882</td></tr></tbody></table></div>"
      ],
      "text/plain": [
       "shape: (3_744, 3)\n",
       "┌──────────┬──────────┬─────────────┐\n",
       "│ date     ┆ industry ┆ ind_ret_std │\n",
       "│ ---      ┆ ---      ┆ ---         │\n",
       "│ i64      ┆ str      ┆ f64         │\n",
       "╞══════════╪══════════╪═════════════╡\n",
       "│ 20120104 ┆ AERODEF  ┆ 0.028369    │\n",
       "│ 20120104 ┆ AIRLINE  ┆ 0.011949    │\n",
       "│ 20120104 ┆ AUTO     ┆ 0.024044    │\n",
       "│ 20120104 ┆ BANKS    ┆ 0.008446    │\n",
       "│ 20120104 ┆ BEV      ┆ 0.02569     │\n",
       "│ …        ┆ …        ┆ …           │\n",
       "│ 20120629 ┆ REALEST  ┆ 0.018059    │\n",
       "│ 20120629 ┆ RETAIL   ┆ 0.015018    │\n",
       "│ 20120629 ┆ SOFTWARE ┆ 0.023618    │\n",
       "│ 20120629 ┆ TRDDIST  ┆ 0.024542    │\n",
       "│ 20120629 ┆ UTILITIE ┆ 0.012882    │\n",
       "└──────────┴──────────┴─────────────┘"
      ]
     },
     "execution_count": 66,
     "metadata": {},
     "output_type": "execute_result"
    }
   ],
   "source": [
    "(\n",
    "    data\n",
    "    .with_columns(\n",
    "        stkcd_ret = pl.col(\"close\")/pl.col(\"pre_close\") - 1\n",
    "    )\n",
    "    .group_by([\"date\", \"industry\"])\n",
    "    .agg(\n",
    "        ind_ret_std = pl.col(\"stkcd_ret\").std()\n",
    "    )\n",
    "    .sort([\"date\", \"industry\"])\n",
    ")\n"
   ]
  },
  {
   "cell_type": "markdown",
   "metadata": {},
   "source": [
    "## 58. 每天每个行业内股票收益率的标准差的相关性如何？"
   ]
  },
  {
   "cell_type": "code",
   "execution_count": 68,
   "metadata": {},
   "outputs": [
    {
     "data": {
      "text/html": [
       "<div><style>\n",
       ".dataframe > thead > tr,\n",
       ".dataframe > tbody > tr {\n",
       "  text-align: right;\n",
       "  white-space: pre-wrap;\n",
       "}\n",
       "</style>\n",
       "<small>shape: (32, 32)</small><table border=\"1\" class=\"dataframe\"><thead><tr><th>CNSTENG</th><th>BEV</th><th>CONMAT</th><th>MARINE</th><th>ENERGY</th><th>BANKS</th><th>SOFTWARE</th><th>CHEM</th><th>TRDDIST</th><th>AIRLINE</th><th>RETAIL</th><th>HDWRSEMI</th><th>HOUSEDUR</th><th>MTLMIN</th><th>REALEST</th><th>FOODPROD</th><th>MATERIAL</th><th>PERSPRD</th><th>INDCONG</th><th>HEALTH</th><th>ELECEQP</th><th>AERODEF</th><th>COMSERV</th><th>CONSSERV</th><th>BLDPROD</th><th>MACH</th><th>AUTO</th><th>RDRLTRAN</th><th>DVFININS</th><th>UTILITIE</th><th>MEDIA</th><th>LEISLUX</th></tr><tr><td>f64</td><td>f64</td><td>f64</td><td>f64</td><td>f64</td><td>f64</td><td>f64</td><td>f64</td><td>f64</td><td>f64</td><td>f64</td><td>f64</td><td>f64</td><td>f64</td><td>f64</td><td>f64</td><td>f64</td><td>f64</td><td>f64</td><td>f64</td><td>f64</td><td>f64</td><td>f64</td><td>f64</td><td>f64</td><td>f64</td><td>f64</td><td>f64</td><td>f64</td><td>f64</td><td>f64</td><td>f64</td></tr></thead><tbody><tr><td>1.0</td><td>0.211685</td><td>0.234814</td><td>0.178241</td><td>0.085793</td><td>-0.010451</td><td>0.169888</td><td>0.161459</td><td>0.279617</td><td>0.30127</td><td>0.292674</td><td>0.273154</td><td>0.261188</td><td>0.218982</td><td>0.214717</td><td>0.219454</td><td>0.008943</td><td>0.243457</td><td>0.261523</td><td>0.138424</td><td>0.232307</td><td>0.216828</td><td>0.201579</td><td>0.145106</td><td>0.31394</td><td>0.323047</td><td>0.324969</td><td>0.255077</td><td>0.086317</td><td>0.239629</td><td>0.020133</td><td>0.198186</td></tr><tr><td>0.211685</td><td>1.0</td><td>0.118357</td><td>0.091399</td><td>0.175524</td><td>0.060737</td><td>0.122781</td><td>0.114483</td><td>0.162351</td><td>0.022503</td><td>0.205947</td><td>0.18187</td><td>0.190613</td><td>0.367896</td><td>0.079432</td><td>0.368608</td><td>0.101116</td><td>0.198618</td><td>0.233059</td><td>0.088106</td><td>0.325258</td><td>0.024979</td><td>0.13949</td><td>0.17656</td><td>0.352289</td><td>0.225041</td><td>0.263742</td><td>0.053848</td><td>0.130485</td><td>0.173413</td><td>0.154699</td><td>0.155075</td></tr><tr><td>0.234814</td><td>0.118357</td><td>1.0</td><td>0.371161</td><td>0.234726</td><td>0.203366</td><td>0.036888</td><td>0.146228</td><td>0.267208</td><td>0.170596</td><td>0.201671</td><td>0.254507</td><td>0.292689</td><td>0.414449</td><td>0.349023</td><td>0.40125</td><td>-0.1032</td><td>0.220347</td><td>0.266069</td><td>0.19814</td><td>0.345226</td><td>0.390574</td><td>0.288058</td><td>0.14413</td><td>0.210249</td><td>0.45348</td><td>0.289746</td><td>0.200052</td><td>0.063296</td><td>0.282961</td><td>0.049189</td><td>0.207454</td></tr><tr><td>0.178241</td><td>0.091399</td><td>0.371161</td><td>1.0</td><td>0.282463</td><td>0.138152</td><td>0.059437</td><td>0.362684</td><td>0.311701</td><td>0.269741</td><td>0.291913</td><td>0.198822</td><td>0.264346</td><td>0.184248</td><td>0.344272</td><td>0.289301</td><td>-0.005328</td><td>0.225455</td><td>0.182146</td><td>0.186337</td><td>0.43471</td><td>0.139021</td><td>0.275018</td><td>0.298295</td><td>0.15774</td><td>0.343466</td><td>0.398957</td><td>0.336982</td><td>0.128921</td><td>0.240108</td><td>0.044119</td><td>0.224438</td></tr><tr><td>0.085793</td><td>0.175524</td><td>0.234726</td><td>0.282463</td><td>1.0</td><td>0.094106</td><td>0.207162</td><td>0.098007</td><td>0.233825</td><td>0.162216</td><td>0.114812</td><td>0.100129</td><td>0.260636</td><td>0.298089</td><td>0.119741</td><td>0.279178</td><td>-0.034098</td><td>0.092908</td><td>0.042534</td><td>0.236946</td><td>0.270104</td><td>0.178778</td><td>0.079359</td><td>0.236467</td><td>0.152216</td><td>0.227108</td><td>0.299223</td><td>0.096474</td><td>0.04324</td><td>0.323743</td><td>0.044128</td><td>0.100461</td></tr><tr><td>&hellip;</td><td>&hellip;</td><td>&hellip;</td><td>&hellip;</td><td>&hellip;</td><td>&hellip;</td><td>&hellip;</td><td>&hellip;</td><td>&hellip;</td><td>&hellip;</td><td>&hellip;</td><td>&hellip;</td><td>&hellip;</td><td>&hellip;</td><td>&hellip;</td><td>&hellip;</td><td>&hellip;</td><td>&hellip;</td><td>&hellip;</td><td>&hellip;</td><td>&hellip;</td><td>&hellip;</td><td>&hellip;</td><td>&hellip;</td><td>&hellip;</td><td>&hellip;</td><td>&hellip;</td><td>&hellip;</td><td>&hellip;</td><td>&hellip;</td><td>&hellip;</td><td>&hellip;</td></tr><tr><td>0.255077</td><td>0.053848</td><td>0.200052</td><td>0.336982</td><td>0.096474</td><td>0.132156</td><td>0.085293</td><td>0.542983</td><td>0.500018</td><td>0.238502</td><td>0.306438</td><td>0.253383</td><td>0.338366</td><td>0.347636</td><td>0.492157</td><td>0.339467</td><td>-0.000864</td><td>0.336614</td><td>0.185453</td><td>0.200296</td><td>0.424786</td><td>0.23462</td><td>0.319976</td><td>0.269201</td><td>0.405853</td><td>0.50416</td><td>0.460378</td><td>1.0</td><td>0.121807</td><td>0.330821</td><td>-0.041206</td><td>0.219908</td></tr><tr><td>0.086317</td><td>0.130485</td><td>0.063296</td><td>0.128921</td><td>0.04324</td><td>0.053598</td><td>-0.042095</td><td>0.094325</td><td>0.188584</td><td>0.192232</td><td>0.7349</td><td>-0.0284</td><td>0.073474</td><td>0.143136</td><td>0.074021</td><td>0.149385</td><td>-0.051507</td><td>0.110229</td><td>0.110727</td><td>0.211297</td><td>0.14321</td><td>0.013695</td><td>0.048544</td><td>0.027886</td><td>0.064916</td><td>0.155739</td><td>0.214957</td><td>0.121807</td><td>1.0</td><td>0.205193</td><td>-0.040323</td><td>0.091705</td></tr><tr><td>0.239629</td><td>0.173413</td><td>0.282961</td><td>0.240108</td><td>0.323743</td><td>0.263463</td><td>0.267398</td><td>0.236075</td><td>0.36098</td><td>0.132329</td><td>0.385845</td><td>0.276219</td><td>0.492923</td><td>0.471838</td><td>0.357547</td><td>0.554736</td><td>0.032338</td><td>0.286892</td><td>0.319275</td><td>0.418128</td><td>0.457004</td><td>0.257165</td><td>0.32081</td><td>0.286851</td><td>0.34981</td><td>0.43198</td><td>0.322791</td><td>0.330821</td><td>0.205193</td><td>1.0</td><td>0.063469</td><td>0.377272</td></tr><tr><td>0.020133</td><td>0.154699</td><td>0.049189</td><td>0.044119</td><td>0.044128</td><td>-0.038437</td><td>0.016342</td><td>-0.002682</td><td>0.095836</td><td>0.004517</td><td>0.056686</td><td>0.067494</td><td>0.089544</td><td>0.063296</td><td>0.070418</td><td>0.153969</td><td>-0.006598</td><td>0.043118</td><td>0.094028</td><td>0.081821</td><td>0.063065</td><td>0.055022</td><td>0.064871</td><td>-0.032764</td><td>0.002654</td><td>0.077862</td><td>0.101366</td><td>-0.041206</td><td>-0.040323</td><td>0.063469</td><td>1.0</td><td>0.112526</td></tr><tr><td>0.198186</td><td>0.155075</td><td>0.207454</td><td>0.224438</td><td>0.100461</td><td>0.191776</td><td>0.141356</td><td>0.265262</td><td>0.193347</td><td>0.126433</td><td>0.260278</td><td>0.245797</td><td>0.369885</td><td>0.246047</td><td>0.303149</td><td>0.397775</td><td>0.005469</td><td>0.277964</td><td>0.317281</td><td>0.170533</td><td>0.365395</td><td>0.152759</td><td>0.213476</td><td>0.086793</td><td>0.283086</td><td>0.448517</td><td>0.328734</td><td>0.219908</td><td>0.091705</td><td>0.377272</td><td>0.112526</td><td>1.0</td></tr></tbody></table></div>"
      ],
      "text/plain": [
       "shape: (32, 32)\n",
       "┌──────────┬──────────┬──────────┬──────────┬───┬───────────┬──────────┬───────────┬──────────┐\n",
       "│ CNSTENG  ┆ BEV      ┆ CONMAT   ┆ MARINE   ┆ … ┆ DVFININS  ┆ UTILITIE ┆ MEDIA     ┆ LEISLUX  │\n",
       "│ ---      ┆ ---      ┆ ---      ┆ ---      ┆   ┆ ---       ┆ ---      ┆ ---       ┆ ---      │\n",
       "│ f64      ┆ f64      ┆ f64      ┆ f64      ┆   ┆ f64       ┆ f64      ┆ f64       ┆ f64      │\n",
       "╞══════════╪══════════╪══════════╪══════════╪═══╪═══════════╪══════════╪═══════════╪══════════╡\n",
       "│ 1.0      ┆ 0.211685 ┆ 0.234814 ┆ 0.178241 ┆ … ┆ 0.086317  ┆ 0.239629 ┆ 0.020133  ┆ 0.198186 │\n",
       "│ 0.211685 ┆ 1.0      ┆ 0.118357 ┆ 0.091399 ┆ … ┆ 0.130485  ┆ 0.173413 ┆ 0.154699  ┆ 0.155075 │\n",
       "│ 0.234814 ┆ 0.118357 ┆ 1.0      ┆ 0.371161 ┆ … ┆ 0.063296  ┆ 0.282961 ┆ 0.049189  ┆ 0.207454 │\n",
       "│ 0.178241 ┆ 0.091399 ┆ 0.371161 ┆ 1.0      ┆ … ┆ 0.128921  ┆ 0.240108 ┆ 0.044119  ┆ 0.224438 │\n",
       "│ 0.085793 ┆ 0.175524 ┆ 0.234726 ┆ 0.282463 ┆ … ┆ 0.04324   ┆ 0.323743 ┆ 0.044128  ┆ 0.100461 │\n",
       "│ …        ┆ …        ┆ …        ┆ …        ┆ … ┆ …         ┆ …        ┆ …         ┆ …        │\n",
       "│ 0.255077 ┆ 0.053848 ┆ 0.200052 ┆ 0.336982 ┆ … ┆ 0.121807  ┆ 0.330821 ┆ -0.041206 ┆ 0.219908 │\n",
       "│ 0.086317 ┆ 0.130485 ┆ 0.063296 ┆ 0.128921 ┆ … ┆ 1.0       ┆ 0.205193 ┆ -0.040323 ┆ 0.091705 │\n",
       "│ 0.239629 ┆ 0.173413 ┆ 0.282961 ┆ 0.240108 ┆ … ┆ 0.205193  ┆ 1.0      ┆ 0.063469  ┆ 0.377272 │\n",
       "│ 0.020133 ┆ 0.154699 ┆ 0.049189 ┆ 0.044119 ┆ … ┆ -0.040323 ┆ 0.063469 ┆ 1.0       ┆ 0.112526 │\n",
       "│ 0.198186 ┆ 0.155075 ┆ 0.207454 ┆ 0.224438 ┆ … ┆ 0.091705  ┆ 0.377272 ┆ 0.112526  ┆ 1.0      │\n",
       "└──────────┴──────────┴──────────┴──────────┴───┴───────────┴──────────┴───────────┴──────────┘"
      ]
     },
     "execution_count": 68,
     "metadata": {},
     "output_type": "execute_result"
    }
   ],
   "source": [
    "(\n",
    "    data\n",
    "    .with_columns(\n",
    "        stkcd_ret = pl.col(\"close\")/pl.col(\"pre_close\") - 1\n",
    "    )\n",
    "    .group_by([\"date\", \"industry\"])\n",
    "    .agg(\n",
    "        ind_ret_std = pl.col(\"stkcd_ret\").std()\n",
    "    )\n",
    "    .pivot(\n",
    "        \"industry\",\n",
    "        index = \"date\",\n",
    "        values = \"ind_ret_std\",\n",
    "        aggregate_function = \"first\"\n",
    "    )\n",
    "    .select(\n",
    "        pl.exclude(\"date\")\n",
    "    )\n",
    "    .corr()\n",
    ")\n",
    "## 59. 每天计算出成交额的 z-score （减去均值除以标准差）, 该指标能解释下一天个股超额收益率的多少比例？"
   ]
  },
  {
   "cell_type": "markdown",
   "metadata": {},
   "source": [
    "## 59. 每天计算出成交额的 z-score （减去均值除以标准差）, 该指标能解释下一天个股超额收益率的多少比例？"
   ]
  },
  {
   "cell_type": "code",
   "execution_count": 16,
   "metadata": {},
   "outputs": [
    {
     "data": {
      "text/html": [
       "<div><style>\n",
       ".dataframe > thead > tr,\n",
       ".dataframe > tbody > tr {\n",
       "  text-align: right;\n",
       "  white-space: pre-wrap;\n",
       "}\n",
       "</style>\n",
       "<small>shape: (1, 1)</small><table border=\"1\" class=\"dataframe\"><thead><tr><th>literal</th></tr><tr><td>f64</td></tr></thead><tbody><tr><td>0.263594</td></tr></tbody></table></div>"
      ],
      "text/plain": [
       "shape: (1, 1)\n",
       "┌──────────┐\n",
       "│ literal  │\n",
       "│ ---      │\n",
       "│ f64      │\n",
       "╞══════════╡\n",
       "│ 0.263594 │\n",
       "└──────────┘"
      ]
     },
     "execution_count": 16,
     "metadata": {},
     "output_type": "execute_result"
    }
   ],
   "source": [
    "import polars_ds as pds\n",
    "(\n",
    "    data\n",
    "    .with_columns(\n",
    "        stkcd_ret = pl.col(\"close\")/pl.col(\"pre_close\") - 1,\n",
    "        amount_z_score = (pl.col(\"amount\") - pl.col(\"amount\").mean().over(\"date\"))/pl.col(\"amount\").std().over(\"date\"),\n",
    "    )\n",
    "    .select(\n",
    "        \"symbol\",\n",
    "        \"date\",\n",
    "        pl.col(\"amount_z_score\").shift(1).over(\"symbol\").alias(\"amount_z_score\"),\n",
    "        \"stkcd_ret\"\n",
    "    )\n",
    "    .with_columns(\n",
    "        pds.lin_reg(\n",
    "            pl.col(\"amount_z_score\"),\n",
    "            target = pl.col(\"stkcd_ret\"),\n",
    "            add_bias = True,\n",
    "            return_pred = True\n",
    "        )\n",
    "        .alias(\"prediction\")\n",
    "    )\n",
    "    .unnest(\"prediction\")\n",
    "    .filter(\n",
    "        ~pl.col(\"pred\").is_nan()\n",
    "    )\n",
    "    .select(\n",
    "        1 - (pl.col(\"resid\").pow(2).sum())\n",
    "        /(pl.col(\"stkcd_ret\") - pl.col(\"stkcd_ret\").mean().pow(2)).sum()\n",
    "    )\n",
    ")"
   ]
  },
  {
   "cell_type": "markdown",
   "metadata": {},
   "source": [
    "## 60. 每个股票的收益率和300、500指数收益率可以回归出一个截距项和2个beta，这两个beta的分布如何？"
   ]
  },
  {
   "cell_type": "code",
   "execution_count": 51,
   "metadata": {},
   "outputs": [
    {
     "data": {
      "text/html": [
       "<div><style>\n",
       ".dataframe > thead > tr,\n",
       ".dataframe > tbody > tr {\n",
       "  text-align: right;\n",
       "  white-space: pre-wrap;\n",
       "}\n",
       "</style>\n",
       "<small>shape: (1, 4)</small><table border=\"1\" class=\"dataframe\"><thead><tr><th>beta_300_mean</th><th>beta_500_mean</th><th>beta_300_var</th><th>beta_500_var</th></tr><tr><td>f64</td><td>f64</td><td>f64</td><td>f64</td></tr></thead><tbody><tr><td>-0.114669</td><td>1.083144</td><td>1.572318</td><td>1.77177</td></tr></tbody></table></div>"
      ],
      "text/plain": [
       "shape: (1, 4)\n",
       "┌───────────────┬───────────────┬──────────────┬──────────────┐\n",
       "│ beta_300_mean ┆ beta_500_mean ┆ beta_300_var ┆ beta_500_var │\n",
       "│ ---           ┆ ---           ┆ ---          ┆ ---          │\n",
       "│ f64           ┆ f64           ┆ f64          ┆ f64          │\n",
       "╞═══════════════╪═══════════════╪══════════════╪══════════════╡\n",
       "│ -0.114669     ┆ 1.083144      ┆ 1.572318     ┆ 1.77177      │\n",
       "└───────────────┴───────────────┴──────────────┴──────────────┘"
      ]
     },
     "execution_count": 51,
     "metadata": {},
     "output_type": "execute_result"
    }
   ],
   "source": [
    "import polars_ds as pds\n",
    "(\n",
    "    data\n",
    "    .with_columns(\n",
    "        stkcd_ret = pl.col(\"close\")/pl.col(\"pre_close\") - 1\n",
    "    )\n",
    "    .select(\n",
    "        date = pl.col(\"date\"),\n",
    "        symbol = pl.col(\"symbol\"),\n",
    "        stkcd_ret = pl.col(\"stkcd_ret\"),\n",
    "        index_300_ret = (pl.col(\"stkcd_ret\") * pl.col(\"index_w300\")).sum().over(\"date\"),\n",
    "        index_500_ret = (pl.col(\"stkcd_ret\") * pl.col(\"index_w500\")).sum().over(\"date\")\n",
    "    )\n",
    "    .select(\n",
    "        \"symbol\",\n",
    "        pds.lin_reg(    \n",
    "            pl.col(\"index_300_ret\"), pl.col(\"index_500_ret\"),\n",
    "            target = pl.col(\"stkcd_ret\"),\n",
    "            add_bias = False\n",
    "        )\n",
    "        .over(\"symbol\")\n",
    "        .alias(\"betas\")\n",
    "    )\n",
    "    .unique()\n",
    "    .select(\n",
    "        [\n",
    "        pl.col(\"betas\").list.get(0).alias(\"beta_300\"),\n",
    "        pl.col(\"betas\").list.get(1).alias(\"beta_500\")\n",
    "        ]\n",
    "    )\n",
    "    .select(\n",
    "        beta_300_mean = pl.col(\"beta_300\").mean(),\n",
    "        beta_500_mean = pl.col(\"beta_500\").mean(),\n",
    "        beta_300_var = pl.col(\"beta_300\").var(),\n",
    "        beta_500_var = pl.col(\"beta_500\").var()\n",
    "    )\n",
    ")"
   ]
  },
  {
   "cell_type": "markdown",
   "metadata": {},
   "source": [
    "## 61. 每天开盘后到最高价涨幅最大的100只股票同样也是全天(昨收到今收)涨幅最大的100只股票的比例是多少?"
   ]
  },
  {
   "cell_type": "code",
   "execution_count": 75,
   "metadata": {},
   "outputs": [
    {
     "data": {
      "text/html": [
       "<div><style>\n",
       ".dataframe > thead > tr,\n",
       ".dataframe > tbody > tr {\n",
       "  text-align: right;\n",
       "  white-space: pre-wrap;\n",
       "}\n",
       "</style>\n",
       "<small>shape: (1, 1)</small><table border=\"1\" class=\"dataframe\"><thead><tr><th>date</th></tr><tr><td>f64</td></tr></thead><tbody><tr><td>0.0</td></tr></tbody></table></div>"
      ],
      "text/plain": [
       "shape: (1, 1)\n",
       "┌──────┐\n",
       "│ date │\n",
       "│ ---  │\n",
       "│ f64  │\n",
       "╞══════╡\n",
       "│ 0.0  │\n",
       "└──────┘"
      ]
     },
     "execution_count": 75,
     "metadata": {},
     "output_type": "execute_result"
    }
   ],
   "source": [
    "(\n",
    "    data\n",
    "    .with_columns(\n",
    "        open_high = pl.col(\"high\") / pl.col(\"open\") - 1,\n",
    "        close_preclose = pl.col(\"close\") / pl.col(\"pre_close\") - 1\n",
    "    )\n",
    "    .group_by(\"date\")\n",
    "    .agg(\n",
    "        # date = pl.col(\"date\"),\n",
    "        open_high_100 = pl.col(\"symbol\").sort_by(\"open_high\", descending = True).head(100),\n",
    "        close_preclose_100 = pl.col(\"symbol\").sort_by(\"close_preclose\", descending = True).head(100)\n",
    "    )\n",
    "    .sort(\"date\")\n",
    "    .select(\n",
    "        date = pl.col(\"date\"),\n",
    "        diff = pl.col(\"open_high_100\").list.set_intersection(pl.col(\"close_preclose_100\")).list.len()\n",
    "    )\n",
    "    .select(\n",
    "        pl.col(\"date\").filter(pl.col(\"diff\") == 100).count()/pl.col(\"date\").count()\n",
    "    )\n",
    ")"
   ]
  },
  {
   "cell_type": "markdown",
   "metadata": {},
   "source": [
    "## 62. 每天计算最近三天每天对市场的超额收益率都排进当天前100的股票有哪些?"
   ]
  },
  {
   "cell_type": "code",
   "execution_count": 112,
   "metadata": {},
   "outputs": [
    {
     "data": {
      "text/html": [
       "<div><style>\n",
       ".dataframe > thead > tr,\n",
       ".dataframe > tbody > tr {\n",
       "  text-align: right;\n",
       "  white-space: pre-wrap;\n",
       "}\n",
       "</style>\n",
       "<small>shape: (101, 2)</small><table border=\"1\" class=\"dataframe\"><thead><tr><th>date</th><th>symbol</th></tr><tr><td>i64</td><td>list[str]</td></tr></thead><tbody><tr><td>20120109</td><td>[&quot;600462.SH&quot;]</td></tr><tr><td>20120110</td><td>[&quot;000791.SZ&quot;]</td></tr><tr><td>20120111</td><td>[&quot;000034.SZ&quot;, &quot;000552.SZ&quot;, … &quot;600792.SH&quot;]</td></tr><tr><td>20120112</td><td>[&quot;000034.SZ&quot;, &quot;000552.SZ&quot;, … &quot;600792.SH&quot;]</td></tr><tr><td>20120113</td><td>[&quot;000552.SZ&quot;, &quot;000856.SZ&quot;, … &quot;600792.SH&quot;]</td></tr><tr><td>&hellip;</td><td>&hellip;</td></tr><tr><td>20120621</td><td>[&quot;002180.SZ&quot;, &quot;300205.SZ&quot;, &quot;300328.SZ&quot;]</td></tr><tr><td>20120625</td><td>[&quot;002180.SZ&quot;, &quot;002684.SZ&quot;, &quot;300250.SZ&quot;]</td></tr><tr><td>20120627</td><td>[&quot;000971.SZ&quot;, &quot;002320.SZ&quot;, … &quot;600896.SH&quot;]</td></tr><tr><td>20120628</td><td>[&quot;002596.SZ&quot;, &quot;300084.SZ&quot;]</td></tr><tr><td>20120629</td><td>[&quot;002653.SZ&quot;, &quot;300128.SZ&quot;, … &quot;600702.SH&quot;]</td></tr></tbody></table></div>"
      ],
      "text/plain": [
       "shape: (101, 2)\n",
       "┌──────────┬─────────────────────────────────┐\n",
       "│ date     ┆ symbol                          │\n",
       "│ ---      ┆ ---                             │\n",
       "│ i64      ┆ list[str]                       │\n",
       "╞══════════╪═════════════════════════════════╡\n",
       "│ 20120109 ┆ [\"600462.SH\"]                   │\n",
       "│ 20120110 ┆ [\"000791.SZ\"]                   │\n",
       "│ 20120111 ┆ [\"000034.SZ\", \"000552.SZ\", … \"… │\n",
       "│ 20120112 ┆ [\"000034.SZ\", \"000552.SZ\", … \"… │\n",
       "│ 20120113 ┆ [\"000552.SZ\", \"000856.SZ\", … \"… │\n",
       "│ …        ┆ …                               │\n",
       "│ 20120621 ┆ [\"002180.SZ\", \"300205.SZ\", \"30… │\n",
       "│ 20120625 ┆ [\"002180.SZ\", \"002684.SZ\", \"30… │\n",
       "│ 20120627 ┆ [\"000971.SZ\", \"002320.SZ\", … \"… │\n",
       "│ 20120628 ┆ [\"002596.SZ\", \"300084.SZ\"]      │\n",
       "│ 20120629 ┆ [\"002653.SZ\", \"300128.SZ\", … \"… │\n",
       "└──────────┴─────────────────────────────────┘"
      ]
     },
     "execution_count": 112,
     "metadata": {},
     "output_type": "execute_result"
    }
   ],
   "source": [
    "import polars_ds as pds\n",
    "(\n",
    "    data\n",
    "    .with_columns(\n",
    "        stkcd_ret = pl.col(\"close\")/pl.col(\"pre_close\") - 1,\n",
    "        stkcd_weight = ((pl.col(\"capt\")/(pl.col(\"capt\").sum())) - 1).over('date')\n",
    "    )\n",
    "    .select(\n",
    "        date = pl.col(\"date\"),\n",
    "        symbol = pl.col(\"symbol\"),\n",
    "        stkcd_ret = pl.col(\"stkcd_ret\"),\n",
    "        mkt_ret = (pl.col(\"stkcd_ret\") * pl.col(\"stkcd_weight\")).sum().over(\"date\")\n",
    "    )\n",
    "    .with_columns(\n",
    "        pds.lin_reg(\n",
    "            pl.col(\"mkt_ret\"),\n",
    "            target = pl.col(\"stkcd_ret\"),\n",
    "            add_bias = True,\n",
    "            return_pred = True\n",
    "        )\n",
    "        .over(\"symbol\")\n",
    "        .alias(\"prediction\")\n",
    "    )\n",
    "    .unnest(\"prediction\")\n",
    "    .sort([\"date\", \"resid\"], descending = [False, True])\n",
    "    .with_columns(\n",
    "        rank = pl.col(\"resid\").rank(descending=True).over(\"date\")\n",
    "    )\n",
    "    .with_columns(\n",
    "        is_top_100 = pl.when(pl.col(\"rank\") <= 100).then(1).otherwise(0)\n",
    "    )\n",
    "    .sort([\"symbol\", \"date\"])\n",
    "    .with_columns(\n",
    "        rolling_top_100 = pl.col(\"is_top_100\").rolling_sum(window_size=3).over(\"symbol\")\n",
    "    )\n",
    "    .filter(\n",
    "        pl.col(\"rolling_top_100\") == 3\n",
    "    )\n",
    "    .group_by(\"date\")\n",
    "    .agg(\n",
    "        pl.col(\"symbol\")\n",
    "    )\n",
    "    .sort(\"date\")\n",
    ")"
   ]
  },
  {
   "cell_type": "markdown",
   "metadata": {},
   "source": [
    "## 63. 每天计算最近三天每天对行业的超额收益率都排进当天行业前30%的股票有哪些?"
   ]
  },
  {
   "cell_type": "code",
   "execution_count": 114,
   "metadata": {},
   "outputs": [
    {
     "data": {
      "text/html": [
       "<div><style>\n",
       ".dataframe > thead > tr,\n",
       ".dataframe > tbody > tr {\n",
       "  text-align: right;\n",
       "  white-space: pre-wrap;\n",
       "}\n",
       "</style>\n",
       "<small>shape: (105, 2)</small><table border=\"1\" class=\"dataframe\"><thead><tr><th>date</th><th>symbol</th></tr><tr><td>i64</td><td>list[str]</td></tr></thead><tbody><tr><td>20120109</td><td>[&quot;002164.SZ&quot;, &quot;600462.SH&quot;]</td></tr><tr><td>20120110</td><td>[&quot;000791.SZ&quot;]</td></tr><tr><td>20120111</td><td>[&quot;000034.SZ&quot;, &quot;000791.SZ&quot;, … &quot;600792.SH&quot;]</td></tr><tr><td>20120112</td><td>[&quot;000034.SZ&quot;, &quot;000552.SZ&quot;, … &quot;600792.SH&quot;]</td></tr><tr><td>20120113</td><td>[&quot;000552.SZ&quot;, &quot;000856.SZ&quot;, … &quot;600792.SH&quot;]</td></tr><tr><td>&hellip;</td><td>&hellip;</td></tr><tr><td>20120625</td><td>[&quot;002180.SZ&quot;, &quot;002549.SZ&quot;, … &quot;300326.SZ&quot;]</td></tr><tr><td>20120626</td><td>[&quot;600401.SH&quot;]</td></tr><tr><td>20120627</td><td>[&quot;000971.SZ&quot;, &quot;002320.SZ&quot;, … &quot;600679.SH&quot;]</td></tr><tr><td>20120628</td><td>[&quot;002596.SZ&quot;, &quot;300084.SZ&quot;]</td></tr><tr><td>20120629</td><td>[&quot;002475.SZ&quot;, &quot;002653.SZ&quot;, … &quot;600702.SH&quot;]</td></tr></tbody></table></div>"
      ],
      "text/plain": [
       "shape: (105, 2)\n",
       "┌──────────┬─────────────────────────────────┐\n",
       "│ date     ┆ symbol                          │\n",
       "│ ---      ┆ ---                             │\n",
       "│ i64      ┆ list[str]                       │\n",
       "╞══════════╪═════════════════════════════════╡\n",
       "│ 20120109 ┆ [\"002164.SZ\", \"600462.SH\"]      │\n",
       "│ 20120110 ┆ [\"000791.SZ\"]                   │\n",
       "│ 20120111 ┆ [\"000034.SZ\", \"000791.SZ\", … \"… │\n",
       "│ 20120112 ┆ [\"000034.SZ\", \"000552.SZ\", … \"… │\n",
       "│ 20120113 ┆ [\"000552.SZ\", \"000856.SZ\", … \"… │\n",
       "│ …        ┆ …                               │\n",
       "│ 20120625 ┆ [\"002180.SZ\", \"002549.SZ\", … \"… │\n",
       "│ 20120626 ┆ [\"600401.SH\"]                   │\n",
       "│ 20120627 ┆ [\"000971.SZ\", \"002320.SZ\", … \"… │\n",
       "│ 20120628 ┆ [\"002596.SZ\", \"300084.SZ\"]      │\n",
       "│ 20120629 ┆ [\"002475.SZ\", \"002653.SZ\", … \"… │\n",
       "└──────────┴─────────────────────────────────┘"
      ]
     },
     "execution_count": 114,
     "metadata": {},
     "output_type": "execute_result"
    }
   ],
   "source": [
    "import polars_ds as pds\n",
    "(\n",
    "    data\n",
    "    .with_columns(\n",
    "        stkcd_ret = pl.col(\"close\")/pl.col(\"pre_close\") - 1,\n",
    "        stkcd_weight = ((pl.col(\"capt\")/(pl.col(\"capt\").sum())) - 1).over(['date', \"industry\"])\n",
    "    )\n",
    "    .select(\n",
    "        date = pl.col(\"date\"),\n",
    "        symbol = pl.col(\"symbol\"),\n",
    "        industry = pl.col(\"industry\"),\n",
    "        stkcd_ret = pl.col(\"stkcd_ret\"),\n",
    "        ind_ret = (pl.col(\"stkcd_ret\") * pl.col(\"stkcd_weight\")).sum().over([\"date\", \"industry\"])\n",
    "    )\n",
    "    .with_columns(\n",
    "        pds.lin_reg(\n",
    "            pl.col(\"ind_ret\"),\n",
    "            target = pl.col(\"stkcd_ret\"),\n",
    "            add_bias = True,\n",
    "            return_pred = True\n",
    "        )\n",
    "        .over(\"symbol\")\n",
    "        .alias(\"prediction\")\n",
    "    )\n",
    "    .unnest(\"prediction\")\n",
    "    .sort([\"date\", \"resid\"], descending = [False, True])\n",
    "    .with_columns(\n",
    "        rank = pl.col(\"resid\").rank(descending=True).over(\"date\")\n",
    "    )\n",
    "    .with_columns(\n",
    "        is_top_100 = pl.when(pl.col(\"rank\") <= 100).then(1).otherwise(0)\n",
    "    )\n",
    "    .sort([\"symbol\", \"date\"])\n",
    "    .with_columns(\n",
    "        rolling_top_100 = pl.col(\"is_top_100\").rolling_sum(window_size=3).over(\"symbol\")\n",
    "    )\n",
    "    .filter(\n",
    "        pl.col(\"rolling_top_100\") == 3\n",
    "    )\n",
    "    .group_by(\"date\")\n",
    "    .agg(\n",
    "        pl.col(\"symbol\")\n",
    "    )\n",
    "    .sort(\"date\")\n",
    ")"
   ]
  },
  {
   "cell_type": "code",
   "execution_count": null,
   "metadata": {},
   "outputs": [],
   "source": []
  }
 ],
 "metadata": {
  "kernelspec": {
   "display_name": "Python 3",
   "language": "python",
   "name": "python3"
  },
  "language_info": {
   "codemirror_mode": {
    "name": "ipython",
    "version": 3
   },
   "file_extension": ".py",
   "mimetype": "text/x-python",
   "name": "python",
   "nbconvert_exporter": "python",
   "pygments_lexer": "ipython3",
   "version": "3.11.9"
  },
  "polyglot_notebook": {
   "kernelInfo": {
    "defaultKernelName": "csharp",
    "items": [
     {
      "aliases": [],
      "name": "csharp"
     }
    ]
   }
  }
 },
 "nbformat": 4,
 "nbformat_minor": 2
}
